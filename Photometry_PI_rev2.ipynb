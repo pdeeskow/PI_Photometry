{
 "cells": [
  {
   "cell_type": "code",
   "execution_count": 1,
   "id": "06bcb691",
   "metadata": {},
   "outputs": [],
   "source": [
    "import os\n",
    "import pandas as pd\n",
    "import matplotlib as mpl\n",
    "import matplotlib.pyplot as plt\n",
    "import scipy as sp\n",
    "import numpy as np\n",
    "import math\n",
    "from astropy import time, coordinates as coord, units as u\n",
    "import requests\n",
    "import matplotlib.dates as mdates\n",
    "from pandas.plotting import table"
   ]
  },
  {
   "cell_type": "markdown",
   "id": "ade16fca",
   "metadata": {},
   "source": [
    "Path to PixInsight photometry result files"
   ]
  },
  {
   "cell_type": "code",
   "execution_count": 3,
   "id": "c361f36a",
   "metadata": {},
   "outputs": [],
   "source": [
    "target=\"W UMa\"\n",
    "path=\"D:\\\\Astronomie\\\\SharpCap Captures\\\\20250309\\\\WUma\\\\work\\\\photometry\"\n",
    "filelist=os.listdir(path)"
   ]
  },
  {
   "cell_type": "markdown",
   "id": "ea005de9",
   "metadata": {},
   "source": [
    "Get AAVSO data from target variable"
   ]
  },
  {
   "cell_type": "code",
   "execution_count": 4,
   "id": "e673b28f",
   "metadata": {},
   "outputs": [
    {
     "data": {
      "text/plain": [
       "{'Name': 'W UMa',\n",
       " 'AUID': '000-BBQ-676',\n",
       " 'RA2000': '145.93946',\n",
       " 'Declination2000': '55.95253',\n",
       " 'ProperMotionRA': '17.2400',\n",
       " 'ProperMotionDec': '-28.9100',\n",
       " 'VariabilityType': 'EW/KW',\n",
       " 'Period': '0.3336334',\n",
       " 'Epoch': '2453761.977',\n",
       " 'MaxMag': '7.75 V',\n",
       " 'MinMag': '8.48 V',\n",
       " 'SpectralType': 'F8Vp+F8Vp',\n",
       " 'Discoverer': 'Müller and Kempf (1908)',\n",
       " 'Category': 'Variable',\n",
       " 'OID': '37110',\n",
       " 'Constellation': 'UMa'}"
      ]
     },
     "execution_count": 4,
     "metadata": {},
     "output_type": "execute_result"
    }
   ],
   "source": [
    "response = requests.get(f\"http://www.aavso.org/vsx/index.php?view=api.object&ident={target}&format=json\")   \n",
    "vsx_data=response.json()['VSXObject']\n",
    "vsx_data"
   ]
  },
  {
   "cell_type": "code",
   "execution_count": 5,
   "id": "b9f0c327",
   "metadata": {},
   "outputs": [],
   "source": [
    "constellation=vsx_data['Constellation']\n",
    "star=vsx_data['Name']\n",
    "period= vsx_data['Period']\n",
    "position = coord.SkyCoord(vsx_data['RA2000'],vsx_data['Declination2000'],\n",
    "                        unit=(u.deg, u.deg), frame='icrs')\n",
    "observatory = coord.EarthLocation(lat=51.43, lon=6.82, height=40)"
   ]
  },
  {
   "cell_type": "markdown",
   "id": "7172b8df",
   "metadata": {},
   "source": [
    "Get Photometry field from AAVSO"
   ]
  },
  {
   "cell_type": "code",
   "execution_count": 6,
   "id": "b785bd9f",
   "metadata": {},
   "outputs": [
    {
     "data": {
      "text/plain": [
       "{'chartid': 'X40024I',\n",
       " 'image_uri': 'https://apps.aavso.org/vsp/chart/X40024I.png?format=json',\n",
       " 'star': 'W UMa',\n",
       " 'fov': 60.0,\n",
       " 'maglimit': 15.0,\n",
       " 'title': '',\n",
       " 'comment': '',\n",
       " 'resolution': 150,\n",
       " 'dss': False,\n",
       " 'special': None,\n",
       " 'photometry': [{'auid': '000-BBQ-651',\n",
       "   'ra': '09:42:42.03',\n",
       "   'dec': '55:39:56.3',\n",
       "   'label': '89',\n",
       "   'bands': [{'band': 'V', 'mag': 8.936, 'error': 0.052},\n",
       "    {'band': 'B', 'mag': 9.81, 'error': 0.066},\n",
       "    {'band': 'Ic', 'mag': 7.909, 'error': 0.082},\n",
       "    {'band': 'J', 'mag': 7.242, 'error': 0.017},\n",
       "    {'band': 'H', 'mag': 6.802, 'error': 0.011},\n",
       "    {'band': 'K', 'mag': 6.71, 'error': 0.013}],\n",
       "   'comments': ''},\n",
       "  {'auid': '000-BBQ-747',\n",
       "   'ra': '09:46:02.66',\n",
       "   'dec': '55:45:00.0',\n",
       "   'label': '92',\n",
       "   'bands': [{'band': 'V', 'mag': 9.161, 'error': 0.049},\n",
       "    {'band': 'B', 'mag': 10.342, 'error': 0.067},\n",
       "    {'band': 'Ic', 'mag': 7.913, 'error': 0.076},\n",
       "    {'band': 'J', 'mag': 7.118, 'error': 0.021},\n",
       "    {'band': 'H', 'mag': 6.566, 'error': 0.047},\n",
       "    {'band': 'K', 'mag': 6.428, 'error': 0.013}],\n",
       "   'comments': ''}],\n",
       " 'auid': '000-BBQ-676',\n",
       " 'ra': '09:43:45.47',\n",
       " 'dec': '55:57:09.1'}"
      ]
     },
     "execution_count": 6,
     "metadata": {},
     "output_type": "execute_result"
    }
   ],
   "source": [
    "response = requests.get(f\"https://www.aavso.org/vsp/api/chart/?star={star}&fov=60&maglimit=15&format=json\")\n",
    "chart_data=response.json()\n",
    "chart_data"
   ]
  },
  {
   "cell_type": "code",
   "execution_count": 7,
   "id": "b5c63ea0",
   "metadata": {},
   "outputs": [],
   "source": [
    "auid_list = []\n",
    "for photometry_data in chart_data['photometry']:\n",
    "    auid = photometry_data['auid']\n",
    "    ra=photometry_data['ra']\n",
    "    dec=photometry_data['dec']\n",
    "    for band_data in photometry_data['bands']:\n",
    "        if band_data['band'] == 'V':\n",
    "            mag = band_data['mag']\n",
    "            auid_list.append((auid, ra, dec, mag))"
   ]
  },
  {
   "cell_type": "code",
   "execution_count": 8,
   "id": "280fa2d8",
   "metadata": {},
   "outputs": [
    {
     "data": {
      "text/plain": [
       "[('000-BBQ-651', '09:42:42.03', '55:39:56.3', 8.936),\n",
       " ('000-BBQ-747', '09:46:02.66', '55:45:00.0', 9.161)]"
      ]
     },
     "execution_count": 8,
     "metadata": {},
     "output_type": "execute_result"
    }
   ],
   "source": [
    "auid_list"
   ]
  },
  {
   "cell_type": "markdown",
   "id": "a62950da",
   "metadata": {},
   "source": [
    "Match with PixInsight Photometry Table"
   ]
  },
  {
   "cell_type": "code",
   "execution_count": 9,
   "id": "eaac1456",
   "metadata": {},
   "outputs": [],
   "source": [
    "file=filelist[0]\n",
    "df=pd.read_csv(path+\"\\\\\"+file,sep=\";\",skiprows=5)\n",
    "df.columns = df.columns.str.replace(' ', '')\n",
    "names= df[['NAME']].to_numpy()\n",
    "catalogue= df[['CATRA', 'CATDEC']].to_numpy()\n",
    "flags= df[['FLAG']].to_numpy() \n",
    "catalogue=coord.SkyCoord(catalogue[:,0],catalogue[:,1],unit=(u.deg, u.deg), frame='icrs')"
   ]
  },
  {
   "cell_type": "code",
   "execution_count": 10,
   "id": "8c4a30b9",
   "metadata": {},
   "outputs": [
    {
     "data": {
      "text/plain": [
       "'3UCAC292-105168'"
      ]
     },
     "execution_count": 10,
     "metadata": {},
     "output_type": "execute_result"
    }
   ],
   "source": [
    "idx,d2d,d3d=position.match_to_catalog_sky(catalogue)\n",
    "varstar=names[idx][0].replace(\" \", \"\")\n",
    "varstar"
   ]
  },
  {
   "cell_type": "code",
   "execution_count": 12,
   "id": "a0d7c0a3",
   "metadata": {},
   "outputs": [],
   "source": [
    "star_data=np.array([(tup[1], tup[2]) for tup in auid_list])\n",
    "star_coord=coord.SkyCoord(star_data[:,0],star_data[:,1],unit=(u.hourangle, u.deg), frame='icrs')"
   ]
  },
  {
   "cell_type": "code",
   "execution_count": 13,
   "id": "caa29257",
   "metadata": {},
   "outputs": [],
   "source": [
    "idx,d2d,d3d=star_coord.match_to_catalog_sky(catalogue)"
   ]
  },
  {
   "cell_type": "code",
   "execution_count": 14,
   "id": "1444ab3c",
   "metadata": {},
   "outputs": [
    {
     "data": {
      "text/latex": [
       "[$0^\\circ00{}^\\prime02.75383687{}^{\\prime\\prime}$\n",
       " $0^\\circ00{}^\\prime00.49507277{}^{\\prime\\prime}$]"
      ],
      "text/plain": [
       "<Angle [0.00076495, 0.00013752] deg>"
      ]
     },
     "execution_count": 14,
     "metadata": {},
     "output_type": "execute_result"
    }
   ],
   "source": [
    "d2d"
   ]
  },
  {
   "cell_type": "code",
   "execution_count": 15,
   "id": "fc949f5c",
   "metadata": {},
   "outputs": [
    {
     "data": {
      "text/html": [
       "<div>\n",
       "<style scoped>\n",
       "    .dataframe tbody tr th:only-of-type {\n",
       "        vertical-align: middle;\n",
       "    }\n",
       "\n",
       "    .dataframe tbody tr th {\n",
       "        vertical-align: top;\n",
       "    }\n",
       "\n",
       "    .dataframe thead th {\n",
       "        text-align: right;\n",
       "    }\n",
       "</style>\n",
       "<table border=\"1\" class=\"dataframe\">\n",
       "  <thead>\n",
       "    <tr style=\"text-align: right;\">\n",
       "      <th></th>\n",
       "      <th>DATE_OBS</th>\n",
       "      <th>NAME</th>\n",
       "      <th>FILTER</th>\n",
       "      <th>CATRA</th>\n",
       "      <th>CATDEC</th>\n",
       "      <th>IMGRA</th>\n",
       "      <th>IMGDEC</th>\n",
       "      <th>IMGX</th>\n",
       "      <th>IMGY</th>\n",
       "      <th>f.mag</th>\n",
       "      <th>...</th>\n",
       "      <th>SNR10</th>\n",
       "      <th>SNR11</th>\n",
       "      <th>SNR12</th>\n",
       "      <th>SNR13</th>\n",
       "      <th>SNR14</th>\n",
       "      <th>SNR15</th>\n",
       "      <th>SNR16</th>\n",
       "      <th>SNR17</th>\n",
       "      <th>SNR18</th>\n",
       "      <th>FLAG</th>\n",
       "    </tr>\n",
       "  </thead>\n",
       "  <tbody>\n",
       "    <tr>\n",
       "      <th>3</th>\n",
       "      <td>2.460738e+06</td>\n",
       "      <td>3UCAC292-105134</td>\n",
       "      <td>Johnson V</td>\n",
       "      <td>145.674761</td>\n",
       "      <td>55.664902</td>\n",
       "      <td>145.674755</td>\n",
       "      <td>55.664889</td>\n",
       "      <td>2952.439</td>\n",
       "      <td>547.458</td>\n",
       "      <td>8.493</td>\n",
       "      <td>...</td>\n",
       "      <td>558.2073</td>\n",
       "      <td>556.1089</td>\n",
       "      <td>551.9038</td>\n",
       "      <td>546.4157</td>\n",
       "      <td>539.9693</td>\n",
       "      <td>532.9556</td>\n",
       "      <td>525.5048</td>\n",
       "      <td>517.7928</td>\n",
       "      <td>509.8250</td>\n",
       "      <td>0</td>\n",
       "    </tr>\n",
       "    <tr>\n",
       "      <th>5</th>\n",
       "      <td>2.460738e+06</td>\n",
       "      <td>3UCAC292-105240</td>\n",
       "      <td>Johnson V</td>\n",
       "      <td>146.510994</td>\n",
       "      <td>55.749872</td>\n",
       "      <td>146.510944</td>\n",
       "      <td>55.749856</td>\n",
       "      <td>3816.904</td>\n",
       "      <td>2362.698</td>\n",
       "      <td>8.652</td>\n",
       "      <td>...</td>\n",
       "      <td>516.0040</td>\n",
       "      <td>512.5787</td>\n",
       "      <td>507.5967</td>\n",
       "      <td>501.5795</td>\n",
       "      <td>494.9387</td>\n",
       "      <td>487.6977</td>\n",
       "      <td>480.0323</td>\n",
       "      <td>472.1017</td>\n",
       "      <td>464.0666</td>\n",
       "      <td>0</td>\n",
       "    </tr>\n",
       "  </tbody>\n",
       "</table>\n",
       "<p>2 rows × 51 columns</p>\n",
       "</div>"
      ],
      "text/plain": [
       "       DATE_OBS                       NAME     FILTER       CATRA     CATDEC  \\\n",
       "3  2.460738e+06  3UCAC292-105134            Johnson V  145.674761  55.664902   \n",
       "5  2.460738e+06  3UCAC292-105240            Johnson V  146.510994  55.749872   \n",
       "\n",
       "        IMGRA     IMGDEC      IMGX      IMGY  f.mag  ...     SNR10     SNR11  \\\n",
       "3  145.674755  55.664889  2952.439   547.458  8.493  ...  558.2073  556.1089   \n",
       "5  146.510944  55.749856  3816.904  2362.698  8.652  ...  516.0040  512.5787   \n",
       "\n",
       "      SNR12     SNR13     SNR14     SNR15     SNR16     SNR17     SNR18  FLAG  \n",
       "3  551.9038  546.4157  539.9693  532.9556  525.5048  517.7928  509.8250     0  \n",
       "5  507.5967  501.5795  494.9387  487.6977  480.0323  472.1017  464.0666     0  \n",
       "\n",
       "[2 rows x 51 columns]"
      ]
     },
     "execution_count": 15,
     "metadata": {},
     "output_type": "execute_result"
    }
   ],
   "source": [
    "df.iloc[idx]"
   ]
  },
  {
   "cell_type": "code",
   "execution_count": 20,
   "id": "d1804327",
   "metadata": {},
   "outputs": [],
   "source": [
    "photometry_stars=[]\n",
    "photometry_mags=[]\n",
    "for i in range(len(auid_list)):\n",
    "    if flags[idx[i]] == 0 and d2d[i].arcsec < 10.0:\n",
    "        photometry_stars.append(names[idx[i]][0].replace(\" \", \"\"))\n",
    "        photometry_mags.append(auid_list[i][3])"
   ]
  },
  {
   "cell_type": "code",
   "execution_count": 21,
   "id": "33194bca",
   "metadata": {},
   "outputs": [
    {
     "data": {
      "text/plain": [
       "(['3UCAC292-105134', '3UCAC292-105240'], [8.936, 9.161])"
      ]
     },
     "execution_count": 21,
     "metadata": {},
     "output_type": "execute_result"
    }
   ],
   "source": [
    "photometry_stars, photometry_mags"
   ]
  },
  {
   "cell_type": "code",
   "execution_count": 64,
   "id": "f7e8fda4",
   "metadata": {},
   "outputs": [],
   "source": [
    "\n",
    "check=photometry_stars[0]\n",
    "compstar=photometry_stars[1:2]\n",
    "compstar_mag=photometry_mags[1:2]"
   ]
  },
  {
   "cell_type": "code",
   "execution_count": 65,
   "id": "0d6f77d3",
   "metadata": {},
   "outputs": [
    {
     "data": {
      "text/plain": [
       "'3UCAC292-105134'"
      ]
     },
     "execution_count": 65,
     "metadata": {},
     "output_type": "execute_result"
    }
   ],
   "source": [
    "check"
   ]
  },
  {
   "cell_type": "code",
   "execution_count": 66,
   "id": "1fd925c7",
   "metadata": {},
   "outputs": [
    {
     "data": {
      "text/html": [
       "<div>\n",
       "<style scoped>\n",
       "    .dataframe tbody tr th:only-of-type {\n",
       "        vertical-align: middle;\n",
       "    }\n",
       "\n",
       "    .dataframe tbody tr th {\n",
       "        vertical-align: top;\n",
       "    }\n",
       "\n",
       "    .dataframe thead th {\n",
       "        text-align: right;\n",
       "    }\n",
       "</style>\n",
       "<table border=\"1\" class=\"dataframe\">\n",
       "  <thead>\n",
       "    <tr style=\"text-align: right;\">\n",
       "      <th></th>\n",
       "      <th>DATE_OBS</th>\n",
       "      <th>NAME</th>\n",
       "      <th>FILTER</th>\n",
       "      <th>CATRA</th>\n",
       "      <th>CATDEC</th>\n",
       "      <th>IMGRA</th>\n",
       "      <th>IMGDEC</th>\n",
       "      <th>IMGX</th>\n",
       "      <th>IMGY</th>\n",
       "      <th>f.mag</th>\n",
       "      <th>...</th>\n",
       "      <th>SNR10</th>\n",
       "      <th>SNR11</th>\n",
       "      <th>SNR12</th>\n",
       "      <th>SNR13</th>\n",
       "      <th>SNR14</th>\n",
       "      <th>SNR15</th>\n",
       "      <th>SNR16</th>\n",
       "      <th>SNR17</th>\n",
       "      <th>SNR18</th>\n",
       "      <th>FLAG</th>\n",
       "    </tr>\n",
       "  </thead>\n",
       "  <tbody>\n",
       "    <tr>\n",
       "      <th>0</th>\n",
       "      <td>2.460738e+06</td>\n",
       "      <td>3UCAC292-105088</td>\n",
       "      <td>Johnson V</td>\n",
       "      <td>145.319330</td>\n",
       "      <td>55.866243</td>\n",
       "      <td>145.319347</td>\n",
       "      <td>55.866246</td>\n",
       "      <td>1774.225</td>\n",
       "      <td>368.890</td>\n",
       "      <td>6.319</td>\n",
       "      <td>...</td>\n",
       "      <td>1709.8250</td>\n",
       "      <td>1724.6650</td>\n",
       "      <td>1733.3540</td>\n",
       "      <td>1738.2940</td>\n",
       "      <td>1740.8820</td>\n",
       "      <td>1741.6460</td>\n",
       "      <td>1741.2880</td>\n",
       "      <td>1740.0330</td>\n",
       "      <td>1738.0800</td>\n",
       "      <td>10</td>\n",
       "    </tr>\n",
       "    <tr>\n",
       "      <th>1</th>\n",
       "      <td>2.460738e+06</td>\n",
       "      <td>3UCAC292-105167</td>\n",
       "      <td>Johnson V</td>\n",
       "      <td>145.939380</td>\n",
       "      <td>55.952130</td>\n",
       "      <td>145.939661</td>\n",
       "      <td>55.952317</td>\n",
       "      <td>2341.641</td>\n",
       "      <td>1761.961</td>\n",
       "      <td>7.600</td>\n",
       "      <td>...</td>\n",
       "      <td>897.3200</td>\n",
       "      <td>900.3655</td>\n",
       "      <td>900.6214</td>\n",
       "      <td>899.2033</td>\n",
       "      <td>896.7728</td>\n",
       "      <td>893.4697</td>\n",
       "      <td>889.4042</td>\n",
       "      <td>884.7583</td>\n",
       "      <td>879.6403</td>\n",
       "      <td>1</td>\n",
       "    </tr>\n",
       "    <tr>\n",
       "      <th>2</th>\n",
       "      <td>2.460738e+06</td>\n",
       "      <td>3UCAC292-105168</td>\n",
       "      <td>Johnson V</td>\n",
       "      <td>145.939864</td>\n",
       "      <td>55.952429</td>\n",
       "      <td>145.939661</td>\n",
       "      <td>55.952317</td>\n",
       "      <td>2341.641</td>\n",
       "      <td>1761.961</td>\n",
       "      <td>8.324</td>\n",
       "      <td>...</td>\n",
       "      <td>897.3200</td>\n",
       "      <td>900.3655</td>\n",
       "      <td>900.6214</td>\n",
       "      <td>899.2033</td>\n",
       "      <td>896.7728</td>\n",
       "      <td>893.4697</td>\n",
       "      <td>889.4042</td>\n",
       "      <td>884.7583</td>\n",
       "      <td>879.6403</td>\n",
       "      <td>1</td>\n",
       "    </tr>\n",
       "    <tr>\n",
       "      <th>3</th>\n",
       "      <td>2.460738e+06</td>\n",
       "      <td>3UCAC292-105134</td>\n",
       "      <td>Johnson V</td>\n",
       "      <td>145.674761</td>\n",
       "      <td>55.664902</td>\n",
       "      <td>145.674755</td>\n",
       "      <td>55.664889</td>\n",
       "      <td>2952.439</td>\n",
       "      <td>547.458</td>\n",
       "      <td>8.493</td>\n",
       "      <td>...</td>\n",
       "      <td>558.2073</td>\n",
       "      <td>556.1089</td>\n",
       "      <td>551.9038</td>\n",
       "      <td>546.4157</td>\n",
       "      <td>539.9693</td>\n",
       "      <td>532.9556</td>\n",
       "      <td>525.5048</td>\n",
       "      <td>517.7928</td>\n",
       "      <td>509.8250</td>\n",
       "      <td>0</td>\n",
       "    </tr>\n",
       "    <tr>\n",
       "      <th>4</th>\n",
       "      <td>2.460738e+06</td>\n",
       "      <td>3UCAC293-109009</td>\n",
       "      <td>Johnson V</td>\n",
       "      <td>145.621195</td>\n",
       "      <td>56.187249</td>\n",
       "      <td>145.621208</td>\n",
       "      <td>56.187240</td>\n",
       "      <td>1104.692</td>\n",
       "      <td>1736.808</td>\n",
       "      <td>8.507</td>\n",
       "      <td>...</td>\n",
       "      <td>575.7884</td>\n",
       "      <td>574.0490</td>\n",
       "      <td>570.1944</td>\n",
       "      <td>564.9670</td>\n",
       "      <td>558.7805</td>\n",
       "      <td>551.9471</td>\n",
       "      <td>544.4825</td>\n",
       "      <td>536.6611</td>\n",
       "      <td>528.7717</td>\n",
       "      <td>0</td>\n",
       "    </tr>\n",
       "    <tr>\n",
       "      <th>5</th>\n",
       "      <td>2.460738e+06</td>\n",
       "      <td>3UCAC292-105240</td>\n",
       "      <td>Johnson V</td>\n",
       "      <td>146.510994</td>\n",
       "      <td>55.749872</td>\n",
       "      <td>146.510944</td>\n",
       "      <td>55.749856</td>\n",
       "      <td>3816.904</td>\n",
       "      <td>2362.698</td>\n",
       "      <td>8.652</td>\n",
       "      <td>...</td>\n",
       "      <td>516.0040</td>\n",
       "      <td>512.5787</td>\n",
       "      <td>507.5967</td>\n",
       "      <td>501.5795</td>\n",
       "      <td>494.9387</td>\n",
       "      <td>487.6977</td>\n",
       "      <td>480.0323</td>\n",
       "      <td>472.1017</td>\n",
       "      <td>464.0666</td>\n",
       "      <td>0</td>\n",
       "    </tr>\n",
       "    <tr>\n",
       "      <th>6</th>\n",
       "      <td>2.460738e+06</td>\n",
       "      <td>3UCAC292-105289</td>\n",
       "      <td>Johnson V</td>\n",
       "      <td>146.803479</td>\n",
       "      <td>55.812654</td>\n",
       "      <td>146.803459</td>\n",
       "      <td>55.812643</td>\n",
       "      <td>4000.777</td>\n",
       "      <td>3080.045</td>\n",
       "      <td>9.535</td>\n",
       "      <td>...</td>\n",
       "      <td>328.6112</td>\n",
       "      <td>322.5532</td>\n",
       "      <td>315.7867</td>\n",
       "      <td>308.5743</td>\n",
       "      <td>301.0845</td>\n",
       "      <td>293.2643</td>\n",
       "      <td>285.4338</td>\n",
       "      <td>277.7457</td>\n",
       "      <td>270.1175</td>\n",
       "      <td>0</td>\n",
       "    </tr>\n",
       "  </tbody>\n",
       "</table>\n",
       "<p>7 rows × 51 columns</p>\n",
       "</div>"
      ],
      "text/plain": [
       "   DATE_OBS       NAME                       FILTER     CATRA       \\\n",
       "0   2.460738e+06  3UCAC292-105088            Johnson V  145.319330   \n",
       "1   2.460738e+06  3UCAC292-105167            Johnson V  145.939380   \n",
       "2   2.460738e+06  3UCAC292-105168            Johnson V  145.939864   \n",
       "3   2.460738e+06  3UCAC292-105134            Johnson V  145.674761   \n",
       "4   2.460738e+06  3UCAC293-109009            Johnson V  145.621195   \n",
       "5   2.460738e+06  3UCAC292-105240            Johnson V  146.510994   \n",
       "6   2.460738e+06  3UCAC292-105289            Johnson V  146.803479   \n",
       "\n",
       "   CATDEC      IMGRA       IMGDEC      IMGX      IMGY      f.mag   ...  \\\n",
       "0   55.866243  145.319347   55.866246  1774.225   368.890   6.319  ...   \n",
       "1   55.952130  145.939661   55.952317  2341.641  1761.961   7.600  ...   \n",
       "2   55.952429  145.939661   55.952317  2341.641  1761.961   8.324  ...   \n",
       "3   55.664902  145.674755   55.664889  2952.439   547.458   8.493  ...   \n",
       "4   56.187249  145.621208   56.187240  1104.692  1736.808   8.507  ...   \n",
       "5   55.749872  146.510944   55.749856  3816.904  2362.698   8.652  ...   \n",
       "6   55.812654  146.803459   55.812643  4000.777  3080.045   9.535  ...   \n",
       "\n",
       "    SNR10      SNR11      SNR12      SNR13      SNR14      SNR15     \\\n",
       "0  1709.8250  1724.6650  1733.3540  1738.2940  1740.8820  1741.6460   \n",
       "1   897.3200   900.3655   900.6214   899.2033   896.7728   893.4697   \n",
       "2   897.3200   900.3655   900.6214   899.2033   896.7728   893.4697   \n",
       "3   558.2073   556.1089   551.9038   546.4157   539.9693   532.9556   \n",
       "4   575.7884   574.0490   570.1944   564.9670   558.7805   551.9471   \n",
       "5   516.0040   512.5787   507.5967   501.5795   494.9387   487.6977   \n",
       "6   328.6112   322.5532   315.7867   308.5743   301.0845   293.2643   \n",
       "\n",
       "    SNR16      SNR17      SNR18     FLAG  \n",
       "0  1741.2880  1740.0330  1738.0800    10  \n",
       "1   889.4042   884.7583   879.6403     1  \n",
       "2   889.4042   884.7583   879.6403     1  \n",
       "3   525.5048   517.7928   509.8250     0  \n",
       "4   544.4825   536.6611   528.7717     0  \n",
       "5   480.0323   472.1017   464.0666     0  \n",
       "6   285.4338   277.7457   270.1175     0  \n",
       "\n",
       "[7 rows x 51 columns]"
      ]
     },
     "execution_count": 66,
     "metadata": {},
     "output_type": "execute_result"
    }
   ],
   "source": [
    "file=filelist[0]\n",
    "df=pd.read_csv(path+\"\\\\\"+file,sep=\";\",skiprows=5)\n",
    "df"
   ]
  },
  {
   "cell_type": "code",
   "execution_count": 67,
   "id": "b7faf2cc",
   "metadata": {},
   "outputs": [],
   "source": [
    "t0=df.iloc[0,0]\n",
    "t0_iso=time.Time(t0,format=\"jd\")"
   ]
  },
  {
   "cell_type": "code",
   "execution_count": 69,
   "id": "60346964",
   "metadata": {},
   "outputs": [],
   "source": [
    "l=[]\n",
    "for s in df.iloc[:,1]: l=l+[s.strip()]\n",
    "df.iloc[:,1]=l"
   ]
  },
  {
   "cell_type": "code",
   "execution_count": 70,
   "id": "22190664-a23a-4034-a743-2d7029092ec0",
   "metadata": {},
   "outputs": [],
   "source": [
    "def snrlst(target,infiles):\n",
    "    target_snr=[]\n",
    "    for file in infiles:\n",
    "        df=pd.read_csv(path+\"\\\\\"+file,sep=\";\",skiprows=5)\n",
    "         #find target star\n",
    "        l=[]\n",
    "        for s in df.iloc[:,1]: l=l+[s.strip()]\n",
    "        df.iloc[:,1]=l\n",
    "        itarget=(df.iloc[:,1]==target)\n",
    "        target_snr=target_snr+[df.loc[itarget]]\n",
    "    target_snr=pd.concat(target_snr,ignore_index=True)\n",
    "    ind=[]\n",
    "    col=target_snr.columns.to_list()\n",
    "    for s in col:\n",
    "        ind = ind + [s.startswith(\"SNR\")]\n",
    "    target_snr=target_snr.loc[:,ind]\n",
    "    return target_snr.mean()"
   ]
  },
  {
   "cell_type": "code",
   "execution_count": 71,
   "id": "96448943-1558-49e1-bf86-c49a43d92d1e",
   "metadata": {},
   "outputs": [
    {
     "data": {
      "text/plain": [
       "'FLUX11   '"
      ]
     },
     "execution_count": 71,
     "metadata": {},
     "output_type": "execute_result"
    }
   ],
   "source": [
    "snr=snrlst(varstar,filelist)\n",
    "snrmax=snr.idxmax()\n",
    "labelflux=snrmax.replace(\"SNR\",\"FLUX\")\n",
    "labelflux"
   ]
  },
  {
   "cell_type": "code",
   "execution_count": 72,
   "id": "ae8163a6-9a42-4879-85ef-490ca69613cc",
   "metadata": {},
   "outputs": [],
   "source": [
    "def fluxcalc2(target,infiles,label_max):\n",
    "    target_flux=pd.DataFrame()\n",
    "    for file in infiles:\n",
    "        #read file\n",
    "        df=pd.read_csv(path+\"\\\\\"+file,sep=\";\",skiprows=5)\n",
    "        #find target star\n",
    "        l=[]\n",
    "        for s in df.iloc[:,1]: l=l+[s.strip()]\n",
    "        df.iloc[:,1]=l\n",
    "        itarget=(df.iloc[:,1]==target)\n",
    "        #read flux\n",
    "        flux=df.loc[itarget][['DATE_OBS     ',label_max]]\n",
    "        flux=flux.rename(columns={'DATE_OBS     ':\"DATE_OBS\",label_max:\"FLUX\"})\n",
    "        target_flux=pd.concat([target_flux,flux])\n",
    "    target_flux=target_flux.reset_index(drop=True)\n",
    "    return target_flux"
   ]
  },
  {
   "cell_type": "code",
   "execution_count": 73,
   "id": "550894e4",
   "metadata": {},
   "outputs": [],
   "source": [
    "minind=0\n",
    "maxind=len(filelist)"
   ]
  },
  {
   "cell_type": "code",
   "execution_count": 74,
   "id": "95aacb6b",
   "metadata": {},
   "outputs": [],
   "source": [
    "flux_var=fluxcalc2(varstar,filelist,labelflux)\n",
    "flux_check=fluxcalc2(check,filelist,labelflux)"
   ]
  },
  {
   "cell_type": "code",
   "execution_count": 75,
   "id": "14793b44",
   "metadata": {},
   "outputs": [
    {
     "name": "stdout",
     "output_type": "stream",
     "text": [
      "         DATE_OBS  3UCAC292-105240\n",
      "0    2.460738e+06        316486.77\n",
      "1    2.460738e+06        315679.42\n",
      "2    2.460738e+06        329536.27\n",
      "3    2.460738e+06        341920.57\n",
      "4    2.460738e+06        331694.46\n",
      "..            ...              ...\n",
      "133  2.460739e+06        173727.68\n",
      "134  2.460739e+06        173049.02\n",
      "135  2.460739e+06        177503.55\n",
      "136  2.460739e+06        172515.57\n",
      "137  2.460739e+06        169678.97\n",
      "\n",
      "[138 rows x 2 columns]\n"
     ]
    }
   ],
   "source": [
    "flux_comp=pd.DataFrame()\n",
    "flux_comp[\"DATE_OBS\"]=flux_var[\"DATE_OBS\"]\n",
    "flux_comp=flux_comp.reset_index(drop=True)\n",
    "for star in compstar:\n",
    "    flux=fluxcalc2(star,filelist,labelflux)\n",
    "    #flux = flux.reset_index(drop=True)\n",
    "    flux_comp[star]=flux['FLUX']\n",
    "print(flux_comp)   "
   ]
  },
  {
   "cell_type": "code",
   "execution_count": 76,
   "id": "b0cce4a8",
   "metadata": {},
   "outputs": [],
   "source": [
    "t=flux_var.to_numpy()[minind:maxind,0]\n",
    "mag_var=flux_var.to_numpy()[minind:maxind,1]\n",
    "mag_check=flux_check.to_numpy()[minind:maxind,1]\n",
    "mag_comp=flux_comp.to_numpy()[minind:maxind,1:]"
   ]
  },
  {
   "cell_type": "code",
   "execution_count": 77,
   "id": "2ce200af",
   "metadata": {},
   "outputs": [
    {
     "data": {
      "text/plain": [
       "3"
      ]
     },
     "execution_count": 77,
     "metadata": {},
     "output_type": "execute_result"
    }
   ],
   "source": [
    "nstars = mag_comp.shape[1]+2\n",
    "nstars"
   ]
  },
  {
   "cell_type": "code",
   "execution_count": 78,
   "id": "f3f9c1ab-0e22-4538-a94d-0a0f13fca03f",
   "metadata": {},
   "outputs": [
    {
     "data": {
      "image/png": "[encoded data removed]",
      "text/plain": [
       "<Figure size 580x830 with 3 Axes>"
      ]
     },
     "metadata": {},
     "output_type": "display_data"
    }
   ],
   "source": [
    "fig, ax = plt.subplots(nstars,1,figsize=(5.8,8.3), layout='constrained')\n",
    "fig.suptitle(\"raw data \" + \" \" + target + \" \" + t0_iso.iso )\n",
    "fig.supylabel(\"Flux [ADU]\")\n",
    "ax[0].plot(t,mag_var,\"bo\",ms=2)\n",
    "ax[0].set_title(varstar)\n",
    "ax[0].tick_params(axis=\"x\",labelbottom=False)\n",
    "ax[0].grid(visible=\"true\")\n",
    "ax[1].plot(t,mag_check,\"bo\",ms=2)\n",
    "ax[1].set_title(check)\n",
    "ax[1].grid(visible=\"true\")\n",
    "ax[1].tick_params(axis=\"x\",labelbottom=False)\n",
    "for i in range(2,nstars):\n",
    "    ax[i].plot(t,mag_comp[:,i-2],\"bo\",ms=2)\n",
    "    ax[i].set_title(compstar[i-2])\n",
    "    ax[i].grid(visible=\"true\")\n",
    "    ax[i].tick_params(axis=\"x\",labelbottom=False)\n",
    "ax[nstars-1].set_xlabel(\"JD\")\n",
    "ax[nstars-1].tick_params(axis=\"x\",labelbottom=True)\n",
    "\n",
    "fig.savefig(constellation+\"_\"+target.replace(constellation, \"\")+\"_\"+'%-8.4f'%(t0_iso.to_value(\"jd\")-2400000)+\"_\"+\"RAW_DATA\"+\".pdf\", format=\"pdf\")"
   ]
  },
  {
   "cell_type": "code",
   "execution_count": 79,
   "id": "56ad7f3d",
   "metadata": {},
   "outputs": [
    {
     "name": "stdout",
     "output_type": "stream",
     "text": [
      "         DATE_OBS  3UCAC292-105240\n",
      "0    2.460738e+06         8.061939\n",
      "1    2.460738e+06         8.052042\n",
      "2    2.460738e+06         8.055879\n",
      "3    2.460738e+06         8.074743\n",
      "4    2.460738e+06         8.055224\n",
      "..            ...              ...\n",
      "133  2.460739e+06         8.285484\n",
      "134  2.460739e+06         8.209068\n",
      "135  2.460739e+06         8.182118\n",
      "136  2.460739e+06         8.137977\n",
      "137  2.460739e+06         8.103068\n",
      "\n",
      "[138 rows x 2 columns]\n"
     ]
    }
   ],
   "source": [
    "# Create a new DataFrame with the same column names as flux_comp\n",
    "mag_var = pd.DataFrame({'DATE_OBS': flux_comp['DATE_OBS']})\n",
    "\n",
    "# Calculate the new columns\n",
    "for star, mag0 in zip(compstar, compstar_mag):\n",
    "    mag_var[star] = -2.5 * np.log10(flux_var['FLUX'] / flux_comp[star]) + mag0\n",
    "\n",
    "print(mag_var)"
   ]
  },
  {
   "cell_type": "code",
   "execution_count": 81,
   "id": "845c3d37",
   "metadata": {},
   "outputs": [
    {
     "data": {
      "text/html": [
       "<div>\n",
       "<style scoped>\n",
       "    .dataframe tbody tr th:only-of-type {\n",
       "        vertical-align: middle;\n",
       "    }\n",
       "\n",
       "    .dataframe tbody tr th {\n",
       "        vertical-align: top;\n",
       "    }\n",
       "\n",
       "    .dataframe thead th {\n",
       "        text-align: right;\n",
       "    }\n",
       "</style>\n",
       "<table border=\"1\" class=\"dataframe\">\n",
       "  <thead>\n",
       "    <tr style=\"text-align: right;\">\n",
       "      <th></th>\n",
       "      <th>DATE_OBS</th>\n",
       "      <th>3UCAC292-105240</th>\n",
       "      <th>average</th>\n",
       "    </tr>\n",
       "  </thead>\n",
       "  <tbody>\n",
       "    <tr>\n",
       "      <th>0</th>\n",
       "      <td>2.460738e+06</td>\n",
       "      <td>8.061939</td>\n",
       "      <td>8.061939</td>\n",
       "    </tr>\n",
       "    <tr>\n",
       "      <th>1</th>\n",
       "      <td>2.460738e+06</td>\n",
       "      <td>8.052042</td>\n",
       "      <td>8.052042</td>\n",
       "    </tr>\n",
       "    <tr>\n",
       "      <th>2</th>\n",
       "      <td>2.460738e+06</td>\n",
       "      <td>8.055879</td>\n",
       "      <td>8.055879</td>\n",
       "    </tr>\n",
       "    <tr>\n",
       "      <th>3</th>\n",
       "      <td>2.460738e+06</td>\n",
       "      <td>8.074743</td>\n",
       "      <td>8.074743</td>\n",
       "    </tr>\n",
       "    <tr>\n",
       "      <th>4</th>\n",
       "      <td>2.460738e+06</td>\n",
       "      <td>8.055224</td>\n",
       "      <td>8.055224</td>\n",
       "    </tr>\n",
       "    <tr>\n",
       "      <th>...</th>\n",
       "      <td>...</td>\n",
       "      <td>...</td>\n",
       "      <td>...</td>\n",
       "    </tr>\n",
       "    <tr>\n",
       "      <th>133</th>\n",
       "      <td>2.460739e+06</td>\n",
       "      <td>8.285484</td>\n",
       "      <td>8.285484</td>\n",
       "    </tr>\n",
       "    <tr>\n",
       "      <th>134</th>\n",
       "      <td>2.460739e+06</td>\n",
       "      <td>8.209068</td>\n",
       "      <td>8.209068</td>\n",
       "    </tr>\n",
       "    <tr>\n",
       "      <th>135</th>\n",
       "      <td>2.460739e+06</td>\n",
       "      <td>8.182118</td>\n",
       "      <td>8.182118</td>\n",
       "    </tr>\n",
       "    <tr>\n",
       "      <th>136</th>\n",
       "      <td>2.460739e+06</td>\n",
       "      <td>8.137977</td>\n",
       "      <td>8.137977</td>\n",
       "    </tr>\n",
       "    <tr>\n",
       "      <th>137</th>\n",
       "      <td>2.460739e+06</td>\n",
       "      <td>8.103068</td>\n",
       "      <td>8.103068</td>\n",
       "    </tr>\n",
       "  </tbody>\n",
       "</table>\n",
       "<p>138 rows × 3 columns</p>\n",
       "</div>"
      ],
      "text/plain": [
       "         DATE_OBS  3UCAC292-105240   average\n",
       "0    2.460738e+06         8.061939  8.061939\n",
       "1    2.460738e+06         8.052042  8.052042\n",
       "2    2.460738e+06         8.055879  8.055879\n",
       "3    2.460738e+06         8.074743  8.074743\n",
       "4    2.460738e+06         8.055224  8.055224\n",
       "..            ...              ...       ...\n",
       "133  2.460739e+06         8.285484  8.285484\n",
       "134  2.460739e+06         8.209068  8.209068\n",
       "135  2.460739e+06         8.182118  8.182118\n",
       "136  2.460739e+06         8.137977  8.137977\n",
       "137  2.460739e+06         8.103068  8.103068\n",
       "\n",
       "[138 rows x 3 columns]"
      ]
     },
     "execution_count": 81,
     "metadata": {},
     "output_type": "execute_result"
    }
   ],
   "source": [
    "# Identify the columns to be averaged (all columns except 'date_obs')\n",
    "columns_to_average = mag_var.columns.difference(['DATE_OBS'])\n",
    "\n",
    "# Calculate the row-wise mean for these columns\n",
    "mag_var['average'] = mag_var[columns_to_average].mean(axis=1)\n",
    "\n",
    "mag_var"
   ]
  },
  {
   "cell_type": "code",
   "execution_count": 82,
   "id": "705c3e34",
   "metadata": {},
   "outputs": [
    {
     "data": {
      "text/plain": [
       "(138,)"
      ]
     },
     "execution_count": 82,
     "metadata": {},
     "output_type": "execute_result"
    }
   ],
   "source": [
    "mag = mag_var['average'].to_numpy()\n",
    "mag.shape"
   ]
  },
  {
   "cell_type": "code",
   "execution_count": 83,
   "id": "e595cedc",
   "metadata": {},
   "outputs": [
    {
     "data": {
      "image/png": "[encoded data removed]",
      "text/plain": [
       "<Figure size 640x480 with 1 Axes>"
      ]
     },
     "metadata": {},
     "output_type": "display_data"
    }
   ],
   "source": [
    "fig, ax = plt.subplots()  # Create a figure containing a single axes.\n",
    "ax.plot(t,mag,\"bo\",ms=2)  # Plot some data on the axes.\n",
    "#ax.set_ylim(12.7,12.8)\n",
    "ax.invert_yaxis()\n",
    "ax.grid(visible=True)"
   ]
  },
  {
   "cell_type": "code",
   "execution_count": 84,
   "id": "389485b3",
   "metadata": {},
   "outputs": [
    {
     "name": "stdout",
     "output_type": "stream",
     "text": [
      "         DATE_OBS  3UCAC292-105240\n",
      "0    2.460738e+06         9.008447\n",
      "1    2.460738e+06         9.024365\n",
      "2    2.460738e+06         9.042019\n",
      "3    2.460738e+06         9.089042\n",
      "4    2.460738e+06         9.040346\n",
      "..            ...              ...\n",
      "133  2.460739e+06         9.012992\n",
      "134  2.460739e+06         8.981029\n",
      "135  2.460739e+06         9.023474\n",
      "136  2.460739e+06         8.980737\n",
      "137  2.460739e+06         8.993448\n",
      "\n",
      "[138 rows x 2 columns]\n"
     ]
    }
   ],
   "source": [
    "# Create a new DataFrame with the same column names as flux_comp\n",
    "mag_check = pd.DataFrame({'DATE_OBS': flux_comp['DATE_OBS']})\n",
    "\n",
    "# Calculate the new columns\n",
    "for star, mag0 in zip(compstar, compstar_mag):\n",
    "    mag_check[star] = -2.5 * np.log10(flux_check['FLUX'] / flux_comp[star]) + mag0\n",
    "\n",
    "print(mag_check)"
   ]
  },
  {
   "cell_type": "code",
   "execution_count": 85,
   "id": "39efe73a",
   "metadata": {},
   "outputs": [
    {
     "data": {
      "text/html": [
       "<div>\n",
       "<style scoped>\n",
       "    .dataframe tbody tr th:only-of-type {\n",
       "        vertical-align: middle;\n",
       "    }\n",
       "\n",
       "    .dataframe tbody tr th {\n",
       "        vertical-align: top;\n",
       "    }\n",
       "\n",
       "    .dataframe thead th {\n",
       "        text-align: right;\n",
       "    }\n",
       "</style>\n",
       "<table border=\"1\" class=\"dataframe\">\n",
       "  <thead>\n",
       "    <tr style=\"text-align: right;\">\n",
       "      <th></th>\n",
       "      <th>DATE_OBS</th>\n",
       "      <th>3UCAC292-105240</th>\n",
       "      <th>average</th>\n",
       "    </tr>\n",
       "  </thead>\n",
       "  <tbody>\n",
       "    <tr>\n",
       "      <th>0</th>\n",
       "      <td>2.460738e+06</td>\n",
       "      <td>9.008447</td>\n",
       "      <td>9.008447</td>\n",
       "    </tr>\n",
       "    <tr>\n",
       "      <th>1</th>\n",
       "      <td>2.460738e+06</td>\n",
       "      <td>9.024365</td>\n",
       "      <td>9.024365</td>\n",
       "    </tr>\n",
       "    <tr>\n",
       "      <th>2</th>\n",
       "      <td>2.460738e+06</td>\n",
       "      <td>9.042019</td>\n",
       "      <td>9.042019</td>\n",
       "    </tr>\n",
       "    <tr>\n",
       "      <th>3</th>\n",
       "      <td>2.460738e+06</td>\n",
       "      <td>9.089042</td>\n",
       "      <td>9.089042</td>\n",
       "    </tr>\n",
       "    <tr>\n",
       "      <th>4</th>\n",
       "      <td>2.460738e+06</td>\n",
       "      <td>9.040346</td>\n",
       "      <td>9.040346</td>\n",
       "    </tr>\n",
       "    <tr>\n",
       "      <th>...</th>\n",
       "      <td>...</td>\n",
       "      <td>...</td>\n",
       "      <td>...</td>\n",
       "    </tr>\n",
       "    <tr>\n",
       "      <th>133</th>\n",
       "      <td>2.460739e+06</td>\n",
       "      <td>9.012992</td>\n",
       "      <td>9.012992</td>\n",
       "    </tr>\n",
       "    <tr>\n",
       "      <th>134</th>\n",
       "      <td>2.460739e+06</td>\n",
       "      <td>8.981029</td>\n",
       "      <td>8.981029</td>\n",
       "    </tr>\n",
       "    <tr>\n",
       "      <th>135</th>\n",
       "      <td>2.460739e+06</td>\n",
       "      <td>9.023474</td>\n",
       "      <td>9.023474</td>\n",
       "    </tr>\n",
       "    <tr>\n",
       "      <th>136</th>\n",
       "      <td>2.460739e+06</td>\n",
       "      <td>8.980737</td>\n",
       "      <td>8.980737</td>\n",
       "    </tr>\n",
       "    <tr>\n",
       "      <th>137</th>\n",
       "      <td>2.460739e+06</td>\n",
       "      <td>8.993448</td>\n",
       "      <td>8.993448</td>\n",
       "    </tr>\n",
       "  </tbody>\n",
       "</table>\n",
       "<p>138 rows × 3 columns</p>\n",
       "</div>"
      ],
      "text/plain": [
       "         DATE_OBS  3UCAC292-105240   average\n",
       "0    2.460738e+06         9.008447  9.008447\n",
       "1    2.460738e+06         9.024365  9.024365\n",
       "2    2.460738e+06         9.042019  9.042019\n",
       "3    2.460738e+06         9.089042  9.089042\n",
       "4    2.460738e+06         9.040346  9.040346\n",
       "..            ...              ...       ...\n",
       "133  2.460739e+06         9.012992  9.012992\n",
       "134  2.460739e+06         8.981029  8.981029\n",
       "135  2.460739e+06         9.023474  9.023474\n",
       "136  2.460739e+06         8.980737  8.980737\n",
       "137  2.460739e+06         8.993448  8.993448\n",
       "\n",
       "[138 rows x 3 columns]"
      ]
     },
     "execution_count": 85,
     "metadata": {},
     "output_type": "execute_result"
    }
   ],
   "source": [
    "# Identify the columns to be averaged (all columns except 'date_obs')\n",
    "columns_to_average = mag_check.columns.difference(['DATE_OBS'])\n",
    "\n",
    "# Calculate the row-wise mean for these columns\n",
    "mag_check['average'] = mag_check[columns_to_average].mean(axis=1)\n",
    "\n",
    "mag_check"
   ]
  },
  {
   "cell_type": "code",
   "execution_count": 86,
   "id": "75021472",
   "metadata": {},
   "outputs": [
    {
     "data": {
      "text/plain": [
       "(138,)"
      ]
     },
     "execution_count": 86,
     "metadata": {},
     "output_type": "execute_result"
    }
   ],
   "source": [
    "mag_c = mag_check['average'].to_numpy()\n",
    "mag.shape"
   ]
  },
  {
   "cell_type": "code",
   "execution_count": 87,
   "id": "774049d1",
   "metadata": {},
   "outputs": [
    {
     "data": {
      "image/png": "[encoded data removed]",
      "text/plain": [
       "<Figure size 640x480 with 1 Axes>"
      ]
     },
     "metadata": {},
     "output_type": "display_data"
    }
   ],
   "source": [
    "fig, ax = plt.subplots()  # Create a figure containing a single axes.\n",
    "ax.plot(t,mag_c,\"bo\",ms=2)  # Plot some data on the axes.\n",
    "ax.grid(visible=True)\n",
    "#ax.set_ylim(12.4,12.5)\n",
    "ax.invert_yaxis()"
   ]
  },
  {
   "cell_type": "code",
   "execution_count": 88,
   "id": "a8ff650d",
   "metadata": {},
   "outputs": [
    {
     "data": {
      "text/plain": [
       "0.02781785002158265"
      ]
     },
     "execution_count": 88,
     "metadata": {},
     "output_type": "execute_result"
    }
   ],
   "source": [
    "err_c=np.std(mag_c)\n",
    "err_c"
   ]
  },
  {
   "cell_type": "code",
   "execution_count": 44,
   "id": "57c7b8a5",
   "metadata": {},
   "outputs": [],
   "source": [
    "lc=np.empty((mag.shape[0],3))\n",
    "lc[:,0]=t\n",
    "lc[:,1]=mag\n",
    "lc[:,2]=err_c"
   ]
  },
  {
   "cell_type": "code",
   "execution_count": 45,
   "id": "8fb5df78",
   "metadata": {},
   "outputs": [],
   "source": [
    "t0=int(lc[0,0])\n",
    "t=lc[:,0]-t0\n",
    "mag=lc[:,1]\n",
    "merr=lc[:,2]"
   ]
  },
  {
   "cell_type": "code",
   "execution_count": 46,
   "id": "ed9d9061",
   "metadata": {},
   "outputs": [
    {
     "data": {
      "text/plain": [
       "'2025-03-03'"
      ]
     },
     "execution_count": 46,
     "metadata": {},
     "output_type": "execute_result"
    }
   ],
   "source": [
    "t0_ap=time.Time(t0,format=\"jd\")\n",
    "t0_ap.to_value(\"iso\",subfmt=\"date\")"
   ]
  },
  {
   "cell_type": "code",
   "execution_count": 47,
   "id": "e8439c49",
   "metadata": {},
   "outputs": [],
   "source": [
    "p=float(period)\n",
    "w=2*math.pi/p\n",
    "k=8\n",
    "C=np.stack([np.sin(i*w*t) for i in range(1,k+1)])\n",
    "B=np.stack([np.cos(i*w*t) for i in range(k+1)])\n",
    "A=np.concatenate((B,C)).T\n",
    "coeff = np.linalg.lstsq(A,mag,rcond=None)[0]"
   ]
  },
  {
   "cell_type": "code",
   "execution_count": 48,
   "id": "e59670d0",
   "metadata": {},
   "outputs": [],
   "source": [
    "def lc_fourier(t,w,coeff):\n",
    "    n=coeff.shape[0]\n",
    "    mag=0\n",
    "    k=int((n-1)/2)\n",
    "    for i in range(0,k+1):\n",
    "        mag=mag+coeff[i]*np.cos(i*w*t)\n",
    "    for i in range(k+1,n):\n",
    "        mag=mag+coeff[i]*np.sin((i-k)*w*t)\n",
    "    return mag"
   ]
  },
  {
   "cell_type": "code",
   "execution_count": 49,
   "id": "7bdbf529",
   "metadata": {},
   "outputs": [],
   "source": [
    "t_step=np.linspace(min(t),max(t),1000)"
   ]
  },
  {
   "cell_type": "code",
   "execution_count": 50,
   "id": "2cd5da08",
   "metadata": {},
   "outputs": [],
   "source": [
    "x=lc_fourier(t_step,w,coeff)"
   ]
  },
  {
   "cell_type": "code",
   "execution_count": 51,
   "id": "7af45be7",
   "metadata": {},
   "outputs": [],
   "source": [
    "ind=sp.signal.argrelmin(x)\n",
    "ind1=sp.signal.argrelmax(x)"
   ]
  },
  {
   "cell_type": "code",
   "execution_count": 52,
   "id": "a0593287-cddd-48d8-9547-1489fca76f34",
   "metadata": {
    "tags": []
   },
   "outputs": [
    {
     "data": {
      "text/plain": [
       "(array([106, 362, 875], dtype=int64),)"
      ]
     },
     "execution_count": 52,
     "metadata": {},
     "output_type": "execute_result"
    }
   ],
   "source": [
    "ind1"
   ]
  },
  {
   "cell_type": "code",
   "execution_count": 53,
   "id": "32210116",
   "metadata": {},
   "outputs": [
    {
     "data": {
      "text/plain": [
       "array(['2025-03-03 19:22:06.256', '2025-03-03 19:48:16.872',\n",
       "       '2025-03-03 23:16:45.701'], dtype='<U23')"
      ]
     },
     "execution_count": 53,
     "metadata": {},
     "output_type": "execute_result"
    }
   ],
   "source": [
    "t0_ap=time.Time(t0+t_step[ind],format=\"jd\")\n",
    "t1_ap=time.Time(t0+t_step[ind1],format=\"jd\")\n",
    "t0_ap.to_value(\"iso\")"
   ]
  },
  {
   "cell_type": "code",
   "execution_count": 54,
   "id": "0b006a6c",
   "metadata": {},
   "outputs": [
    {
     "data": {
      "text/plain": [
       "array([0.00356832, 0.00356751, 0.00356103])"
      ]
     },
     "execution_count": 54,
     "metadata": {},
     "output_type": "execute_result"
    }
   ],
   "source": [
    "t0_ap = time.Time(t0+t_step[ind],format=\"jd\",\n",
    "                  scale='utc', location=observatory)  \n",
    "t1_ap=time.Time(t0+t_step[ind1],format=\"jd\",\n",
    "                  scale=\"utc\",location=observatory)\n",
    "ltt0_helio = t0_ap.light_travel_time(position,\"heliocentric\") \n",
    "ltt1_helio = t1_ap.light_travel_time(position,\"heliocentric\") \n",
    "ltt0_helio.to_value(\"jd\") "
   ]
  },
  {
   "cell_type": "code",
   "execution_count": 55,
   "id": "e2efc817-f283-4494-a88c-67460b4b8dab",
   "metadata": {
    "tags": []
   },
   "outputs": [
    {
     "data": {
      "text/plain": [
       "<Time object: scale='utc' format='jd' value=[2460738.30701686 2460738.32519528 2460738.46997339]>"
      ]
     },
     "execution_count": 55,
     "metadata": {},
     "output_type": "execute_result"
    }
   ],
   "source": [
    "time.Time(t0+t_step[ind],format=\"jd\",\n",
    "                  scale='utc', location=observatory)  "
   ]
  },
  {
   "cell_type": "code",
   "execution_count": 56,
   "id": "4b0b9afb",
   "metadata": {},
   "outputs": [
    {
     "data": {
      "text/plain": [
       "[<Quantity 1.19607113>, <Quantity 1.21470464>, <Quantity 1.00296598>]"
      ]
     },
     "execution_count": 56,
     "metadata": {},
     "output_type": "execute_result"
    }
   ],
   "source": [
    "t_am=time.Time(t0+t_step,format=\"jd\",scale=\"utc\",location=observatory)\n",
    "frame=coord.AltAz(obstime=t_am,location=observatory)\n",
    "airmass=position.transform_to(frame).secz\n",
    "[airmass[0],airmass[999],np.min(airmass)]"
   ]
  },
  {
   "cell_type": "code",
   "execution_count": 57,
   "id": "3f18ed0d",
   "metadata": {},
   "outputs": [
    {
     "ename": "IndexError",
     "evalue": "list index out of range",
     "output_type": "error",
     "traceback": [
      "\u001b[1;31m---------------------------------------------------------------------------\u001b[0m",
      "\u001b[1;31mIndexError\u001b[0m                                Traceback (most recent call last)",
      "Cell \u001b[1;32mIn[57], line 12\u001b[0m\n\u001b[0;32m      1\u001b[0m description\u001b[38;5;241m=\u001b[39m[[\u001b[38;5;124m\"\u001b[39m\u001b[38;5;124mMaximum (UTC, geocentric)\u001b[39m\u001b[38;5;124m\"\u001b[39m,t0_ap[\u001b[38;5;241m0\u001b[39m]\u001b[38;5;241m.\u001b[39mto_value(\u001b[38;5;124m\"\u001b[39m\u001b[38;5;124miso\u001b[39m\u001b[38;5;124m\"\u001b[39m)],\n\u001b[0;32m      2\u001b[0m              [\u001b[38;5;124m\"\u001b[39m\u001b[38;5;124mMaximum (HJD, time base UTC)\u001b[39m\u001b[38;5;124m\"\u001b[39m,\u001b[38;5;124m'\u001b[39m\u001b[38;5;132;01m%-8.4f\u001b[39;00m\u001b[38;5;124m'\u001b[39m\u001b[38;5;241m%\u001b[39m(t0_ap[\u001b[38;5;241m0\u001b[39m]\u001b[38;5;241m.\u001b[39mto_value(\u001b[38;5;124m\"\u001b[39m\u001b[38;5;124mjd\u001b[39m\u001b[38;5;124m\"\u001b[39m)\u001b[38;5;241m+\u001b[39mltt0_helio[\u001b[38;5;241m0\u001b[39m]\u001b[38;5;241m.\u001b[39mto_value(\u001b[38;5;124m\"\u001b[39m\u001b[38;5;124mjd\u001b[39m\u001b[38;5;124m\"\u001b[39m))\u001b[38;5;241m+\u001b[39m\u001b[38;5;124m\"\u001b[39m\u001b[38;5;124m+/-0.002\u001b[39m\u001b[38;5;124m\"\u001b[39m],\n\u001b[0;32m      3\u001b[0m              [\u001b[38;5;124m\"\u001b[39m\u001b[38;5;124mMaximum (UTC, geocentric)\u001b[39m\u001b[38;5;124m\"\u001b[39m,t0_ap[\u001b[38;5;241m1\u001b[39m]\u001b[38;5;241m.\u001b[39mto_value(\u001b[38;5;124m\"\u001b[39m\u001b[38;5;124miso\u001b[39m\u001b[38;5;124m\"\u001b[39m)],\n\u001b[0;32m      4\u001b[0m              [\u001b[38;5;124m\"\u001b[39m\u001b[38;5;124mMaximum (HJD, time base UTC)\u001b[39m\u001b[38;5;124m\"\u001b[39m,\u001b[38;5;124m'\u001b[39m\u001b[38;5;132;01m%-8.4f\u001b[39;00m\u001b[38;5;124m'\u001b[39m\u001b[38;5;241m%\u001b[39m(t0_ap[\u001b[38;5;241m1\u001b[39m]\u001b[38;5;241m.\u001b[39mto_value(\u001b[38;5;124m\"\u001b[39m\u001b[38;5;124mjd\u001b[39m\u001b[38;5;124m\"\u001b[39m)\u001b[38;5;241m+\u001b[39mltt0_helio[\u001b[38;5;241m1\u001b[39m]\u001b[38;5;241m.\u001b[39mto_value(\u001b[38;5;124m\"\u001b[39m\u001b[38;5;124mjd\u001b[39m\u001b[38;5;124m\"\u001b[39m))\u001b[38;5;241m+\u001b[39m\u001b[38;5;124m\"\u001b[39m\u001b[38;5;124m+/-0.002\u001b[39m\u001b[38;5;124m\"\u001b[39m],\n\u001b[0;32m      5\u001b[0m              [\u001b[38;5;124m\"\u001b[39m\u001b[38;5;124mMinimum (UTC, geocentric)\u001b[39m\u001b[38;5;124m\"\u001b[39m,t1_ap[\u001b[38;5;241m0\u001b[39m]\u001b[38;5;241m.\u001b[39mto_value(\u001b[38;5;124m\"\u001b[39m\u001b[38;5;124miso\u001b[39m\u001b[38;5;124m\"\u001b[39m)],\n\u001b[0;32m      6\u001b[0m              [\u001b[38;5;124m\"\u001b[39m\u001b[38;5;124mMinimim (HJD, time base UTC)\u001b[39m\u001b[38;5;124m\"\u001b[39m,\u001b[38;5;124m'\u001b[39m\u001b[38;5;132;01m%-8.4f\u001b[39;00m\u001b[38;5;124m'\u001b[39m\u001b[38;5;241m%\u001b[39m(t1_ap[\u001b[38;5;241m0\u001b[39m]\u001b[38;5;241m.\u001b[39mto_value(\u001b[38;5;124m\"\u001b[39m\u001b[38;5;124mjd\u001b[39m\u001b[38;5;124m\"\u001b[39m)\u001b[38;5;241m+\u001b[39mltt1_helio[\u001b[38;5;241m0\u001b[39m]\u001b[38;5;241m.\u001b[39mto_value(\u001b[38;5;124m\"\u001b[39m\u001b[38;5;124mjd\u001b[39m\u001b[38;5;124m\"\u001b[39m))\u001b[38;5;241m+\u001b[39m\u001b[38;5;124m\"\u001b[39m\u001b[38;5;124m+/-0.002\u001b[39m\u001b[38;5;124m\"\u001b[39m],\n\u001b[0;32m      7\u001b[0m              [\u001b[38;5;124m\"\u001b[39m\u001b[38;5;124mMinimum (UTC, geocentric)\u001b[39m\u001b[38;5;124m\"\u001b[39m,t1_ap[\u001b[38;5;241m1\u001b[39m]\u001b[38;5;241m.\u001b[39mto_value(\u001b[38;5;124m\"\u001b[39m\u001b[38;5;124miso\u001b[39m\u001b[38;5;124m\"\u001b[39m)],\n\u001b[0;32m      8\u001b[0m              [\u001b[38;5;124m\"\u001b[39m\u001b[38;5;124mMinimim (HJD, time base UTC)\u001b[39m\u001b[38;5;124m\"\u001b[39m,\u001b[38;5;124m'\u001b[39m\u001b[38;5;132;01m%-8.4f\u001b[39;00m\u001b[38;5;124m'\u001b[39m\u001b[38;5;241m%\u001b[39m(t1_ap[\u001b[38;5;241m1\u001b[39m]\u001b[38;5;241m.\u001b[39mto_value(\u001b[38;5;124m\"\u001b[39m\u001b[38;5;124mjd\u001b[39m\u001b[38;5;124m\"\u001b[39m)\u001b[38;5;241m+\u001b[39mltt1_helio[\u001b[38;5;241m1\u001b[39m]\u001b[38;5;241m.\u001b[39mto_value(\u001b[38;5;124m\"\u001b[39m\u001b[38;5;124mjd\u001b[39m\u001b[38;5;124m\"\u001b[39m))\u001b[38;5;241m+\u001b[39m\u001b[38;5;124m\"\u001b[39m\u001b[38;5;124m+/-0.002\u001b[39m\u001b[38;5;124m\"\u001b[39m],\n\u001b[0;32m      9\u001b[0m              [\u001b[38;5;124m\"\u001b[39m\u001b[38;5;124mObserver\u001b[39m\u001b[38;5;124m\"\u001b[39m,\u001b[38;5;124m\"\u001b[39m\u001b[38;5;124mDeeskow, DES\u001b[39m\u001b[38;5;124m\"\u001b[39m],\n\u001b[0;32m     10\u001b[0m              [\u001b[38;5;124m\"\u001b[39m\u001b[38;5;124mInstrumnent\u001b[39m\u001b[38;5;124m\"\u001b[39m,\u001b[38;5;124m\"\u001b[39m\u001b[38;5;124mCFF140 f/6.6, ASI1600mm with V Filter\u001b[39m\u001b[38;5;124m\"\u001b[39m],\n\u001b[0;32m     11\u001b[0m              [\u001b[38;5;124m\"\u001b[39m\u001b[38;5;124mComparison Star\u001b[39m\u001b[38;5;124m\"\u001b[39m,compstar[\u001b[38;5;241m0\u001b[39m]],\n\u001b[1;32m---> 12\u001b[0m              [\u001b[38;5;124m\"\u001b[39m\u001b[38;5;124m\"\u001b[39m,compstar[\u001b[38;5;241m1\u001b[39m]],\n\u001b[0;32m     13\u001b[0m              [\u001b[38;5;124m\"\u001b[39m\u001b[38;5;124m\"\u001b[39m,compstar[\u001b[38;5;241m2\u001b[39m]],\n\u001b[0;32m     14\u001b[0m              [\u001b[38;5;124m\"\u001b[39m\u001b[38;5;124mPhotometry\u001b[39m\u001b[38;5;124m\"\u001b[39m,\u001b[38;5;124m\"\u001b[39m\u001b[38;5;124mPixInsight Photometry Skript\u001b[39m\u001b[38;5;124m\"\u001b[39m],\n\u001b[0;32m     15\u001b[0m              [\u001b[38;5;124m\"\u001b[39m\u001b[38;5;124mEvaluation\u001b[39m\u001b[38;5;124m\"\u001b[39m,\u001b[38;5;124m\"\u001b[39m\u001b[38;5;124mFourier-Fit\u001b[39m\u001b[38;5;124m\"\u001b[39m],\n\u001b[0;32m     16\u001b[0m              [\u001b[38;5;124m\"\u001b[39m\u001b[38;5;124mAirmass\u001b[39m\u001b[38;5;124m\"\u001b[39m,\u001b[38;5;124m\"\u001b[39m\u001b[38;5;124m1.072 ... 1.028 ... 1.174\u001b[39m\u001b[38;5;124m\"\u001b[39m],\n\u001b[0;32m     17\u001b[0m              [\u001b[38;5;124m\"\u001b[39m\u001b[38;5;124mNumber of Measurements\u001b[39m\u001b[38;5;124m\"\u001b[39m,\u001b[38;5;28mstr\u001b[39m(lc\u001b[38;5;241m.\u001b[39mshape[\u001b[38;5;241m0\u001b[39m])]\n\u001b[0;32m     18\u001b[0m             ]\n\u001b[0;32m     19\u001b[0m title\u001b[38;5;241m=\u001b[39mtarget \u001b[38;5;241m+\u001b[39m \u001b[38;5;124m\"\u001b[39m\u001b[38;5;124m \u001b[39m\u001b[38;5;124m\"\u001b[39m \u001b[38;5;241m+\u001b[39m \u001b[38;5;124m\"\u001b[39m\u001b[38;5;124m             \u001b[39m\u001b[38;5;124m\"\u001b[39m\u001b[38;5;241m+\u001b[39mt0_ap[\u001b[38;5;241m0\u001b[39m]\u001b[38;5;241m.\u001b[39mto_value(\u001b[38;5;124m\"\u001b[39m\u001b[38;5;124miso\u001b[39m\u001b[38;5;124m\"\u001b[39m,subfmt\u001b[38;5;241m=\u001b[39m\u001b[38;5;124m\"\u001b[39m\u001b[38;5;124mdate\u001b[39m\u001b[38;5;124m\"\u001b[39m)\n",
      "\u001b[1;31mIndexError\u001b[0m: list index out of range"
     ]
    }
   ],
   "source": [
    "description=[[\"Maximum (UTC, geocentric)\",t0_ap[0].to_value(\"iso\")],\n",
    "             [\"Maximum (HJD, time base UTC)\",'%-8.4f'%(t0_ap[0].to_value(\"jd\")+ltt0_helio[0].to_value(\"jd\"))+\"+/-0.002\"],\n",
    "             [\"Maximum (UTC, geocentric)\",t0_ap[1].to_value(\"iso\")],\n",
    "             [\"Maximum (HJD, time base UTC)\",'%-8.4f'%(t0_ap[1].to_value(\"jd\")+ltt0_helio[1].to_value(\"jd\"))+\"+/-0.002\"],\n",
    "             [\"Minimum (UTC, geocentric)\",t1_ap[0].to_value(\"iso\")],\n",
    "             [\"Minimim (HJD, time base UTC)\",'%-8.4f'%(t1_ap[0].to_value(\"jd\")+ltt1_helio[0].to_value(\"jd\"))+\"+/-0.002\"],\n",
    "             [\"Minimum (UTC, geocentric)\",t1_ap[1].to_value(\"iso\")],\n",
    "             [\"Minimim (HJD, time base UTC)\",'%-8.4f'%(t1_ap[1].to_value(\"jd\")+ltt1_helio[1].to_value(\"jd\"))+\"+/-0.002\"],\n",
    "             [\"Observer\",\"Deeskow, DES\"],\n",
    "             [\"Instrumnent\",\"CFF140 f/6.6, ASI1600mm with V Filter\"],\n",
    "             [\"Comparison Star\",compstar[0]],\n",
    "             [\"\",compstar[1]],\n",
    "             [\"\",compstar[2]],\n",
    "             [\"Photometry\",\"PixInsight Photometry Skript\"],\n",
    "             [\"Evaluation\",\"Fourier-Fit\"],\n",
    "             [\"Airmass\",\"1.072 ... 1.028 ... 1.174\"],\n",
    "             [\"Number of Measurements\",str(lc.shape[0])]\n",
    "            ]\n",
    "title=target + \" \" + \"             \"+t0_ap[0].to_value(\"iso\",subfmt=\"date\")"
   ]
  },
  {
   "cell_type": "code",
   "execution_count": 58,
   "id": "62924ff7",
   "metadata": {},
   "outputs": [],
   "source": [
    "tiso=time.Time(t0+t,format=\"jd\")\n",
    "t_step_iso=time.Time(t0+t_step,format=\"jd\")\n",
    "jd0=t_step_iso[0].jd"
   ]
  },
  {
   "cell_type": "code",
   "execution_count": 59,
   "id": "a3b1bfa5",
   "metadata": {},
   "outputs": [],
   "source": [
    "mpl0=mpl.dates.date2num(t_step_iso[0].datetime)"
   ]
  },
  {
   "cell_type": "code",
   "execution_count": 60,
   "id": "4bd3ae7f",
   "metadata": {},
   "outputs": [],
   "source": [
    "def jd2mpl(tin):\n",
    "    tout=tin+mpl0-jd0-ltt0_helio[0].to_value(\"jd\")+int(jd0)\n",
    "    return tout"
   ]
  },
  {
   "cell_type": "code",
   "execution_count": 61,
   "id": "e9908930",
   "metadata": {},
   "outputs": [],
   "source": [
    "def mpl2jd(tin):\n",
    "    tout=tin-mpl0+jd0+ltt0_helio[0].to_value(\"jd\")-int(jd0) \n",
    "    return tout"
   ]
  },
  {
   "cell_type": "code",
   "execution_count": 62,
   "id": "528329fb",
   "metadata": {},
   "outputs": [
    {
     "ename": "NameError",
     "evalue": "name 'title' is not defined",
     "output_type": "error",
     "traceback": [
      "\u001b[1;31m---------------------------------------------------------------------------\u001b[0m",
      "\u001b[1;31mNameError\u001b[0m                                 Traceback (most recent call last)",
      "Cell \u001b[1;32mIn[62], line 2\u001b[0m\n\u001b[0;32m      1\u001b[0m fig, (ax,ax1) \u001b[38;5;241m=\u001b[39m plt\u001b[38;5;241m.\u001b[39msubplots(\u001b[38;5;241m2\u001b[39m,\u001b[38;5;241m1\u001b[39m,height_ratios\u001b[38;5;241m=\u001b[39m[\u001b[38;5;241m1\u001b[39m,\u001b[38;5;241m1\u001b[39m],figsize\u001b[38;5;241m=\u001b[39m(\u001b[38;5;241m5.8\u001b[39m,\u001b[38;5;241m8.3\u001b[39m))\n\u001b[1;32m----> 2\u001b[0m fig\u001b[38;5;241m.\u001b[39msuptitle(title,x\u001b[38;5;241m=\u001b[39m\u001b[38;5;241m0.5\u001b[39m,y\u001b[38;5;241m=\u001b[39m\u001b[38;5;241m0.97\u001b[39m,ha\u001b[38;5;241m=\u001b[39m\u001b[38;5;124m\"\u001b[39m\u001b[38;5;124mcenter\u001b[39m\u001b[38;5;124m\"\u001b[39m)\n\u001b[0;32m      3\u001b[0m ax\u001b[38;5;241m.\u001b[39mclear()\n\u001b[0;32m      4\u001b[0m ax\u001b[38;5;241m.\u001b[39merrorbar(tiso\u001b[38;5;241m.\u001b[39mdatetime,mag,yerr\u001b[38;5;241m=\u001b[39mmerr,elinewidth\u001b[38;5;241m=\u001b[39m\u001b[38;5;241m0.5\u001b[39m,marker\u001b[38;5;241m=\u001b[39m\u001b[38;5;124m\"\u001b[39m\u001b[38;5;124mo\u001b[39m\u001b[38;5;124m\"\u001b[39m,ms\u001b[38;5;241m=\u001b[39m\u001b[38;5;241m2\u001b[39m,linestyle\u001b[38;5;241m=\u001b[39m\u001b[38;5;124m\"\u001b[39m\u001b[38;5;124mnone\u001b[39m\u001b[38;5;124m\"\u001b[39m)\n",
      "\u001b[1;31mNameError\u001b[0m: name 'title' is not defined"
     ]
    },
    {
     "data": {
      "image/png": "[encoded data removed]",
      "text/plain": [
       "<Figure size 580x830 with 2 Axes>"
      ]
     },
     "metadata": {},
     "output_type": "display_data"
    }
   ],
   "source": [
    "fig, (ax,ax1) = plt.subplots(2,1,height_ratios=[1,1],figsize=(5.8,8.3))\n",
    "fig.suptitle(title,x=0.5,y=0.97,ha=\"center\")\n",
    "ax.clear()\n",
    "ax.errorbar(tiso.datetime,mag,yerr=merr,elinewidth=0.5,marker=\"o\",ms=2,linestyle=\"none\")\n",
    "ax.plot(t_step_iso.datetime,lc_fourier(t_step,w,coeff),\"b--\",linewidth=1)  \n",
    "for i in ind[0]:\n",
    "    ax.axvline(t_step_iso[i].datetime,0,1,color='dimgrey',ls=\"--\")\n",
    "for i in ind1[0]:\n",
    "    ax.axvline(t_step_iso[i].datetime,0,1,color='dimgrey',ls=\"--\")\n",
    "ax.invert_yaxis()\n",
    "ax.minorticks_on()\n",
    "ax.grid(visible=True,which=\"both\")\n",
    "ax.set_xlabel(\"UTC\")\n",
    "ax.xaxis.set_major_formatter(mdates.DateFormatter('%H:%M'))\n",
    "#ax.set_xlabel(\"JD \"+'%-8.0f'%(int(t0_ap.to_value(\"jd\"))))\n",
    "ax.set_ylabel(\"Magnitude\")\n",
    "\n",
    "secax = ax.secondary_xaxis('top', functions=(mpl2jd,jd2mpl))\n",
    "secax.set_xlabel('HJD'+\" \"+str(int(jd0))+\" +\")\n",
    "#pticks=ax.get_xticks()\n",
    "#secax.set_xticks(mpl2jd(pticks))\n",
    "secax.minorticks_on()\n",
    "\n",
    "ax1.tick_params(\n",
    "    axis=\"both\",\n",
    "    which=\"both\",\n",
    "    bottom=False,\n",
    "    top=False,\n",
    "    left=False,\n",
    "    right=False,\n",
    "    labelbottom=False,\n",
    "    labeltop=False,\n",
    "    labelleft=False,\n",
    "    labelright=False)\n",
    "ax1.set_axis_off()\n",
    "ax1.table(description,loc=\"upper center\",cellLoc=\"left\",edges=\"\")\n",
    "\n",
    "fig.savefig(constellation+\"_\"+target.replace(constellation, \"\")+\"_\"+'%-8.4f'%(t0_ap[1].jd-2400000+ltt0_helio[1].to_value(\"jd\"))+\"_\"+\"DES\"+\".pdf\", format=\"pdf\")\n",
    "    "
   ]
  },
  {
   "cell_type": "code",
   "execution_count": 63,
   "id": "862bc389-7e74-442d-95da-d6e3a98777b8",
   "metadata": {},
   "outputs": [
    {
     "ename": "NameError",
     "evalue": "name 'title' is not defined",
     "output_type": "error",
     "traceback": [
      "\u001b[1;31m---------------------------------------------------------------------------\u001b[0m",
      "\u001b[1;31mNameError\u001b[0m                                 Traceback (most recent call last)",
      "Cell \u001b[1;32mIn[63], line 2\u001b[0m\n\u001b[0;32m      1\u001b[0m fig, ax \u001b[38;5;241m=\u001b[39m plt\u001b[38;5;241m.\u001b[39msubplots(\u001b[38;5;241m1\u001b[39m,\u001b[38;5;241m1\u001b[39m,height_ratios\u001b[38;5;241m=\u001b[39m[\u001b[38;5;241m1\u001b[39m],figsize\u001b[38;5;241m=\u001b[39m(\u001b[38;5;241m5.8\u001b[39m,\u001b[38;5;241m5.8\u001b[39m))\n\u001b[1;32m----> 2\u001b[0m fig\u001b[38;5;241m.\u001b[39msuptitle(title,x\u001b[38;5;241m=\u001b[39m\u001b[38;5;241m0.5\u001b[39m,y\u001b[38;5;241m=\u001b[39m\u001b[38;5;241m0.97\u001b[39m,ha\u001b[38;5;241m=\u001b[39m\u001b[38;5;124m\"\u001b[39m\u001b[38;5;124mcenter\u001b[39m\u001b[38;5;124m\"\u001b[39m)\n\u001b[0;32m      3\u001b[0m ax\u001b[38;5;241m.\u001b[39mclear()\n\u001b[0;32m      4\u001b[0m ax\u001b[38;5;241m.\u001b[39merrorbar(tiso\u001b[38;5;241m.\u001b[39mdatetime,mag,yerr\u001b[38;5;241m=\u001b[39mmerr,elinewidth\u001b[38;5;241m=\u001b[39m\u001b[38;5;241m0.5\u001b[39m,marker\u001b[38;5;241m=\u001b[39m\u001b[38;5;124m\"\u001b[39m\u001b[38;5;124mo\u001b[39m\u001b[38;5;124m\"\u001b[39m,ms\u001b[38;5;241m=\u001b[39m\u001b[38;5;241m2\u001b[39m,linestyle\u001b[38;5;241m=\u001b[39m\u001b[38;5;124m\"\u001b[39m\u001b[38;5;124mnone\u001b[39m\u001b[38;5;124m\"\u001b[39m)\n",
      "\u001b[1;31mNameError\u001b[0m: name 'title' is not defined"
     ]
    },
    {
     "data": {
      "image/png": "[encoded data removed]",
      "text/plain": [
       "<Figure size 580x580 with 1 Axes>"
      ]
     },
     "metadata": {},
     "output_type": "display_data"
    }
   ],
   "source": [
    "fig, ax = plt.subplots(1,1,height_ratios=[1],figsize=(5.8,5.8))\n",
    "fig.suptitle(title,x=0.5,y=0.97,ha=\"center\")\n",
    "ax.clear()\n",
    "ax.errorbar(tiso.datetime,mag,yerr=merr,elinewidth=0.5,marker=\"o\",ms=2,linestyle=\"none\")\n",
    "ax.plot(t_step_iso.datetime,lc_fourier(t_step,w,coeff),\"b--\",linewidth=1)  \n",
    "for i in ind[0]:\n",
    "    ax.axvline(t_step_iso[i].datetime,0,1,color='dimgrey',ls=\"--\")\n",
    "for i in ind1[0]:\n",
    "    ax.axvline(t_step_iso[i].datetime,0,1,color='dimgrey',ls=\"--\")\n",
    "ax.invert_yaxis()\n",
    "ax.minorticks_on()\n",
    "ax.grid(visible=True,which=\"both\")\n",
    "ax.set_xlabel(\"UTC\")\n",
    "ax.xaxis.set_major_formatter(mdates.DateFormatter('%H:%M'))\n",
    "#ax.set_xlabel(\"JD \"+'%-8.0f'%(int(t0_ap.to_value(\"jd\"))))\n",
    "ax.set_ylabel(\"Magnitude\")\n",
    "\n",
    "secax = ax.secondary_xaxis('top', functions=(mpl2jd,jd2mpl))\n",
    "secax.set_xlabel('HJD'+\" \"+str(int(jd0))+\" +\")\n",
    "#pticks=ax.get_xticks()\n",
    "#secax.set_xticks(mpl2jd(pticks))\n",
    "secax.minorticks_on()\n",
    "\n",
    "\n",
    "fig.savefig(constellation+\"_\"+target.replace(constellation, \"\")+\"_\"+'%-8.4f'%(t0_ap[1].jd-2400000+ltt0_helio[1].to_value(\"jd\"))+\"_\"+\"DES\"+\".png\", format=\"png\")\n",
    "    "
   ]
  },
  {
   "cell_type": "code",
   "execution_count": 84,
   "id": "818a81ce",
   "metadata": {},
   "outputs": [
    {
     "data": {
      "text/plain": [
       "['Cep|RZ |max|2460574.4873|2460574.4896|0.002|na|na|9.205 |C|ASI1600MM|V|302|DES|na|',\n",
       " 'Cep|RZ |max|2460574.5164|2460574.5186|0.002|na|na|9.182 |C|ASI1600MM|V|302|DES|na|']"
      ]
     },
     "execution_count": 84,
     "metadata": {},
     "output_type": "execute_result"
    }
   ],
   "source": [
    "maxlist=[]\n",
    "for i in range(t0_ap.shape[0]): \n",
    "    maximum=[constellation,\n",
    "         target.replace(constellation, \"\"),\n",
    "         \"max\",\n",
    "         '%-8.4f'%(t0_ap[i].to_value(\"jd\")),\n",
    "         '%-8.4f'%(t0_ap[i].to_value(\"jd\")+ltt0_helio[i].to_value(\"jd\")),\n",
    "         '0.002',\n",
    "         \"na\",\n",
    "         \"na\",\n",
    "         '%-6.3f'%(lc_fourier(t0_ap[i].jd-t0,w,coeff)),\n",
    "         \"C\",\n",
    "         \"ASI1600MM\",\n",
    "         \"V\",\n",
    "         str(lc.shape[0]),\n",
    "         \"DES\",\n",
    "         \"na\"\n",
    "        ]\n",
    "    maxout=\"\"\n",
    "    for entry in maximum:\n",
    "        maxout=maxout+entry+\"|\"\n",
    "    maxlist=maxlist+[maxout]   \n",
    "        \n",
    "maxlist"
   ]
  },
  {
   "cell_type": "code",
   "execution_count": 85,
   "id": "57403a76",
   "metadata": {},
   "outputs": [
    {
     "data": {
      "text/plain": [
       "['Cep|RZ |min|2460574.3900|2460574.3923|0.002|na|na|9.720 |C|ASI1600MM|V|302|DES|na|',\n",
       " 'Cep|RZ |min|2460574.4954|2460574.4977|0.002|na|na|9.207 |C|ASI1600MM|V|302|DES|na|']"
      ]
     },
     "execution_count": 85,
     "metadata": {},
     "output_type": "execute_result"
    }
   ],
   "source": [
    "minlist=[]\n",
    "for i in range(t1_ap.shape[0]):\n",
    "    minimum=[constellation,\n",
    "         target.replace(constellation, \"\"),\n",
    "         \"min\",\n",
    "         '%-8.4f'%(t1_ap[i].to_value(\"jd\")),\n",
    "         '%-8.4f'%(t1_ap[i].to_value(\"jd\")+ltt1_helio[i].to_value(\"jd\")),\n",
    "         '0.002',\n",
    "         \"na\",\n",
    "         \"na\",\n",
    "         '%-6.3f'%(lc_fourier(t1_ap[i].jd-t0,w,coeff)),\n",
    "         \"C\",\n",
    "         \"ASI1600MM\",\n",
    "         \"V\",\n",
    "         str(lc.shape[0]),\n",
    "         \"DES\",\n",
    "         \"na\"\n",
    "        ]\n",
    "    minout=\"\"\n",
    "    for entry in minimum:\n",
    "        minout=minout+entry+\"|\"\n",
    "    minlist=minlist+[minout]  \n",
    "minlist"
   ]
  },
  {
   "cell_type": "code",
   "execution_count": 86,
   "id": "842cab7e",
   "metadata": {},
   "outputs": [],
   "source": [
    "f=open(constellation+\"_\"+target.replace(constellation, \"\")+\"_\"+'%-8.4f'%(t0_ap[i].jd-2400000+ltt0_helio[i].to_value(\"jd\"))+\"_\"+\"DES\"+\"_MiniMax\"+\".txt\",\"w\")\n",
    "f.write(\"#TYPE=BAVMiniMax\")\n",
    "f.write(\"\\n\")\n",
    "f.write(\"#Delim=|\")\n",
    "f.write(\"\\n\")\n",
    "for line in maxlist:\n",
    "    f.write(line)\n",
    "    f.write(\"\\n\")\n",
    "for line in minlist:\n",
    "    f.write(line)\n",
    "    f.write(\"\\n\")\n",
    "f.close()"
   ]
  },
  {
   "cell_type": "code",
   "execution_count": 87,
   "id": "075267eb",
   "metadata": {},
   "outputs": [],
   "source": [
    "np.savetxt(constellation+\"_\"+target.replace(constellation, \"\")+\"_\"+'%-8.4f'%(t0_ap[0].jd-2400000+ltt0_helio[0].to_value(\"jd\"))+\"_\"+\"DES\"+\"_BAVReport\"+\".txt\",lc,fmt=\"%-8.4f\",header=\"BAV-Report\"+\"\\n\"+\"Rem=\")"
   ]
  },
  {
   "cell_type": "code",
   "execution_count": 88,
   "id": "aa0071da",
   "metadata": {
    "tags": []
   },
   "outputs": [],
   "source": [
    "data=np.array([(2442635.374,2448500.0334,2454388.5221,2454388.0832),(0.30864291,0.3086876,0.308626840,0.30862741)])\n",
    "data=np.transpose(data)"
   ]
  },
  {
   "cell_type": "code",
   "execution_count": 89,
   "id": "99703eef",
   "metadata": {},
   "outputs": [],
   "source": [
    "data=np.array([(2442635.374,2448500.0334,2446342.6620,2454388.0832),(0.30864291,0.3086876,0.30868420,0.30862741)])\n",
    "data=np.transpose(data)"
   ]
  },
  {
   "cell_type": "code",
   "execution_count": 90,
   "id": "f7af90b2-8d7f-48ce-aee5-e52035a018ba",
   "metadata": {
    "tags": []
   },
   "outputs": [],
   "source": [
    "elements=pd.DataFrame(data,columns=[\"epoch\",\"period\"],index=[\"AAVSO\",\"GCVS\",\"BAV\",\"DES\"])"
   ]
  },
  {
   "cell_type": "code",
   "execution_count": 91,
   "id": "ecc890b4-55d3-4638-9a90-a94304fa7718",
   "metadata": {},
   "outputs": [
    {
     "data": {
      "text/html": [
       "<div>\n",
       "<style scoped>\n",
       "    .dataframe tbody tr th:only-of-type {\n",
       "        vertical-align: middle;\n",
       "    }\n",
       "\n",
       "    .dataframe tbody tr th {\n",
       "        vertical-align: top;\n",
       "    }\n",
       "\n",
       "    .dataframe thead th {\n",
       "        text-align: right;\n",
       "    }\n",
       "</style>\n",
       "<table border=\"1\" class=\"dataframe\">\n",
       "  <thead>\n",
       "    <tr style=\"text-align: right;\">\n",
       "      <th></th>\n",
       "      <th>epoch</th>\n",
       "      <th>period</th>\n",
       "    </tr>\n",
       "  </thead>\n",
       "  <tbody>\n",
       "    <tr>\n",
       "      <th>AAVSO</th>\n",
       "      <td>2.442635e+06</td>\n",
       "      <td>0.308643</td>\n",
       "    </tr>\n",
       "    <tr>\n",
       "      <th>GCVS</th>\n",
       "      <td>2.448500e+06</td>\n",
       "      <td>0.308688</td>\n",
       "    </tr>\n",
       "    <tr>\n",
       "      <th>BAV</th>\n",
       "      <td>2.446343e+06</td>\n",
       "      <td>0.308684</td>\n",
       "    </tr>\n",
       "    <tr>\n",
       "      <th>DES</th>\n",
       "      <td>2.454388e+06</td>\n",
       "      <td>0.308627</td>\n",
       "    </tr>\n",
       "  </tbody>\n",
       "</table>\n",
       "</div>"
      ],
      "text/plain": [
       "              epoch    period\n",
       "AAVSO  2.442635e+06  0.308643\n",
       "GCVS   2.448500e+06  0.308688\n",
       "BAV    2.446343e+06  0.308684\n",
       "DES    2.454388e+06  0.308627"
      ]
     },
     "execution_count": 91,
     "metadata": {},
     "output_type": "execute_result"
    }
   ],
   "source": [
    "elements"
   ]
  },
  {
   "cell_type": "code",
   "execution_count": 92,
   "id": "6c09acbd-6776-44d5-a5da-cd6f31353bf5",
   "metadata": {},
   "outputs": [],
   "source": [
    "tmax=(t0_ap[1].to_value(\"jd\")+ltt0_helio[1].to_value(\"jd\"))"
   ]
  },
  {
   "cell_type": "code",
   "execution_count": 93,
   "id": "57d0658c",
   "metadata": {},
   "outputs": [
    {
     "data": {
      "text/html": [
       "<div>\n",
       "<style scoped>\n",
       "    .dataframe tbody tr th:only-of-type {\n",
       "        vertical-align: middle;\n",
       "    }\n",
       "\n",
       "    .dataframe tbody tr th {\n",
       "        vertical-align: top;\n",
       "    }\n",
       "\n",
       "    .dataframe thead th {\n",
       "        text-align: right;\n",
       "    }\n",
       "</style>\n",
       "<table border=\"1\" class=\"dataframe\">\n",
       "  <thead>\n",
       "    <tr style=\"text-align: right;\">\n",
       "      <th></th>\n",
       "      <th>O-C</th>\n",
       "    </tr>\n",
       "  </thead>\n",
       "  <tbody>\n",
       "    <tr>\n",
       "      <th>AAVSO</th>\n",
       "      <td>-0.107208</td>\n",
       "    </tr>\n",
       "    <tr>\n",
       "      <th>GCVS</th>\n",
       "      <td>-0.138912</td>\n",
       "    </tr>\n",
       "    <tr>\n",
       "      <th>BAV</th>\n",
       "      <td>-0.028391</td>\n",
       "    </tr>\n",
       "    <tr>\n",
       "      <th>DES</th>\n",
       "      <td>-0.000984</td>\n",
       "    </tr>\n",
       "  </tbody>\n",
       "</table>\n",
       "</div>"
      ],
      "text/plain": [
       "            O-C\n",
       "AAVSO -0.107208\n",
       "GCVS  -0.138912\n",
       "BAV   -0.028391\n",
       "DES   -0.000984"
      ]
     },
     "execution_count": 93,
     "metadata": {},
     "output_type": "execute_result"
    }
   ],
   "source": [
    "oc=pd.DataFrame(data=None,index=[\"AAVSO\",\"GCVS\",\"BAV\",\"DES\"],columns=[\"O-C\"])\n",
    "for dataset in elements.itertuples():\n",
    "    e=int((tmax-dataset.epoch)/dataset.period)\n",
    "    oc0=tmax-(dataset.epoch+e*dataset.period)\n",
    "    oc1=tmax-(dataset.epoch+(e+1)*dataset.period)\n",
    "    if abs(oc0) < abs(oc1):\n",
    "        oc.loc[dataset.Index][\"O-C\"]=oc0\n",
    "    else:\n",
    "        oc.loc[dataset.Index][\"O-C\"]=oc1\n",
    "oc"
   ]
  },
  {
   "cell_type": "code",
   "execution_count": 94,
   "id": "7c086f56-7f0d-4f6f-8c50-d537fc790488",
   "metadata": {},
   "outputs": [
    {
     "data": {
      "image/png": "[encoded data removed]",
      "text/plain": [
       "<Figure size 640x480 with 1 Axes>"
      ]
     },
     "metadata": {},
     "output_type": "display_data"
    }
   ],
   "source": [
    "ax = plt.subplot(111, frame_on=False) # no visible frame\n",
    "ax.xaxis.set_visible(False)  # hide the x axis\n",
    "ax.yaxis.set_visible(False)  # hide the y axis\n",
    "\n",
    "table(ax, oc)  # where df is your data frame\n",
    "\n",
    "plt.show()"
   ]
  },
  {
   "cell_type": "code",
   "execution_count": null,
   "id": "6483a55d-995d-4894-b0df-bae9618fc933",
   "metadata": {},
   "outputs": [
    {
     "name": "stdout",
     "output_type": "stream",
     "text": [
      "Requirement already satisfied: astropy in c:\\users\\user\\anaconda3\\lib\\site-packages (5.1)\n",
      "Requirement already satisfied: numpy>=1.18 in c:\\users\\user\\anaconda3\\lib\\site-packages (from astropy) (1.24.3)\n",
      "Requirement already satisfied: pyerfa>=2.0 in c:\\users\\user\\anaconda3\\lib\\site-packages (from astropy) (2.0.0)\n",
      "Requirement already satisfied: PyYAML>=3.13 in c:\\users\\user\\anaconda3\\lib\\site-packages (from astropy) (6.0)\n",
      "Requirement already satisfied: packaging>=19.0 in c:\\users\\user\\anaconda3\\lib\\site-packages (from astropy) (23.1)\n",
      "Note: you may need to restart the kernel to use updated packages.\n"
     ]
    }
   ],
   "source": [
    "pip install astropy"
   ]
  },
  {
   "cell_type": "code",
   "execution_count": null,
   "id": "5b788f9f-3c40-42ba-931e-59d652f3915e",
   "metadata": {},
   "outputs": [],
   "source": []
  }
 ],
 "metadata": {
  "kernelspec": {
   "display_name": "base",
   "language": "python",
   "name": "python3"
  },
  "language_info": {
   "codemirror_mode": {
    "name": "ipython",
    "version": 3
   },
   "file_extension": ".py",
   "mimetype": "text/x-python",
   "name": "python",
   "nbconvert_exporter": "python",
   "pygments_lexer": "ipython3",
   "version": "3.11.5"
  }
 },
 "nbformat": 4,
 "nbformat_minor": 5
}
