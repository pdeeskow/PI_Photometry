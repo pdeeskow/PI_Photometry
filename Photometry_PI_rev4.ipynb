{
 "cells": [
  {
   "cell_type": "code",
   "execution_count": 26,
   "id": "06bcb691",
   "metadata": {},
   "outputs": [],
   "source": [
    "import os\n",
    "import pandas as pd\n",
    "import matplotlib as mpl\n",
    "import matplotlib.pyplot as plt\n",
    "import scipy as sp\n",
    "import numpy as np\n",
    "import math\n",
    "from astropy import time, coordinates as coord, units as u\n",
    "import requests\n",
    "import matplotlib.dates as mdates\n",
    "from pandas.plotting import table"
   ]
  },
  {
   "cell_type": "markdown",
   "id": "ade16fca",
   "metadata": {},
   "source": [
    "Path to PixInsight photometry result files"
   ]
  },
  {
   "cell_type": "code",
   "execution_count": 27,
   "id": "c361f36a",
   "metadata": {},
   "outputs": [],
   "source": [
    "target=\"RZ Cep\"\n",
    "path=\"D:\\\\Astronomie\\\\SharpCap Captures\\\\20240919\\\\rz cep\\\\work\\\\photometry\"\n",
    "filelist=os.listdir(path)"
   ]
  },
  {
   "cell_type": "markdown",
   "id": "ea005de9",
   "metadata": {},
   "source": [
    "Get AAVSO data from target variable"
   ]
  },
  {
   "cell_type": "code",
   "execution_count": 28,
   "id": "e673b28f",
   "metadata": {},
   "outputs": [
    {
     "data": {
      "text/plain": [
       "{'Name': 'RZ Cep',\n",
       " 'AUID': '000-BDC-590',\n",
       " 'RA2000': '339.80492',\n",
       " 'Declination2000': '64.85850',\n",
       " 'ProperMotionRA': '92.6330',\n",
       " 'ProperMotionDec': '190.7280',\n",
       " 'VariabilityType': 'RRC/BL:',\n",
       " 'Period': '0.30862741',\n",
       " 'Epoch': '2454388.0832',\n",
       " 'RiseDuration': '32',\n",
       " 'MaxMag': '9.15 V',\n",
       " 'MinMag': '9.72 V',\n",
       " 'SpectralType': 'A0-F2',\n",
       " 'Discoverer': 'Henrietta Leavitt (1907)',\n",
       " 'Category': 'Variable',\n",
       " 'OID': '8370',\n",
       " 'Constellation': 'Cep'}"
      ]
     },
     "execution_count": 28,
     "metadata": {},
     "output_type": "execute_result"
    }
   ],
   "source": [
    "response = requests.get(f\"http://www.aavso.org/vsx/index.php?view=api.object&ident={target}&format=json\")   \n",
    "vsx_data=response.json()['VSXObject']\n",
    "vsx_data"
   ]
  },
  {
   "cell_type": "code",
   "execution_count": 29,
   "id": "b9f0c327",
   "metadata": {},
   "outputs": [],
   "source": [
    "constellation=vsx_data['Constellation']\n",
    "star=vsx_data['Name']\n",
    "period= vsx_data['Period']\n",
    "position = coord.SkyCoord(vsx_data['RA2000'],vsx_data['Declination2000'],\n",
    "                        unit=(u.deg, u.deg), frame='icrs')\n",
    "observatory = coord.EarthLocation(lat=51.43, lon=6.82, height=40)"
   ]
  },
  {
   "cell_type": "markdown",
   "id": "7172b8df",
   "metadata": {},
   "source": [
    "Get Photometry field from AAVSO"
   ]
  },
  {
   "cell_type": "code",
   "execution_count": 30,
   "id": "b785bd9f",
   "metadata": {},
   "outputs": [
    {
     "data": {
      "text/plain": [
       "{'chartid': 'X38802II',\n",
       " 'image_uri': 'https://apps.aavso.org/vsp/chart/X38802II.png?format=json',\n",
       " 'star': 'RZ Cep',\n",
       " 'fov': 60.0,\n",
       " 'maglimit': 15.0,\n",
       " 'title': '',\n",
       " 'comment': '',\n",
       " 'resolution': 150,\n",
       " 'dss': False,\n",
       " 'special': None,\n",
       " 'photometry': [{'auid': '000-BMW-329',\n",
       "   'ra': '22:40:38.23',\n",
       "   'dec': '65:15:45.2',\n",
       "   'label': '85',\n",
       "   'bands': [{'band': 'V', 'mag': 8.487, 'error': 0.037},\n",
       "    {'band': 'B', 'mag': 8.876, 'error': 0.038}],\n",
       "   'comments': ''},\n",
       "  {'auid': '000-BMW-330',\n",
       "   'ra': '22:40:52.11',\n",
       "   'dec': '65:12:54.4',\n",
       "   'label': '90',\n",
       "   'bands': [{'band': 'V', 'mag': 8.97, 'error': 0.039},\n",
       "    {'band': 'B', 'mag': 9.336, 'error': 0.044}],\n",
       "   'comments': ''},\n",
       "  {'auid': '000-BMW-331',\n",
       "   'ra': '22:38:27.89',\n",
       "   'dec': '64:31:46.5',\n",
       "   'label': '96',\n",
       "   'bands': [{'band': 'V', 'mag': 9.589, 'error': 0.056},\n",
       "    {'band': 'B', 'mag': 10.003, 'error': 0.057}],\n",
       "   'comments': ''},\n",
       "  {'auid': '000-BMW-332',\n",
       "   'ra': '22:38:07.95',\n",
       "   'dec': '64:46:00.5',\n",
       "   'label': '102',\n",
       "   'bands': [{'band': 'V', 'mag': 10.222, 'error': 0.035},\n",
       "    {'band': 'B', 'mag': 10.807, 'error': 0.047}],\n",
       "   'comments': ''},\n",
       "  {'auid': '000-BMW-333',\n",
       "   'ra': '22:40:23.27',\n",
       "   'dec': '65:11:21.9',\n",
       "   'label': '104',\n",
       "   'bands': [{'band': 'V', 'mag': 10.352, 'error': 0.038},\n",
       "    {'band': 'B', 'mag': 10.928, 'error': 0.04}],\n",
       "   'comments': ''},\n",
       "  {'auid': '000-BMW-334',\n",
       "   'ra': '22:40:05.51',\n",
       "   'dec': '64:57:19.1',\n",
       "   'label': '109',\n",
       "   'bands': [{'band': 'V', 'mag': 10.866, 'error': 0.09},\n",
       "    {'band': 'B', 'mag': 11.504, 'error': 0.114}],\n",
       "   'comments': ''},\n",
       "  {'auid': '000-BPK-982',\n",
       "   'ra': '22:37:53.32',\n",
       "   'dec': '64:22:52.6',\n",
       "   'label': '149',\n",
       "   'bands': [{'band': 'V', 'mag': 14.857, 'error': 0.002},\n",
       "    {'band': 'B', 'mag': 15.834, 'error': 0.003},\n",
       "    {'band': 'Rc', 'mag': 14.199, 'error': 0.01},\n",
       "    {'band': 'Ic', 'mag': 13.588, 'error': 0.014}],\n",
       "   'comments': ''}],\n",
       " 'auid': '000-BDC-590',\n",
       " 'ra': '22:39:13.18',\n",
       " 'dec': '64:51:30.6'}"
      ]
     },
     "execution_count": 30,
     "metadata": {},
     "output_type": "execute_result"
    }
   ],
   "source": [
    "response = requests.get(f\"https://www.aavso.org/vsp/api/chart/?star={star}&fov=60&maglimit=15&format=json\")\n",
    "chart_data=response.json()\n",
    "chart_data"
   ]
  },
  {
   "cell_type": "code",
   "execution_count": 31,
   "id": "b5c63ea0",
   "metadata": {},
   "outputs": [],
   "source": [
    "auid_list = []\n",
    "for photometry_data in chart_data['photometry']:\n",
    "    auid = photometry_data['auid']\n",
    "    ra=photometry_data['ra']\n",
    "    dec=photometry_data['dec']\n",
    "    for band_data in photometry_data['bands']:\n",
    "        if band_data['band'] == 'V':\n",
    "            mag = band_data['mag']\n",
    "            auid_list.append((auid, ra, dec, mag))"
   ]
  },
  {
   "cell_type": "code",
   "execution_count": 32,
   "id": "280fa2d8",
   "metadata": {},
   "outputs": [
    {
     "data": {
      "text/plain": [
       "[('000-BMW-329', '22:40:38.23', '65:15:45.2', 8.487),\n",
       " ('000-BMW-330', '22:40:52.11', '65:12:54.4', 8.97),\n",
       " ('000-BMW-331', '22:38:27.89', '64:31:46.5', 9.589),\n",
       " ('000-BMW-332', '22:38:07.95', '64:46:00.5', 10.222),\n",
       " ('000-BMW-333', '22:40:23.27', '65:11:21.9', 10.352),\n",
       " ('000-BMW-334', '22:40:05.51', '64:57:19.1', 10.866),\n",
       " ('000-BPK-982', '22:37:53.32', '64:22:52.6', 14.857)]"
      ]
     },
     "execution_count": 32,
     "metadata": {},
     "output_type": "execute_result"
    }
   ],
   "source": [
    "auid_list"
   ]
  },
  {
   "cell_type": "markdown",
   "id": "a62950da",
   "metadata": {},
   "source": [
    "Match with PixInsight Photometry Table"
   ]
  },
  {
   "cell_type": "code",
   "execution_count": 33,
   "id": "eaac1456",
   "metadata": {},
   "outputs": [],
   "source": [
    "file=filelist[0]\n",
    "df=pd.read_csv(path+\"\\\\\"+file,sep=\";\",skiprows=5)\n",
    "df.columns = df.columns.str.replace(' ', '')\n",
    "names= df[['NAME']].to_numpy()\n",
    "catalogue= df[['CATRA', 'CATDEC']].to_numpy()\n",
    "flags= df[['FLAG']].to_numpy() \n",
    "catalogue=coord.SkyCoord(catalogue[:,0],catalogue[:,1],unit=(u.deg, u.deg), frame='icrs')"
   ]
  },
  {
   "cell_type": "code",
   "execution_count": 34,
   "id": "8c4a30b9",
   "metadata": {},
   "outputs": [
    {
     "data": {
      "text/plain": [
       "'3UCAC310-119181'"
      ]
     },
     "execution_count": 34,
     "metadata": {},
     "output_type": "execute_result"
    }
   ],
   "source": [
    "idx,d2d,d3d=position.match_to_catalog_sky(catalogue)\n",
    "varstar=names[idx][0].replace(\" \", \"\")\n",
    "varstar"
   ]
  },
  {
   "cell_type": "code",
   "execution_count": 35,
   "id": "a0d7c0a3",
   "metadata": {},
   "outputs": [],
   "source": [
    "star_data=np.array([(tup[1], tup[2]) for tup in auid_list])\n",
    "star_coord=coord.SkyCoord(star_data[:,0],star_data[:,1],unit=(u.hourangle, u.deg), frame='icrs')"
   ]
  },
  {
   "cell_type": "code",
   "execution_count": 36,
   "id": "caa29257",
   "metadata": {},
   "outputs": [],
   "source": [
    "idx,d2d,d3d=star_coord.match_to_catalog_sky(catalogue)"
   ]
  },
  {
   "cell_type": "code",
   "execution_count": 37,
   "id": "1444ab3c",
   "metadata": {},
   "outputs": [
    {
     "data": {
      "text/latex": [
       "[$0^\\circ02{}^\\prime28.13105606{}^{\\prime\\prime}$\n",
       " $0^\\circ01{}^\\prime08.57024511{}^{\\prime\\prime}$\n",
       " $0^\\circ00{}^\\prime03.16039512{}^{\\prime\\prime}$\n",
       " $0^\\circ00{}^\\prime01.58184367{}^{\\prime\\prime}$\n",
       " $0^\\circ00{}^\\prime01.15673627{}^{\\prime\\prime}$\n",
       " $0^\\circ00{}^\\prime01.02819937{}^{\\prime\\prime}$\n",
       " $0^\\circ07{}^\\prime48.57984778{}^{\\prime\\prime}$]"
      ],
      "text/plain": [
       "<Angle [0.04114752, 0.01904729, 0.00087789, 0.0004394 , 0.00032132,\n",
       "        0.00028561, 0.13016107] deg>"
      ]
     },
     "execution_count": 37,
     "metadata": {},
     "output_type": "execute_result"
    }
   ],
   "source": [
    "d2d"
   ]
  },
  {
   "cell_type": "code",
   "execution_count": 38,
   "id": "fc949f5c",
   "metadata": {},
   "outputs": [
    {
     "data": {
      "text/html": [
       "<div>\n",
       "<style scoped>\n",
       "    .dataframe tbody tr th:only-of-type {\n",
       "        vertical-align: middle;\n",
       "    }\n",
       "\n",
       "    .dataframe tbody tr th {\n",
       "        vertical-align: top;\n",
       "    }\n",
       "\n",
       "    .dataframe thead th {\n",
       "        text-align: right;\n",
       "    }\n",
       "</style>\n",
       "<table border=\"1\" class=\"dataframe\">\n",
       "  <thead>\n",
       "    <tr style=\"text-align: right;\">\n",
       "      <th></th>\n",
       "      <th>DATE_OBS</th>\n",
       "      <th>NAME</th>\n",
       "      <th>FILTER</th>\n",
       "      <th>CATRA</th>\n",
       "      <th>CATDEC</th>\n",
       "      <th>IMGRA</th>\n",
       "      <th>IMGDEC</th>\n",
       "      <th>IMGX</th>\n",
       "      <th>IMGY</th>\n",
       "      <th>f.mag</th>\n",
       "      <th>...</th>\n",
       "      <th>SNR10</th>\n",
       "      <th>SNR11</th>\n",
       "      <th>SNR12</th>\n",
       "      <th>SNR13</th>\n",
       "      <th>SNR14</th>\n",
       "      <th>SNR15</th>\n",
       "      <th>SNR16</th>\n",
       "      <th>SNR17</th>\n",
       "      <th>SNR18</th>\n",
       "      <th>FLAG</th>\n",
       "    </tr>\n",
       "  </thead>\n",
       "  <tbody>\n",
       "    <tr>\n",
       "      <th>28</th>\n",
       "      <td>2.460574e+06</td>\n",
       "      <td>3UCAC311-110033</td>\n",
       "      <td>Johnson V</td>\n",
       "      <td>340.084557</td>\n",
       "      <td>65.235833</td>\n",
       "      <td>340.084629</td>\n",
       "      <td>65.235829</td>\n",
       "      <td>2997.499</td>\n",
       "      <td>235.532</td>\n",
       "      <td>11.153</td>\n",
       "      <td>...</td>\n",
       "      <td>273.19900</td>\n",
       "      <td>263.63550</td>\n",
       "      <td>253.75030</td>\n",
       "      <td>244.01170</td>\n",
       "      <td>234.54520</td>\n",
       "      <td>225.53890</td>\n",
       "      <td>216.76530</td>\n",
       "      <td>208.57490</td>\n",
       "      <td>201.15070</td>\n",
       "      <td>0000</td>\n",
       "    </tr>\n",
       "    <tr>\n",
       "      <th>282</th>\n",
       "      <td>2.460574e+06</td>\n",
       "      <td>3UCAC311-110122</td>\n",
       "      <td>Johnson V</td>\n",
       "      <td>340.212735</td>\n",
       "      <td>65.196153</td>\n",
       "      <td>340.212728</td>\n",
       "      <td>65.196136</td>\n",
       "      <td>2717.872</td>\n",
       "      <td>211.674</td>\n",
       "      <td>13.994</td>\n",
       "      <td>...</td>\n",
       "      <td>24.52005</td>\n",
       "      <td>22.61211</td>\n",
       "      <td>21.05952</td>\n",
       "      <td>19.78089</td>\n",
       "      <td>18.74449</td>\n",
       "      <td>17.54808</td>\n",
       "      <td>16.62589</td>\n",
       "      <td>15.92151</td>\n",
       "      <td>15.17197</td>\n",
       "      <td>0000</td>\n",
       "    </tr>\n",
       "    <tr>\n",
       "      <th>3</th>\n",
       "      <td>2.460574e+06</td>\n",
       "      <td>3UCAC310-119077</td>\n",
       "      <td>Johnson V</td>\n",
       "      <td>339.617813</td>\n",
       "      <td>64.530126</td>\n",
       "      <td>339.617903</td>\n",
       "      <td>64.530090</td>\n",
       "      <td>1676.158</td>\n",
       "      <td>3018.435</td>\n",
       "      <td>9.358</td>\n",
       "      <td>...</td>\n",
       "      <td>711.26870</td>\n",
       "      <td>704.66920</td>\n",
       "      <td>696.53730</td>\n",
       "      <td>687.41790</td>\n",
       "      <td>677.62360</td>\n",
       "      <td>667.35370</td>\n",
       "      <td>656.65520</td>\n",
       "      <td>645.65760</td>\n",
       "      <td>634.43580</td>\n",
       "      <td>0000</td>\n",
       "    </tr>\n",
       "    <tr>\n",
       "      <th>8</th>\n",
       "      <td>2.460574e+06</td>\n",
       "      <td>3UCAC310-119007</td>\n",
       "      <td>Johnson V</td>\n",
       "      <td>339.534070</td>\n",
       "      <td>64.766981</td>\n",
       "      <td>339.534229</td>\n",
       "      <td>64.766967</td>\n",
       "      <td>2440.957</td>\n",
       "      <td>2363.505</td>\n",
       "      <td>9.968</td>\n",
       "      <td>...</td>\n",
       "      <td>497.97560</td>\n",
       "      <td>489.22930</td>\n",
       "      <td>479.37070</td>\n",
       "      <td>469.03350</td>\n",
       "      <td>458.39360</td>\n",
       "      <td>447.44720</td>\n",
       "      <td>436.46760</td>\n",
       "      <td>425.63800</td>\n",
       "      <td>415.05370</td>\n",
       "      <td>0000</td>\n",
       "    </tr>\n",
       "    <tr>\n",
       "      <th>9</th>\n",
       "      <td>2.460574e+06</td>\n",
       "      <td>3UCAC311-110043</td>\n",
       "      <td>Johnson V</td>\n",
       "      <td>340.096213</td>\n",
       "      <td>65.189343</td>\n",
       "      <td>340.096243</td>\n",
       "      <td>65.189323</td>\n",
       "      <td>2853.095</td>\n",
       "      <td>369.035</td>\n",
       "      <td>10.189</td>\n",
       "      <td>...</td>\n",
       "      <td>459.71140</td>\n",
       "      <td>450.53380</td>\n",
       "      <td>440.69670</td>\n",
       "      <td>430.36650</td>\n",
       "      <td>419.75680</td>\n",
       "      <td>409.06560</td>\n",
       "      <td>398.42480</td>\n",
       "      <td>387.95370</td>\n",
       "      <td>377.66130</td>\n",
       "      <td>0000</td>\n",
       "    </tr>\n",
       "    <tr>\n",
       "      <th>17</th>\n",
       "      <td>2.460574e+06</td>\n",
       "      <td>3UCAC310-119317</td>\n",
       "      <td>Johnson V</td>\n",
       "      <td>340.022309</td>\n",
       "      <td>64.955228</td>\n",
       "      <td>340.022439</td>\n",
       "      <td>64.955242</td>\n",
       "      <td>2302.555</td>\n",
       "      <td>1195.037</td>\n",
       "      <td>10.721</td>\n",
       "      <td>...</td>\n",
       "      <td>329.82740</td>\n",
       "      <td>320.03430</td>\n",
       "      <td>309.94500</td>\n",
       "      <td>299.76460</td>\n",
       "      <td>289.78650</td>\n",
       "      <td>280.13580</td>\n",
       "      <td>270.87000</td>\n",
       "      <td>261.92690</td>\n",
       "      <td>253.34140</td>\n",
       "      <td>0000</td>\n",
       "    </tr>\n",
       "    <tr>\n",
       "      <th>295</th>\n",
       "      <td>2.460574e+06</td>\n",
       "      <td>3UCAC309-129190</td>\n",
       "      <td>Johnson V</td>\n",
       "      <td>339.773163</td>\n",
       "      <td>64.379505</td>\n",
       "      <td>339.773172</td>\n",
       "      <td>64.379493</td>\n",
       "      <td>1048.072</td>\n",
       "      <td>3313.008</td>\n",
       "      <td>14.054</td>\n",
       "      <td>...</td>\n",
       "      <td>22.70400</td>\n",
       "      <td>20.78618</td>\n",
       "      <td>19.20603</td>\n",
       "      <td>17.85592</td>\n",
       "      <td>16.57206</td>\n",
       "      <td>15.68691</td>\n",
       "      <td>14.94048</td>\n",
       "      <td>14.00727</td>\n",
       "      <td>13.38212</td>\n",
       "      <td>0000</td>\n",
       "    </tr>\n",
       "  </tbody>\n",
       "</table>\n",
       "<p>7 rows × 51 columns</p>\n",
       "</div>"
      ],
      "text/plain": [
       "         DATE_OBS                       NAME     FILTER       CATRA  \\\n",
       "28   2.460574e+06  3UCAC311-110033            Johnson V  340.084557   \n",
       "282  2.460574e+06  3UCAC311-110122            Johnson V  340.212735   \n",
       "3    2.460574e+06  3UCAC310-119077            Johnson V  339.617813   \n",
       "8    2.460574e+06  3UCAC310-119007            Johnson V  339.534070   \n",
       "9    2.460574e+06  3UCAC311-110043            Johnson V  340.096213   \n",
       "17   2.460574e+06  3UCAC310-119317            Johnson V  340.022309   \n",
       "295  2.460574e+06  3UCAC309-129190            Johnson V  339.773163   \n",
       "\n",
       "        CATDEC       IMGRA     IMGDEC      IMGX      IMGY   f.mag  ...  \\\n",
       "28   65.235833  340.084629  65.235829  2997.499   235.532  11.153  ...   \n",
       "282  65.196153  340.212728  65.196136  2717.872   211.674  13.994  ...   \n",
       "3    64.530126  339.617903  64.530090  1676.158  3018.435   9.358  ...   \n",
       "8    64.766981  339.534229  64.766967  2440.957  2363.505   9.968  ...   \n",
       "9    65.189343  340.096243  65.189323  2853.095   369.035  10.189  ...   \n",
       "17   64.955228  340.022439  64.955242  2302.555  1195.037  10.721  ...   \n",
       "295  64.379505  339.773172  64.379493  1048.072  3313.008  14.054  ...   \n",
       "\n",
       "         SNR10      SNR11      SNR12      SNR13      SNR14      SNR15  \\\n",
       "28   273.19900  263.63550  253.75030  244.01170  234.54520  225.53890   \n",
       "282   24.52005   22.61211   21.05952   19.78089   18.74449   17.54808   \n",
       "3    711.26870  704.66920  696.53730  687.41790  677.62360  667.35370   \n",
       "8    497.97560  489.22930  479.37070  469.03350  458.39360  447.44720   \n",
       "9    459.71140  450.53380  440.69670  430.36650  419.75680  409.06560   \n",
       "17   329.82740  320.03430  309.94500  299.76460  289.78650  280.13580   \n",
       "295   22.70400   20.78618   19.20603   17.85592   16.57206   15.68691   \n",
       "\n",
       "         SNR16      SNR17      SNR18  FLAG  \n",
       "28   216.76530  208.57490  201.15070  0000  \n",
       "282   16.62589   15.92151   15.17197  0000  \n",
       "3    656.65520  645.65760  634.43580  0000  \n",
       "8    436.46760  425.63800  415.05370  0000  \n",
       "9    398.42480  387.95370  377.66130  0000  \n",
       "17   270.87000  261.92690  253.34140  0000  \n",
       "295   14.94048   14.00727   13.38212  0000  \n",
       "\n",
       "[7 rows x 51 columns]"
      ]
     },
     "execution_count": 38,
     "metadata": {},
     "output_type": "execute_result"
    }
   ],
   "source": [
    "df.iloc[idx]"
   ]
  },
  {
   "cell_type": "code",
   "execution_count": 39,
   "id": "d1804327",
   "metadata": {},
   "outputs": [],
   "source": [
    "photometry_stars=[]\n",
    "photometry_mags=[]\n",
    "for i in range(len(auid_list)):\n",
    "    if flags[idx[i]] == \"0000\" and d2d[i].arcsec < 10.0:\n",
    "        photometry_stars.append(names[idx[i]][0].replace(\" \", \"\"))\n",
    "        photometry_mags.append(auid_list[i][3])"
   ]
  },
  {
   "cell_type": "code",
   "execution_count": 40,
   "id": "33194bca",
   "metadata": {},
   "outputs": [
    {
     "data": {
      "text/plain": [
       "(['3UCAC310-119077', '3UCAC310-119007', '3UCAC311-110043', '3UCAC310-119317'],\n",
       " [9.589, 10.222, 10.352, 10.866])"
      ]
     },
     "execution_count": 40,
     "metadata": {},
     "output_type": "execute_result"
    }
   ],
   "source": [
    "photometry_stars, photometry_mags"
   ]
  },
  {
   "cell_type": "code",
   "execution_count": 41,
   "id": "f7e8fda4",
   "metadata": {},
   "outputs": [],
   "source": [
    "\n",
    "check=photometry_stars[3]\n",
    "compstar=photometry_stars[0:3]\n",
    "compstar_mag=photometry_mags[0:3]"
   ]
  },
  {
   "cell_type": "code",
   "execution_count": 42,
   "id": "0d6f77d3",
   "metadata": {},
   "outputs": [
    {
     "data": {
      "text/plain": [
       "'3UCAC310-119317'"
      ]
     },
     "execution_count": 42,
     "metadata": {},
     "output_type": "execute_result"
    }
   ],
   "source": [
    "check"
   ]
  },
  {
   "cell_type": "code",
   "execution_count": 43,
   "id": "1fd925c7",
   "metadata": {},
   "outputs": [
    {
     "data": {
      "text/html": [
       "<div>\n",
       "<style scoped>\n",
       "    .dataframe tbody tr th:only-of-type {\n",
       "        vertical-align: middle;\n",
       "    }\n",
       "\n",
       "    .dataframe tbody tr th {\n",
       "        vertical-align: top;\n",
       "    }\n",
       "\n",
       "    .dataframe thead th {\n",
       "        text-align: right;\n",
       "    }\n",
       "</style>\n",
       "<table border=\"1\" class=\"dataframe\">\n",
       "  <thead>\n",
       "    <tr style=\"text-align: right;\">\n",
       "      <th></th>\n",
       "      <th>DATE_OBS</th>\n",
       "      <th>NAME</th>\n",
       "      <th>FILTER</th>\n",
       "      <th>CATRA</th>\n",
       "      <th>CATDEC</th>\n",
       "      <th>IMGRA</th>\n",
       "      <th>IMGDEC</th>\n",
       "      <th>IMGX</th>\n",
       "      <th>IMGY</th>\n",
       "      <th>f.mag</th>\n",
       "      <th>...</th>\n",
       "      <th>SNR10</th>\n",
       "      <th>SNR11</th>\n",
       "      <th>SNR12</th>\n",
       "      <th>SNR13</th>\n",
       "      <th>SNR14</th>\n",
       "      <th>SNR15</th>\n",
       "      <th>SNR16</th>\n",
       "      <th>SNR17</th>\n",
       "      <th>SNR18</th>\n",
       "      <th>FLAG</th>\n",
       "    </tr>\n",
       "  </thead>\n",
       "  <tbody>\n",
       "    <tr>\n",
       "      <th>0</th>\n",
       "      <td>2.460574e+06</td>\n",
       "      <td>3UCAC310-119695</td>\n",
       "      <td>Johnson V</td>\n",
       "      <td>340.571192</td>\n",
       "      <td>64.872031</td>\n",
       "      <td>340.571293</td>\n",
       "      <td>64.871991</td>\n",
       "      <td>1338.218</td>\n",
       "      <td>809.063</td>\n",
       "      <td>6.793</td>\n",
       "      <td>...</td>\n",
       "      <td>1656.55000</td>\n",
       "      <td>1665.74900</td>\n",
       "      <td>1670.64700</td>\n",
       "      <td>1672.29300</td>\n",
       "      <td>1671.88200</td>\n",
       "      <td>1669.76600</td>\n",
       "      <td>1666.48200</td>\n",
       "      <td>1662.07500</td>\n",
       "      <td>1656.75300</td>\n",
       "      <td>0010</td>\n",
       "    </tr>\n",
       "    <tr>\n",
       "      <th>1</th>\n",
       "      <td>2.460574e+06</td>\n",
       "      <td>3UCAC311-109367</td>\n",
       "      <td>Johnson V</td>\n",
       "      <td>339.178043</td>\n",
       "      <td>65.257768</td>\n",
       "      <td>339.178219</td>\n",
       "      <td>65.257760</td>\n",
       "      <td>4264.321</td>\n",
       "      <td>1209.774</td>\n",
       "      <td>7.411</td>\n",
       "      <td>...</td>\n",
       "      <td>1548.23700</td>\n",
       "      <td>1553.95500</td>\n",
       "      <td>1555.61500</td>\n",
       "      <td>1554.96600</td>\n",
       "      <td>1552.53400</td>\n",
       "      <td>1548.81900</td>\n",
       "      <td>1543.94600</td>\n",
       "      <td>1538.14700</td>\n",
       "      <td>1531.56900</td>\n",
       "      <td>0010</td>\n",
       "    </tr>\n",
       "    <tr>\n",
       "      <th>2</th>\n",
       "      <td>2.460574e+06</td>\n",
       "      <td>3UCAC310-119181</td>\n",
       "      <td>Johnson V</td>\n",
       "      <td>339.806417</td>\n",
       "      <td>64.859810</td>\n",
       "      <td>339.806538</td>\n",
       "      <td>64.859785</td>\n",
       "      <td>2328.477</td>\n",
       "      <td>1750.051</td>\n",
       "      <td>9.028</td>\n",
       "      <td>...</td>\n",
       "      <td>696.83340</td>\n",
       "      <td>690.40150</td>\n",
       "      <td>682.37660</td>\n",
       "      <td>673.19590</td>\n",
       "      <td>663.11230</td>\n",
       "      <td>652.57540</td>\n",
       "      <td>641.78700</td>\n",
       "      <td>630.83550</td>\n",
       "      <td>619.73110</td>\n",
       "      <td>0000</td>\n",
       "    </tr>\n",
       "    <tr>\n",
       "      <th>3</th>\n",
       "      <td>2.460574e+06</td>\n",
       "      <td>3UCAC310-119077</td>\n",
       "      <td>Johnson V</td>\n",
       "      <td>339.617813</td>\n",
       "      <td>64.530126</td>\n",
       "      <td>339.617903</td>\n",
       "      <td>64.530090</td>\n",
       "      <td>1676.158</td>\n",
       "      <td>3018.435</td>\n",
       "      <td>9.358</td>\n",
       "      <td>...</td>\n",
       "      <td>711.26870</td>\n",
       "      <td>704.66920</td>\n",
       "      <td>696.53730</td>\n",
       "      <td>687.41790</td>\n",
       "      <td>677.62360</td>\n",
       "      <td>667.35370</td>\n",
       "      <td>656.65520</td>\n",
       "      <td>645.65760</td>\n",
       "      <td>634.43580</td>\n",
       "      <td>0000</td>\n",
       "    </tr>\n",
       "    <tr>\n",
       "      <th>4</th>\n",
       "      <td>2.460574e+06</td>\n",
       "      <td>3UCAC311-109604</td>\n",
       "      <td>Johnson V</td>\n",
       "      <td>339.467425</td>\n",
       "      <td>65.384685</td>\n",
       "      <td>339.467439</td>\n",
       "      <td>65.384673</td>\n",
       "      <td>4226.637</td>\n",
       "      <td>473.854</td>\n",
       "      <td>9.435</td>\n",
       "      <td>...</td>\n",
       "      <td>731.02280</td>\n",
       "      <td>724.91590</td>\n",
       "      <td>717.29790</td>\n",
       "      <td>708.60050</td>\n",
       "      <td>699.09120</td>\n",
       "      <td>689.01160</td>\n",
       "      <td>678.47770</td>\n",
       "      <td>667.56330</td>\n",
       "      <td>656.34230</td>\n",
       "      <td>0002</td>\n",
       "    </tr>\n",
       "    <tr>\n",
       "      <th>...</th>\n",
       "      <td>...</td>\n",
       "      <td>...</td>\n",
       "      <td>...</td>\n",
       "      <td>...</td>\n",
       "      <td>...</td>\n",
       "      <td>...</td>\n",
       "      <td>...</td>\n",
       "      <td>...</td>\n",
       "      <td>...</td>\n",
       "      <td>...</td>\n",
       "      <td>...</td>\n",
       "      <td>...</td>\n",
       "      <td>...</td>\n",
       "      <td>...</td>\n",
       "      <td>...</td>\n",
       "      <td>...</td>\n",
       "      <td>...</td>\n",
       "      <td>...</td>\n",
       "      <td>...</td>\n",
       "      <td>...</td>\n",
       "      <td>...</td>\n",
       "    </tr>\n",
       "    <tr>\n",
       "      <th>406</th>\n",
       "      <td>2.460574e+06</td>\n",
       "      <td>3UCAC309-129687</td>\n",
       "      <td>Johnson V</td>\n",
       "      <td>340.341711</td>\n",
       "      <td>64.369768</td>\n",
       "      <td>340.341850</td>\n",
       "      <td>64.369804</td>\n",
       "      <td>243.323</td>\n",
       "      <td>2661.818</td>\n",
       "      <td>14.470</td>\n",
       "      <td>...</td>\n",
       "      <td>18.17045</td>\n",
       "      <td>16.41469</td>\n",
       "      <td>15.40727</td>\n",
       "      <td>14.51682</td>\n",
       "      <td>13.47233</td>\n",
       "      <td>12.57895</td>\n",
       "      <td>11.82818</td>\n",
       "      <td>11.17955</td>\n",
       "      <td>10.72095</td>\n",
       "      <td>0000</td>\n",
       "    </tr>\n",
       "    <tr>\n",
       "      <th>407</th>\n",
       "      <td>2.460574e+06</td>\n",
       "      <td>3UCAC309-129270</td>\n",
       "      <td>Johnson V</td>\n",
       "      <td>339.862530</td>\n",
       "      <td>64.343329</td>\n",
       "      <td>339.862490</td>\n",
       "      <td>64.343315</td>\n",
       "      <td>825.377</td>\n",
       "      <td>3321.242</td>\n",
       "      <td>14.482</td>\n",
       "      <td>...</td>\n",
       "      <td>17.66683</td>\n",
       "      <td>16.19381</td>\n",
       "      <td>14.77437</td>\n",
       "      <td>13.66715</td>\n",
       "      <td>12.95905</td>\n",
       "      <td>12.55221</td>\n",
       "      <td>12.13940</td>\n",
       "      <td>11.50763</td>\n",
       "      <td>10.76535</td>\n",
       "      <td>0000</td>\n",
       "    </tr>\n",
       "    <tr>\n",
       "      <th>408</th>\n",
       "      <td>2.460574e+06</td>\n",
       "      <td>3UCAC311-109357</td>\n",
       "      <td>Johnson V</td>\n",
       "      <td>339.164793</td>\n",
       "      <td>65.084191</td>\n",
       "      <td>339.164764</td>\n",
       "      <td>65.084225</td>\n",
       "      <td>3808.325</td>\n",
       "      <td>1780.284</td>\n",
       "      <td>14.483</td>\n",
       "      <td>...</td>\n",
       "      <td>16.09452</td>\n",
       "      <td>14.91607</td>\n",
       "      <td>13.87602</td>\n",
       "      <td>12.79579</td>\n",
       "      <td>11.51847</td>\n",
       "      <td>10.38051</td>\n",
       "      <td>9.47396</td>\n",
       "      <td>8.80770</td>\n",
       "      <td>8.48132</td>\n",
       "      <td>0000</td>\n",
       "    </tr>\n",
       "    <tr>\n",
       "      <th>409</th>\n",
       "      <td>2.460574e+06</td>\n",
       "      <td>3UCAC310-118539</td>\n",
       "      <td>Johnson V</td>\n",
       "      <td>338.753727</td>\n",
       "      <td>64.846709</td>\n",
       "      <td>338.753951</td>\n",
       "      <td>64.846729</td>\n",
       "      <td>3721.163</td>\n",
       "      <td>3014.350</td>\n",
       "      <td>14.485</td>\n",
       "      <td>...</td>\n",
       "      <td>16.30779</td>\n",
       "      <td>14.98201</td>\n",
       "      <td>13.68282</td>\n",
       "      <td>12.28977</td>\n",
       "      <td>11.04665</td>\n",
       "      <td>10.21500</td>\n",
       "      <td>9.92977</td>\n",
       "      <td>9.84827</td>\n",
       "      <td>9.41501</td>\n",
       "      <td>0000</td>\n",
       "    </tr>\n",
       "    <tr>\n",
       "      <th>410</th>\n",
       "      <td>2.460574e+06</td>\n",
       "      <td>3UCAC310-119233</td>\n",
       "      <td>Johnson V</td>\n",
       "      <td>339.890901</td>\n",
       "      <td>64.951668</td>\n",
       "      <td>339.891064</td>\n",
       "      <td>64.951624</td>\n",
       "      <td>2468.414</td>\n",
       "      <td>1360.353</td>\n",
       "      <td>14.498</td>\n",
       "      <td>...</td>\n",
       "      <td>14.67551</td>\n",
       "      <td>14.07034</td>\n",
       "      <td>13.50012</td>\n",
       "      <td>12.93319</td>\n",
       "      <td>12.22996</td>\n",
       "      <td>11.52990</td>\n",
       "      <td>10.97329</td>\n",
       "      <td>10.39054</td>\n",
       "      <td>9.83233</td>\n",
       "      <td>0000</td>\n",
       "    </tr>\n",
       "  </tbody>\n",
       "</table>\n",
       "<p>411 rows × 51 columns</p>\n",
       "</div>"
      ],
      "text/plain": [
       "     DATE_OBS       NAME                       FILTER     CATRA       \\\n",
       "0     2.460574e+06  3UCAC310-119695            Johnson V  340.571192   \n",
       "1     2.460574e+06  3UCAC311-109367            Johnson V  339.178043   \n",
       "2     2.460574e+06  3UCAC310-119181            Johnson V  339.806417   \n",
       "3     2.460574e+06  3UCAC310-119077            Johnson V  339.617813   \n",
       "4     2.460574e+06  3UCAC311-109604            Johnson V  339.467425   \n",
       "..             ...                        ...        ...         ...   \n",
       "406   2.460574e+06  3UCAC309-129687            Johnson V  340.341711   \n",
       "407   2.460574e+06  3UCAC309-129270            Johnson V  339.862530   \n",
       "408   2.460574e+06  3UCAC311-109357            Johnson V  339.164793   \n",
       "409   2.460574e+06  3UCAC310-118539            Johnson V  338.753727   \n",
       "410   2.460574e+06  3UCAC310-119233            Johnson V  339.890901   \n",
       "\n",
       "     CATDEC      IMGRA       IMGDEC      IMGX      IMGY      f.mag   ...  \\\n",
       "0     64.872031  340.571293   64.871991  1338.218   809.063   6.793  ...   \n",
       "1     65.257768  339.178219   65.257760  4264.321  1209.774   7.411  ...   \n",
       "2     64.859810  339.806538   64.859785  2328.477  1750.051   9.028  ...   \n",
       "3     64.530126  339.617903   64.530090  1676.158  3018.435   9.358  ...   \n",
       "4     65.384685  339.467439   65.384673  4226.637   473.854   9.435  ...   \n",
       "..          ...         ...         ...       ...       ...     ...  ...   \n",
       "406   64.369768  340.341850   64.369804   243.323  2661.818  14.470  ...   \n",
       "407   64.343329  339.862490   64.343315   825.377  3321.242  14.482  ...   \n",
       "408   65.084191  339.164764   65.084225  3808.325  1780.284  14.483  ...   \n",
       "409   64.846709  338.753951   64.846729  3721.163  3014.350  14.485  ...   \n",
       "410   64.951668  339.891064   64.951624  2468.414  1360.353  14.498  ...   \n",
       "\n",
       "       SNR10       SNR11       SNR12       SNR13       SNR14       SNR15     \\\n",
       "0    1656.55000  1665.74900  1670.64700  1672.29300  1671.88200  1669.76600   \n",
       "1    1548.23700  1553.95500  1555.61500  1554.96600  1552.53400  1548.81900   \n",
       "2     696.83340   690.40150   682.37660   673.19590   663.11230   652.57540   \n",
       "3     711.26870   704.66920   696.53730   687.41790   677.62360   667.35370   \n",
       "4     731.02280   724.91590   717.29790   708.60050   699.09120   689.01160   \n",
       "..          ...         ...         ...         ...         ...         ...   \n",
       "406    18.17045    16.41469    15.40727    14.51682    13.47233    12.57895   \n",
       "407    17.66683    16.19381    14.77437    13.66715    12.95905    12.55221   \n",
       "408    16.09452    14.91607    13.87602    12.79579    11.51847    10.38051   \n",
       "409    16.30779    14.98201    13.68282    12.28977    11.04665    10.21500   \n",
       "410    14.67551    14.07034    13.50012    12.93319    12.22996    11.52990   \n",
       "\n",
       "       SNR16       SNR17       SNR18     FLAG  \n",
       "0    1666.48200  1662.07500  1656.75300  0010  \n",
       "1    1543.94600  1538.14700  1531.56900  0010  \n",
       "2     641.78700   630.83550   619.73110  0000  \n",
       "3     656.65520   645.65760   634.43580  0000  \n",
       "4     678.47770   667.56330   656.34230  0002  \n",
       "..          ...         ...         ...   ...  \n",
       "406    11.82818    11.17955    10.72095  0000  \n",
       "407    12.13940    11.50763    10.76535  0000  \n",
       "408     9.47396     8.80770     8.48132  0000  \n",
       "409     9.92977     9.84827     9.41501  0000  \n",
       "410    10.97329    10.39054     9.83233  0000  \n",
       "\n",
       "[411 rows x 51 columns]"
      ]
     },
     "execution_count": 43,
     "metadata": {},
     "output_type": "execute_result"
    }
   ],
   "source": [
    "file=filelist[0]\n",
    "df=pd.read_csv(path+\"\\\\\"+file,sep=\";\",skiprows=5)\n",
    "df"
   ]
  },
  {
   "cell_type": "code",
   "execution_count": 44,
   "id": "b7faf2cc",
   "metadata": {},
   "outputs": [],
   "source": [
    "t0=df.iloc[0,0]\n",
    "t0_iso=time.Time(t0,format=\"jd\")"
   ]
  },
  {
   "cell_type": "code",
   "execution_count": 45,
   "id": "60346964",
   "metadata": {},
   "outputs": [],
   "source": [
    "l=[]\n",
    "for s in df.iloc[:,1]: l=l+[s.strip()]\n",
    "df.iloc[:,1]=l"
   ]
  },
  {
   "cell_type": "code",
   "execution_count": 46,
   "id": "22190664-a23a-4034-a743-2d7029092ec0",
   "metadata": {},
   "outputs": [],
   "source": [
    "def snrlst(target,infiles):\n",
    "    target_snr=[]\n",
    "    for file in infiles:\n",
    "        df=pd.read_csv(path+\"\\\\\"+file,sep=\";\",skiprows=5)\n",
    "         #find target star\n",
    "        l=[]\n",
    "        for s in df.iloc[:,1]: l=l+[s.strip()]\n",
    "        df.iloc[:,1]=l\n",
    "        itarget=(df.iloc[:,1]==target)\n",
    "        target_snr=target_snr+[df.loc[itarget]]\n",
    "    target_snr=pd.concat(target_snr,ignore_index=True)\n",
    "    ind=[]\n",
    "    col=target_snr.columns.to_list()\n",
    "    for s in col:\n",
    "        ind = ind + [s.startswith(\"SNR\")]\n",
    "    target_snr=target_snr.loc[:,ind]\n",
    "    return target_snr.mean()"
   ]
  },
  {
   "cell_type": "code",
   "execution_count": 47,
   "id": "96448943-1558-49e1-bf86-c49a43d92d1e",
   "metadata": {},
   "outputs": [
    {
     "data": {
      "text/plain": [
       "'FLUX9    '"
      ]
     },
     "execution_count": 47,
     "metadata": {},
     "output_type": "execute_result"
    }
   ],
   "source": [
    "snr=snrlst(varstar,filelist)\n",
    "snrmax=snr.idxmax()\n",
    "labelflux=snrmax.replace(\"SNR\",\"FLUX\")\n",
    "labelflux"
   ]
  },
  {
   "cell_type": "code",
   "execution_count": 48,
   "id": "ae8163a6-9a42-4879-85ef-490ca69613cc",
   "metadata": {},
   "outputs": [],
   "source": [
    "def fluxcalc2(target,infiles,label_max):\n",
    "    target_flux=pd.DataFrame()\n",
    "    for file in infiles:\n",
    "        #read file\n",
    "        df=pd.read_csv(path+\"\\\\\"+file,sep=\";\",skiprows=5)\n",
    "        #find target star\n",
    "        l=[]\n",
    "        for s in df.iloc[:,1]: l=l+[s.strip()]\n",
    "        df.iloc[:,1]=l\n",
    "        itarget=(df.iloc[:,1]==target)\n",
    "        #read flux\n",
    "        flux=df.loc[itarget][['DATE_OBS     ',label_max]]\n",
    "        flux=flux.rename(columns={'DATE_OBS     ':\"DATE_OBS\",label_max:\"FLUX\"})\n",
    "        target_flux=pd.concat([target_flux,flux])\n",
    "    target_flux=target_flux.reset_index(drop=True)\n",
    "    return target_flux"
   ]
  },
  {
   "cell_type": "code",
   "execution_count": 49,
   "id": "550894e4",
   "metadata": {},
   "outputs": [],
   "source": [
    "minind=0\n",
    "maxind=len(filelist)"
   ]
  },
  {
   "cell_type": "code",
   "execution_count": 50,
   "id": "95aacb6b",
   "metadata": {},
   "outputs": [],
   "source": [
    "flux_var=fluxcalc2(varstar,filelist,labelflux)\n",
    "flux_check=fluxcalc2(check,filelist,labelflux)"
   ]
  },
  {
   "cell_type": "code",
   "execution_count": 51,
   "id": "14793b44",
   "metadata": {},
   "outputs": [
    {
     "name": "stdout",
     "output_type": "stream",
     "text": [
      "         DATE_OBS  3UCAC310-119077  3UCAC310-119007  3UCAC311-110043\n",
      "0    2.460574e+06        581983.90        318272.21        280327.20\n",
      "1    2.460574e+06        576164.54        317679.01        281228.55\n",
      "2    2.460574e+06        596752.79        331186.81        282644.93\n",
      "3    2.460574e+06        588306.94        321806.80        283020.98\n",
      "4    2.460574e+06        572166.59        316066.66        276841.70\n",
      "..            ...              ...              ...              ...\n",
      "297  2.460575e+06        580227.93        317411.30        272660.18\n",
      "298  2.460575e+06        575816.48        313219.04        274015.85\n",
      "299  2.460575e+06        586855.03        323183.50        280246.33\n",
      "300  2.460575e+06        580045.60        322592.17        277697.83\n",
      "301  2.460575e+06        575136.22        318258.74        267475.23\n",
      "\n",
      "[302 rows x 4 columns]\n"
     ]
    }
   ],
   "source": [
    "flux_comp=pd.DataFrame()\n",
    "flux_comp[\"DATE_OBS\"]=flux_var[\"DATE_OBS\"]\n",
    "flux_comp=flux_comp.reset_index(drop=True)\n",
    "for star in compstar:\n",
    "    flux=fluxcalc2(star,filelist,labelflux)\n",
    "    #flux = flux.reset_index(drop=True)\n",
    "    flux_comp[star]=flux['FLUX']\n",
    "print(flux_comp)   "
   ]
  },
  {
   "cell_type": "code",
   "execution_count": 52,
   "id": "b0cce4a8",
   "metadata": {},
   "outputs": [],
   "source": [
    "t=flux_var.to_numpy()[minind:maxind,0]\n",
    "mag_var=flux_var.to_numpy()[minind:maxind,1]\n",
    "mag_check=flux_check.to_numpy()[minind:maxind,1]\n",
    "mag_comp=flux_comp.to_numpy()[minind:maxind,1:]"
   ]
  },
  {
   "cell_type": "code",
   "execution_count": 53,
   "id": "2ce200af",
   "metadata": {},
   "outputs": [
    {
     "data": {
      "text/plain": [
       "5"
      ]
     },
     "execution_count": 53,
     "metadata": {},
     "output_type": "execute_result"
    }
   ],
   "source": [
    "nstars = mag_comp.shape[1]+2\n",
    "nstars"
   ]
  },
  {
   "cell_type": "code",
   "execution_count": 54,
   "id": "f3f9c1ab-0e22-4538-a94d-0a0f13fca03f",
   "metadata": {},
   "outputs": [
    {
     "data": {
      "image/png": "[encoded data removed]",
      "text/plain": [
       "<Figure size 580x830 with 5 Axes>"
      ]
     },
     "metadata": {},
     "output_type": "display_data"
    }
   ],
   "source": [
    "fig, ax = plt.subplots(nstars,1,figsize=(5.8,8.3), layout='constrained')\n",
    "fig.suptitle(\"raw data \" + \" \" + target + \" \" + t0_iso.iso )\n",
    "fig.supylabel(\"Flux [ADU]\")\n",
    "ax[0].plot(t,mag_var,\"bo\",ms=2)\n",
    "ax[0].set_title(varstar)\n",
    "ax[0].tick_params(axis=\"x\",labelbottom=False)\n",
    "ax[0].grid(visible=\"true\")\n",
    "ax[1].plot(t,mag_check,\"bo\",ms=2)\n",
    "ax[1].set_title(check)\n",
    "ax[1].grid(visible=\"true\")\n",
    "ax[1].tick_params(axis=\"x\",labelbottom=False)\n",
    "for i in range(2,nstars):\n",
    "    ax[i].plot(t,mag_comp[:,i-2],\"bo\",ms=2)\n",
    "    ax[i].set_title(compstar[i-2])\n",
    "    ax[i].grid(visible=\"true\")\n",
    "    ax[i].tick_params(axis=\"x\",labelbottom=False)\n",
    "ax[nstars-1].set_xlabel(\"JD\")\n",
    "ax[nstars-1].tick_params(axis=\"x\",labelbottom=True)\n",
    "\n",
    "fig.savefig(constellation+\"_\"+target.replace(constellation, \"\")+\"_\"+'%-8.4f'%(t0_iso.to_value(\"jd\")-2400000)+\"_\"+\"RAW_DATA\"+\".pdf\", format=\"pdf\")"
   ]
  },
  {
   "cell_type": "code",
   "execution_count": 55,
   "id": "56ad7f3d",
   "metadata": {},
   "outputs": [
    {
     "name": "stdout",
     "output_type": "stream",
     "text": [
      "         DATE_OBS  3UCAC310-119077  3UCAC310-119007  3UCAC311-110043\n",
      "0    2.460574e+06         9.629498         9.607217         9.599384\n",
      "1    2.460574e+06         9.643597         9.630202         9.627879\n",
      "2    2.460574e+06         9.636837         9.630533         9.588454\n",
      "3    2.460574e+06         9.645985         9.623963         9.614522\n",
      "4    2.460574e+06         9.628312         9.616953         9.603085\n",
      "..            ...              ...              ...              ...\n",
      "297  2.460575e+06         9.421976         9.400035         9.365034\n",
      "298  2.460575e+06         9.418248         9.390158         9.374977\n",
      "299  2.460575e+06         9.426965         9.412261         9.387488\n",
      "300  2.460575e+06         9.405512         9.401491         9.368788\n",
      "301  2.460575e+06         9.446132         9.436656         9.377914\n",
      "\n",
      "[302 rows x 4 columns]\n"
     ]
    }
   ],
   "source": [
    "# Create a new DataFrame with the same column names as flux_comp\n",
    "mag_var = pd.DataFrame({'DATE_OBS': flux_comp['DATE_OBS']})\n",
    "\n",
    "# Calculate the new columns\n",
    "for star, mag0 in zip(compstar, compstar_mag):\n",
    "    mag_var[star] = -2.5 * np.log10(flux_var['FLUX'] / flux_comp[star]) + mag0\n",
    "\n",
    "print(mag_var)"
   ]
  },
  {
   "cell_type": "code",
   "execution_count": 56,
   "id": "845c3d37",
   "metadata": {},
   "outputs": [
    {
     "data": {
      "text/html": [
       "<div>\n",
       "<style scoped>\n",
       "    .dataframe tbody tr th:only-of-type {\n",
       "        vertical-align: middle;\n",
       "    }\n",
       "\n",
       "    .dataframe tbody tr th {\n",
       "        vertical-align: top;\n",
       "    }\n",
       "\n",
       "    .dataframe thead th {\n",
       "        text-align: right;\n",
       "    }\n",
       "</style>\n",
       "<table border=\"1\" class=\"dataframe\">\n",
       "  <thead>\n",
       "    <tr style=\"text-align: right;\">\n",
       "      <th></th>\n",
       "      <th>DATE_OBS</th>\n",
       "      <th>3UCAC310-119077</th>\n",
       "      <th>3UCAC310-119007</th>\n",
       "      <th>3UCAC311-110043</th>\n",
       "      <th>average</th>\n",
       "    </tr>\n",
       "  </thead>\n",
       "  <tbody>\n",
       "    <tr>\n",
       "      <th>0</th>\n",
       "      <td>2.460574e+06</td>\n",
       "      <td>9.629498</td>\n",
       "      <td>9.607217</td>\n",
       "      <td>9.599384</td>\n",
       "      <td>9.612033</td>\n",
       "    </tr>\n",
       "    <tr>\n",
       "      <th>1</th>\n",
       "      <td>2.460574e+06</td>\n",
       "      <td>9.643597</td>\n",
       "      <td>9.630202</td>\n",
       "      <td>9.627879</td>\n",
       "      <td>9.633892</td>\n",
       "    </tr>\n",
       "    <tr>\n",
       "      <th>2</th>\n",
       "      <td>2.460574e+06</td>\n",
       "      <td>9.636837</td>\n",
       "      <td>9.630533</td>\n",
       "      <td>9.588454</td>\n",
       "      <td>9.618608</td>\n",
       "    </tr>\n",
       "    <tr>\n",
       "      <th>3</th>\n",
       "      <td>2.460574e+06</td>\n",
       "      <td>9.645985</td>\n",
       "      <td>9.623963</td>\n",
       "      <td>9.614522</td>\n",
       "      <td>9.628157</td>\n",
       "    </tr>\n",
       "    <tr>\n",
       "      <th>4</th>\n",
       "      <td>2.460574e+06</td>\n",
       "      <td>9.628312</td>\n",
       "      <td>9.616953</td>\n",
       "      <td>9.603085</td>\n",
       "      <td>9.616117</td>\n",
       "    </tr>\n",
       "    <tr>\n",
       "      <th>...</th>\n",
       "      <td>...</td>\n",
       "      <td>...</td>\n",
       "      <td>...</td>\n",
       "      <td>...</td>\n",
       "      <td>...</td>\n",
       "    </tr>\n",
       "    <tr>\n",
       "      <th>297</th>\n",
       "      <td>2.460575e+06</td>\n",
       "      <td>9.421976</td>\n",
       "      <td>9.400035</td>\n",
       "      <td>9.365034</td>\n",
       "      <td>9.395682</td>\n",
       "    </tr>\n",
       "    <tr>\n",
       "      <th>298</th>\n",
       "      <td>2.460575e+06</td>\n",
       "      <td>9.418248</td>\n",
       "      <td>9.390158</td>\n",
       "      <td>9.374977</td>\n",
       "      <td>9.394461</td>\n",
       "    </tr>\n",
       "    <tr>\n",
       "      <th>299</th>\n",
       "      <td>2.460575e+06</td>\n",
       "      <td>9.426965</td>\n",
       "      <td>9.412261</td>\n",
       "      <td>9.387488</td>\n",
       "      <td>9.408904</td>\n",
       "    </tr>\n",
       "    <tr>\n",
       "      <th>300</th>\n",
       "      <td>2.460575e+06</td>\n",
       "      <td>9.405512</td>\n",
       "      <td>9.401491</td>\n",
       "      <td>9.368788</td>\n",
       "      <td>9.391930</td>\n",
       "    </tr>\n",
       "    <tr>\n",
       "      <th>301</th>\n",
       "      <td>2.460575e+06</td>\n",
       "      <td>9.446132</td>\n",
       "      <td>9.436656</td>\n",
       "      <td>9.377914</td>\n",
       "      <td>9.420234</td>\n",
       "    </tr>\n",
       "  </tbody>\n",
       "</table>\n",
       "<p>302 rows × 5 columns</p>\n",
       "</div>"
      ],
      "text/plain": [
       "         DATE_OBS  3UCAC310-119077  3UCAC310-119007  3UCAC311-110043   average\n",
       "0    2.460574e+06         9.629498         9.607217         9.599384  9.612033\n",
       "1    2.460574e+06         9.643597         9.630202         9.627879  9.633892\n",
       "2    2.460574e+06         9.636837         9.630533         9.588454  9.618608\n",
       "3    2.460574e+06         9.645985         9.623963         9.614522  9.628157\n",
       "4    2.460574e+06         9.628312         9.616953         9.603085  9.616117\n",
       "..            ...              ...              ...              ...       ...\n",
       "297  2.460575e+06         9.421976         9.400035         9.365034  9.395682\n",
       "298  2.460575e+06         9.418248         9.390158         9.374977  9.394461\n",
       "299  2.460575e+06         9.426965         9.412261         9.387488  9.408904\n",
       "300  2.460575e+06         9.405512         9.401491         9.368788  9.391930\n",
       "301  2.460575e+06         9.446132         9.436656         9.377914  9.420234\n",
       "\n",
       "[302 rows x 5 columns]"
      ]
     },
     "execution_count": 56,
     "metadata": {},
     "output_type": "execute_result"
    }
   ],
   "source": [
    "# Identify the columns to be averaged (all columns except 'date_obs')\n",
    "columns_to_average = mag_var.columns.difference(['DATE_OBS'])\n",
    "\n",
    "# Calculate the row-wise mean for these columns\n",
    "mag_var['average'] = mag_var[columns_to_average].mean(axis=1)\n",
    "\n",
    "mag_var"
   ]
  },
  {
   "cell_type": "code",
   "execution_count": 57,
   "id": "705c3e34",
   "metadata": {},
   "outputs": [
    {
     "data": {
      "text/plain": [
       "(302,)"
      ]
     },
     "execution_count": 57,
     "metadata": {},
     "output_type": "execute_result"
    }
   ],
   "source": [
    "mag = mag_var['average'].to_numpy()\n",
    "mag.shape"
   ]
  },
  {
   "cell_type": "code",
   "execution_count": 58,
   "id": "e595cedc",
   "metadata": {},
   "outputs": [
    {
     "data": {
      "image/png": "[encoded data removed]",
      "text/plain": [
       "<Figure size 640x480 with 1 Axes>"
      ]
     },
     "metadata": {},
     "output_type": "display_data"
    }
   ],
   "source": [
    "fig, ax = plt.subplots()  # Create a figure containing a single axes.\n",
    "ax.plot(t,mag,\"bo\",ms=2)  # Plot some data on the axes.\n",
    "#ax.set_ylim(12.7,12.8)\n",
    "ax.invert_yaxis()\n",
    "ax.grid(visible=True)"
   ]
  },
  {
   "cell_type": "code",
   "execution_count": 59,
   "id": "389485b3",
   "metadata": {},
   "outputs": [
    {
     "name": "stdout",
     "output_type": "stream",
     "text": [
      "         DATE_OBS  3UCAC310-119077  3UCAC310-119007  3UCAC311-110043\n",
      "0    2.460574e+06        10.933802        10.911521        10.903688\n",
      "1    2.460574e+06        10.896014        10.882619        10.880296\n",
      "2    2.460574e+06        10.944628        10.938324        10.896244\n",
      "3    2.460574e+06        10.935998        10.913976        10.904534\n",
      "4    2.460574e+06        10.913396        10.902036        10.888168\n",
      "..            ...              ...              ...              ...\n",
      "297  2.460575e+06        10.948671        10.926730        10.891729\n",
      "298  2.460575e+06        10.947502        10.919412        10.904231\n",
      "299  2.460575e+06        10.954161        10.939457        10.914684\n",
      "300  2.460575e+06        10.937518        10.933497        10.900794\n",
      "301  2.460575e+06        10.939375        10.929899        10.871157\n",
      "\n",
      "[302 rows x 4 columns]\n"
     ]
    }
   ],
   "source": [
    "# Create a new DataFrame with the same column names as flux_comp\n",
    "mag_check = pd.DataFrame({'DATE_OBS': flux_comp['DATE_OBS']})\n",
    "\n",
    "# Calculate the new columns\n",
    "for star, mag0 in zip(compstar, compstar_mag):\n",
    "    mag_check[star] = -2.5 * np.log10(flux_check['FLUX'] / flux_comp[star]) + mag0\n",
    "\n",
    "print(mag_check)"
   ]
  },
  {
   "cell_type": "code",
   "execution_count": 60,
   "id": "39efe73a",
   "metadata": {},
   "outputs": [
    {
     "data": {
      "text/html": [
       "<div>\n",
       "<style scoped>\n",
       "    .dataframe tbody tr th:only-of-type {\n",
       "        vertical-align: middle;\n",
       "    }\n",
       "\n",
       "    .dataframe tbody tr th {\n",
       "        vertical-align: top;\n",
       "    }\n",
       "\n",
       "    .dataframe thead th {\n",
       "        text-align: right;\n",
       "    }\n",
       "</style>\n",
       "<table border=\"1\" class=\"dataframe\">\n",
       "  <thead>\n",
       "    <tr style=\"text-align: right;\">\n",
       "      <th></th>\n",
       "      <th>DATE_OBS</th>\n",
       "      <th>3UCAC310-119077</th>\n",
       "      <th>3UCAC310-119007</th>\n",
       "      <th>3UCAC311-110043</th>\n",
       "      <th>average</th>\n",
       "    </tr>\n",
       "  </thead>\n",
       "  <tbody>\n",
       "    <tr>\n",
       "      <th>0</th>\n",
       "      <td>2.460574e+06</td>\n",
       "      <td>10.933802</td>\n",
       "      <td>10.911521</td>\n",
       "      <td>10.903688</td>\n",
       "      <td>10.916337</td>\n",
       "    </tr>\n",
       "    <tr>\n",
       "      <th>1</th>\n",
       "      <td>2.460574e+06</td>\n",
       "      <td>10.896014</td>\n",
       "      <td>10.882619</td>\n",
       "      <td>10.880296</td>\n",
       "      <td>10.886310</td>\n",
       "    </tr>\n",
       "    <tr>\n",
       "      <th>2</th>\n",
       "      <td>2.460574e+06</td>\n",
       "      <td>10.944628</td>\n",
       "      <td>10.938324</td>\n",
       "      <td>10.896244</td>\n",
       "      <td>10.926399</td>\n",
       "    </tr>\n",
       "    <tr>\n",
       "      <th>3</th>\n",
       "      <td>2.460574e+06</td>\n",
       "      <td>10.935998</td>\n",
       "      <td>10.913976</td>\n",
       "      <td>10.904534</td>\n",
       "      <td>10.918169</td>\n",
       "    </tr>\n",
       "    <tr>\n",
       "      <th>4</th>\n",
       "      <td>2.460574e+06</td>\n",
       "      <td>10.913396</td>\n",
       "      <td>10.902036</td>\n",
       "      <td>10.888168</td>\n",
       "      <td>10.901200</td>\n",
       "    </tr>\n",
       "    <tr>\n",
       "      <th>...</th>\n",
       "      <td>...</td>\n",
       "      <td>...</td>\n",
       "      <td>...</td>\n",
       "      <td>...</td>\n",
       "      <td>...</td>\n",
       "    </tr>\n",
       "    <tr>\n",
       "      <th>297</th>\n",
       "      <td>2.460575e+06</td>\n",
       "      <td>10.948671</td>\n",
       "      <td>10.926730</td>\n",
       "      <td>10.891729</td>\n",
       "      <td>10.922377</td>\n",
       "    </tr>\n",
       "    <tr>\n",
       "      <th>298</th>\n",
       "      <td>2.460575e+06</td>\n",
       "      <td>10.947502</td>\n",
       "      <td>10.919412</td>\n",
       "      <td>10.904231</td>\n",
       "      <td>10.923715</td>\n",
       "    </tr>\n",
       "    <tr>\n",
       "      <th>299</th>\n",
       "      <td>2.460575e+06</td>\n",
       "      <td>10.954161</td>\n",
       "      <td>10.939457</td>\n",
       "      <td>10.914684</td>\n",
       "      <td>10.936101</td>\n",
       "    </tr>\n",
       "    <tr>\n",
       "      <th>300</th>\n",
       "      <td>2.460575e+06</td>\n",
       "      <td>10.937518</td>\n",
       "      <td>10.933497</td>\n",
       "      <td>10.900794</td>\n",
       "      <td>10.923936</td>\n",
       "    </tr>\n",
       "    <tr>\n",
       "      <th>301</th>\n",
       "      <td>2.460575e+06</td>\n",
       "      <td>10.939375</td>\n",
       "      <td>10.929899</td>\n",
       "      <td>10.871157</td>\n",
       "      <td>10.913477</td>\n",
       "    </tr>\n",
       "  </tbody>\n",
       "</table>\n",
       "<p>302 rows × 5 columns</p>\n",
       "</div>"
      ],
      "text/plain": [
       "         DATE_OBS  3UCAC310-119077  3UCAC310-119007  3UCAC311-110043  \\\n",
       "0    2.460574e+06        10.933802        10.911521        10.903688   \n",
       "1    2.460574e+06        10.896014        10.882619        10.880296   \n",
       "2    2.460574e+06        10.944628        10.938324        10.896244   \n",
       "3    2.460574e+06        10.935998        10.913976        10.904534   \n",
       "4    2.460574e+06        10.913396        10.902036        10.888168   \n",
       "..            ...              ...              ...              ...   \n",
       "297  2.460575e+06        10.948671        10.926730        10.891729   \n",
       "298  2.460575e+06        10.947502        10.919412        10.904231   \n",
       "299  2.460575e+06        10.954161        10.939457        10.914684   \n",
       "300  2.460575e+06        10.937518        10.933497        10.900794   \n",
       "301  2.460575e+06        10.939375        10.929899        10.871157   \n",
       "\n",
       "       average  \n",
       "0    10.916337  \n",
       "1    10.886310  \n",
       "2    10.926399  \n",
       "3    10.918169  \n",
       "4    10.901200  \n",
       "..         ...  \n",
       "297  10.922377  \n",
       "298  10.923715  \n",
       "299  10.936101  \n",
       "300  10.923936  \n",
       "301  10.913477  \n",
       "\n",
       "[302 rows x 5 columns]"
      ]
     },
     "execution_count": 60,
     "metadata": {},
     "output_type": "execute_result"
    }
   ],
   "source": [
    "# Identify the columns to be averaged (all columns except 'date_obs')\n",
    "columns_to_average = mag_check.columns.difference(['DATE_OBS'])\n",
    "\n",
    "# Calculate the row-wise mean for these columns\n",
    "mag_check['average'] = mag_check[columns_to_average].mean(axis=1)\n",
    "\n",
    "mag_check"
   ]
  },
  {
   "cell_type": "code",
   "execution_count": 61,
   "id": "75021472",
   "metadata": {},
   "outputs": [
    {
     "data": {
      "text/plain": [
       "(302,)"
      ]
     },
     "execution_count": 61,
     "metadata": {},
     "output_type": "execute_result"
    }
   ],
   "source": [
    "mag_c = mag_check['average'].to_numpy()\n",
    "mag.shape"
   ]
  },
  {
   "cell_type": "code",
   "execution_count": 62,
   "id": "774049d1",
   "metadata": {},
   "outputs": [
    {
     "data": {
      "image/png": "[encoded data removed]",
      "text/plain": [
       "<Figure size 640x480 with 1 Axes>"
      ]
     },
     "metadata": {},
     "output_type": "display_data"
    }
   ],
   "source": [
    "fig, ax = plt.subplots()  # Create a figure containing a single axes.\n",
    "ax.plot(t,mag_c,\"bo\",ms=2)  # Plot some data on the axes.\n",
    "ax.grid(visible=True)\n",
    "#ax.set_ylim(12.4,12.5)\n",
    "ax.invert_yaxis()"
   ]
  },
  {
   "cell_type": "code",
   "execution_count": 63,
   "id": "a8ff650d",
   "metadata": {},
   "outputs": [
    {
     "data": {
      "text/plain": [
       "0.012781578340284433"
      ]
     },
     "execution_count": 63,
     "metadata": {},
     "output_type": "execute_result"
    }
   ],
   "source": [
    "err_c=np.std(mag_c)\n",
    "err_c"
   ]
  },
  {
   "cell_type": "code",
   "execution_count": 64,
   "id": "57c7b8a5",
   "metadata": {},
   "outputs": [],
   "source": [
    "lc=np.empty((mag.shape[0],3))\n",
    "lc[:,0]=t\n",
    "lc[:,1]=mag\n",
    "lc[:,2]=err_c"
   ]
  },
  {
   "cell_type": "code",
   "execution_count": 65,
   "id": "8fb5df78",
   "metadata": {},
   "outputs": [],
   "source": [
    "t0=int(lc[0,0])\n",
    "t=lc[:,0]-t0\n",
    "mag=lc[:,1]\n",
    "merr=lc[:,2]"
   ]
  },
  {
   "cell_type": "code",
   "execution_count": 66,
   "id": "ed9d9061",
   "metadata": {},
   "outputs": [
    {
     "data": {
      "text/plain": [
       "'2024-09-20'"
      ]
     },
     "execution_count": 66,
     "metadata": {},
     "output_type": "execute_result"
    }
   ],
   "source": [
    "t0_ap=time.Time(t0,format=\"jd\")\n",
    "t0_ap.to_value(\"iso\",subfmt=\"date\")"
   ]
  },
  {
   "cell_type": "code",
   "execution_count": 67,
   "id": "e8439c49",
   "metadata": {},
   "outputs": [],
   "source": [
    "p=float(period)\n",
    "w=2*math.pi/p\n",
    "k=8\n",
    "C=np.stack([np.sin(i*w*t) for i in range(1,k+1)])\n",
    "B=np.stack([np.cos(i*w*t) for i in range(k+1)])\n",
    "A=np.concatenate((B,C)).T\n",
    "coeff = np.linalg.lstsq(A,mag,rcond=None)[0]"
   ]
  },
  {
   "cell_type": "code",
   "execution_count": 68,
   "id": "e59670d0",
   "metadata": {},
   "outputs": [],
   "source": [
    "def lc_fourier(t,w,coeff):\n",
    "    n=coeff.shape[0]\n",
    "    mag=0\n",
    "    k=int((n-1)/2)\n",
    "    for i in range(0,k+1):\n",
    "        mag=mag+coeff[i]*np.cos(i*w*t)\n",
    "    for i in range(k+1,n):\n",
    "        mag=mag+coeff[i]*np.sin((i-k)*w*t)\n",
    "    return mag"
   ]
  },
  {
   "cell_type": "code",
   "execution_count": 69,
   "id": "7bdbf529",
   "metadata": {},
   "outputs": [],
   "source": [
    "t_step=np.linspace(min(t),max(t),1000)"
   ]
  },
  {
   "cell_type": "code",
   "execution_count": 70,
   "id": "2cd5da08",
   "metadata": {},
   "outputs": [],
   "source": [
    "x=lc_fourier(t_step,w,coeff)"
   ]
  },
  {
   "cell_type": "code",
   "execution_count": 71,
   "id": "7af45be7",
   "metadata": {},
   "outputs": [],
   "source": [
    "ind=sp.signal.argrelmin(x)\n",
    "ind1=sp.signal.argrelmax(x)"
   ]
  },
  {
   "cell_type": "code",
   "execution_count": 72,
   "id": "a0593287-cddd-48d8-9547-1489fca76f34",
   "metadata": {
    "tags": []
   },
   "outputs": [
    {
     "data": {
      "text/plain": [
       "(array([215, 643], dtype=int64),)"
      ]
     },
     "execution_count": 72,
     "metadata": {},
     "output_type": "execute_result"
    }
   ],
   "source": [
    "ind1"
   ]
  },
  {
   "cell_type": "code",
   "execution_count": 73,
   "id": "32210116",
   "metadata": {},
   "outputs": [
    {
     "data": {
      "text/plain": [
       "array(['2024-09-20 23:41:43.694', '2024-09-21 00:23:35.244'], dtype='<U23')"
      ]
     },
     "execution_count": 73,
     "metadata": {},
     "output_type": "execute_result"
    }
   ],
   "source": [
    "t0_ap=time.Time(t0+t_step[ind],format=\"jd\")\n",
    "t1_ap=time.Time(t0+t_step[ind1],format=\"jd\")\n",
    "t0_ap.to_value(\"iso\")"
   ]
  },
  {
   "cell_type": "code",
   "execution_count": 74,
   "id": "0b006a6c",
   "metadata": {},
   "outputs": [
    {
     "data": {
      "text/plain": [
       "array([0.00226898, 0.00226964])"
      ]
     },
     "execution_count": 74,
     "metadata": {},
     "output_type": "execute_result"
    }
   ],
   "source": [
    "t0_ap = time.Time(t0+t_step[ind],format=\"jd\",\n",
    "                  scale='utc', location=observatory)  \n",
    "t1_ap=time.Time(t0+t_step[ind1],format=\"jd\",\n",
    "                  scale=\"utc\",location=observatory)\n",
    "ltt0_helio = t0_ap.light_travel_time(position,\"heliocentric\") \n",
    "ltt1_helio = t1_ap.light_travel_time(position,\"heliocentric\") \n",
    "ltt0_helio.to_value(\"jd\") "
   ]
  },
  {
   "cell_type": "code",
   "execution_count": 75,
   "id": "e2efc817-f283-4494-a88c-67460b4b8dab",
   "metadata": {
    "tags": []
   },
   "outputs": [
    {
     "data": {
      "text/plain": [
       "<Time object: scale='utc' format='jd' value=[2460574.48731127 2460574.51638014]>"
      ]
     },
     "execution_count": 75,
     "metadata": {},
     "output_type": "execute_result"
    }
   ],
   "source": [
    "time.Time(t0+t_step[ind],format=\"jd\",\n",
    "                  scale='utc', location=observatory)  "
   ]
  },
  {
   "cell_type": "code",
   "execution_count": 76,
   "id": "4b0b9afb",
   "metadata": {},
   "outputs": [
    {
     "data": {
      "text/plain": [
       "[<Quantity 1.07195282>, <Quantity 1.17447565>, <Quantity 1.02867025>]"
      ]
     },
     "execution_count": 76,
     "metadata": {},
     "output_type": "execute_result"
    }
   ],
   "source": [
    "t_am=time.Time(t0+t_step,format=\"jd\",scale=\"utc\",location=observatory)\n",
    "frame=coord.AltAz(obstime=t_am,location=observatory)\n",
    "airmass=position.transform_to(frame).secz\n",
    "[airmass[0],airmass[999],np.min(airmass)]"
   ]
  },
  {
   "cell_type": "code",
   "execution_count": 77,
   "id": "3f18ed0d",
   "metadata": {},
   "outputs": [],
   "source": [
    "description=[[\"Maximum (UTC, geocentric)\",t0_ap[0].to_value(\"iso\")],\n",
    "             [\"Maximum (HJD, time base UTC)\",'%-8.4f'%(t0_ap[0].to_value(\"jd\")+ltt0_helio[0].to_value(\"jd\"))+\"+/-0.002\"],\n",
    "             [\"Maximum (UTC, geocentric)\",t0_ap[1].to_value(\"iso\")],\n",
    "             [\"Maximum (HJD, time base UTC)\",'%-8.4f'%(t0_ap[1].to_value(\"jd\")+ltt0_helio[1].to_value(\"jd\"))+\"+/-0.002\"],\n",
    "             [\"Minimum (UTC, geocentric)\",t1_ap[0].to_value(\"iso\")],\n",
    "             [\"Minimim (HJD, time base UTC)\",'%-8.4f'%(t1_ap[0].to_value(\"jd\")+ltt1_helio[0].to_value(\"jd\"))+\"+/-0.002\"],\n",
    "             [\"Minimum (UTC, geocentric)\",t1_ap[1].to_value(\"iso\")],\n",
    "             [\"Minimim (HJD, time base UTC)\",'%-8.4f'%(t1_ap[1].to_value(\"jd\")+ltt1_helio[1].to_value(\"jd\"))+\"+/-0.002\"],\n",
    "             [\"Observer\",\"Deeskow, DES\"],\n",
    "             [\"Instrumnent\",\"CFF140 f/6.6, ASI1600mm with V Filter\"],\n",
    "             [\"Comparison Star\",compstar[0]],\n",
    "             [\"\",compstar[1]],\n",
    "             [\"\",compstar[2]],\n",
    "             [\"Photometry\",\"PixInsight Photometry Skript\"],\n",
    "             [\"Evaluation\",\"Fourier-Fit\"],\n",
    "             [\"Airmass\",\"1.072 ... 1.028 ... 1.174\"],\n",
    "             [\"Number of Measurements\",str(lc.shape[0])]\n",
    "            ]\n",
    "title=target + \" \" + \"             \"+t0_ap[0].to_value(\"iso\",subfmt=\"date\")"
   ]
  },
  {
   "cell_type": "code",
   "execution_count": 78,
   "id": "62924ff7",
   "metadata": {},
   "outputs": [],
   "source": [
    "tiso=time.Time(t0+t,format=\"jd\")\n",
    "t_step_iso=time.Time(t0+t_step,format=\"jd\")\n",
    "jd0=t_step_iso[0].jd"
   ]
  },
  {
   "cell_type": "code",
   "execution_count": 79,
   "id": "a3b1bfa5",
   "metadata": {},
   "outputs": [],
   "source": [
    "mpl0=mpl.dates.date2num(t_step_iso[0].datetime)"
   ]
  },
  {
   "cell_type": "code",
   "execution_count": 80,
   "id": "4bd3ae7f",
   "metadata": {},
   "outputs": [],
   "source": [
    "def jd2mpl(tin):\n",
    "    tout=tin+mpl0-jd0-ltt0_helio[0].to_value(\"jd\")+int(jd0)\n",
    "    return tout"
   ]
  },
  {
   "cell_type": "code",
   "execution_count": 81,
   "id": "e9908930",
   "metadata": {},
   "outputs": [],
   "source": [
    "def mpl2jd(tin):\n",
    "    tout=tin-mpl0+jd0+ltt0_helio[0].to_value(\"jd\")-int(jd0) \n",
    "    return tout"
   ]
  },
  {
   "cell_type": "code",
   "execution_count": 82,
   "id": "528329fb",
   "metadata": {},
   "outputs": [
    {
     "data": {
      "image/png": "[encoded data removed]",
      "text/plain": [
       "<Figure size 580x830 with 2 Axes>"
      ]
     },
     "metadata": {},
     "output_type": "display_data"
    }
   ],
   "source": [
    "fig, (ax,ax1) = plt.subplots(2,1,height_ratios=[1,1],figsize=(5.8,8.3))\n",
    "fig.suptitle(title,x=0.5,y=0.97,ha=\"center\")\n",
    "ax.clear()\n",
    "ax.errorbar(tiso.datetime,mag,yerr=merr,elinewidth=0.5,marker=\"o\",ms=2,linestyle=\"none\")\n",
    "ax.plot(t_step_iso.datetime,lc_fourier(t_step,w,coeff),\"b--\",linewidth=1)  \n",
    "for i in ind[0]:\n",
    "    ax.axvline(t_step_iso[i].datetime,0,1,color='dimgrey',ls=\"--\")\n",
    "for i in ind1[0]:\n",
    "    ax.axvline(t_step_iso[i].datetime,0,1,color='dimgrey',ls=\"--\")\n",
    "ax.invert_yaxis()\n",
    "ax.minorticks_on()\n",
    "ax.grid(visible=True,which=\"both\")\n",
    "ax.set_xlabel(\"UTC\")\n",
    "ax.xaxis.set_major_formatter(mdates.DateFormatter('%H:%M'))\n",
    "#ax.set_xlabel(\"JD \"+'%-8.0f'%(int(t0_ap.to_value(\"jd\"))))\n",
    "ax.set_ylabel(\"Magnitude\")\n",
    "\n",
    "secax = ax.secondary_xaxis('top', functions=(mpl2jd,jd2mpl))\n",
    "secax.set_xlabel('HJD'+\" \"+str(int(jd0))+\" +\")\n",
    "#pticks=ax.get_xticks()\n",
    "#secax.set_xticks(mpl2jd(pticks))\n",
    "secax.minorticks_on()\n",
    "\n",
    "ax1.tick_params(\n",
    "    axis=\"both\",\n",
    "    which=\"both\",\n",
    "    bottom=False,\n",
    "    top=False,\n",
    "    left=False,\n",
    "    right=False,\n",
    "    labelbottom=False,\n",
    "    labeltop=False,\n",
    "    labelleft=False,\n",
    "    labelright=False)\n",
    "ax1.set_axis_off()\n",
    "ax1.table(description,loc=\"upper center\",cellLoc=\"left\",edges=\"\")\n",
    "\n",
    "fig.savefig(constellation+\"_\"+target.replace(constellation, \"\")+\"_\"+'%-8.4f'%(t0_ap[1].jd-2400000+ltt0_helio[1].to_value(\"jd\"))+\"_\"+\"DES\"+\".pdf\", format=\"pdf\")\n",
    "    "
   ]
  },
  {
   "cell_type": "code",
   "execution_count": 83,
   "id": "862bc389-7e74-442d-95da-d6e3a98777b8",
   "metadata": {},
   "outputs": [
    {
     "data": {
      "image/png": "[encoded data removed]",
      "text/plain": [
       "<Figure size 580x580 with 1 Axes>"
      ]
     },
     "metadata": {},
     "output_type": "display_data"
    }
   ],
   "source": [
    "fig, ax = plt.subplots(1,1,height_ratios=[1],figsize=(5.8,5.8))\n",
    "fig.suptitle(title,x=0.5,y=0.97,ha=\"center\")\n",
    "ax.clear()\n",
    "ax.errorbar(tiso.datetime,mag,yerr=merr,elinewidth=0.5,marker=\"o\",ms=2,linestyle=\"none\")\n",
    "ax.plot(t_step_iso.datetime,lc_fourier(t_step,w,coeff),\"b--\",linewidth=1)  \n",
    "for i in ind[0]:\n",
    "    ax.axvline(t_step_iso[i].datetime,0,1,color='dimgrey',ls=\"--\")\n",
    "for i in ind1[0]:\n",
    "    ax.axvline(t_step_iso[i].datetime,0,1,color='dimgrey',ls=\"--\")\n",
    "ax.invert_yaxis()\n",
    "ax.minorticks_on()\n",
    "ax.grid(visible=True,which=\"both\")\n",
    "ax.set_xlabel(\"UTC\")\n",
    "ax.xaxis.set_major_formatter(mdates.DateFormatter('%H:%M'))\n",
    "#ax.set_xlabel(\"JD \"+'%-8.0f'%(int(t0_ap.to_value(\"jd\"))))\n",
    "ax.set_ylabel(\"Magnitude\")\n",
    "\n",
    "secax = ax.secondary_xaxis('top', functions=(mpl2jd,jd2mpl))\n",
    "secax.set_xlabel('HJD'+\" \"+str(int(jd0))+\" +\")\n",
    "#pticks=ax.get_xticks()\n",
    "#secax.set_xticks(mpl2jd(pticks))\n",
    "secax.minorticks_on()\n",
    "\n",
    "\n",
    "fig.savefig(constellation+\"_\"+target.replace(constellation, \"\")+\"_\"+'%-8.4f'%(t0_ap[1].jd-2400000+ltt0_helio[1].to_value(\"jd\"))+\"_\"+\"DES\"+\".png\", format=\"png\")\n",
    "    "
   ]
  },
  {
   "cell_type": "code",
   "execution_count": 84,
   "id": "818a81ce",
   "metadata": {},
   "outputs": [
    {
     "data": {
      "text/plain": [
       "['Cep|RZ |max|2460574.4873|2460574.4896|0.002|na|na|9.205 |C|ASI1600MM|V|302|DES|na|',\n",
       " 'Cep|RZ |max|2460574.5164|2460574.5186|0.002|na|na|9.182 |C|ASI1600MM|V|302|DES|na|']"
      ]
     },
     "execution_count": 84,
     "metadata": {},
     "output_type": "execute_result"
    }
   ],
   "source": [
    "maxlist=[]\n",
    "for i in range(t0_ap.shape[0]): \n",
    "    maximum=[constellation,\n",
    "         target.replace(constellation, \"\"),\n",
    "         \"max\",\n",
    "         '%-8.4f'%(t0_ap[i].to_value(\"jd\")),\n",
    "         '%-8.4f'%(t0_ap[i].to_value(\"jd\")+ltt0_helio[i].to_value(\"jd\")),\n",
    "         '0.002',\n",
    "         \"na\",\n",
    "         \"na\",\n",
    "         '%-6.3f'%(lc_fourier(t0_ap[i].jd-t0,w,coeff)),\n",
    "         \"C\",\n",
    "         \"ASI1600MM\",\n",
    "         \"V\",\n",
    "         str(lc.shape[0]),\n",
    "         \"DES\",\n",
    "         \"na\"\n",
    "        ]\n",
    "    maxout=\"\"\n",
    "    for entry in maximum:\n",
    "        maxout=maxout+entry+\"|\"\n",
    "    maxlist=maxlist+[maxout]   \n",
    "        \n",
    "maxlist"
   ]
  },
  {
   "cell_type": "code",
   "execution_count": 85,
   "id": "57403a76",
   "metadata": {},
   "outputs": [
    {
     "data": {
      "text/plain": [
       "['Cep|RZ |min|2460574.3900|2460574.3923|0.002|na|na|9.720 |C|ASI1600MM|V|302|DES|na|',\n",
       " 'Cep|RZ |min|2460574.4954|2460574.4977|0.002|na|na|9.207 |C|ASI1600MM|V|302|DES|na|']"
      ]
     },
     "execution_count": 85,
     "metadata": {},
     "output_type": "execute_result"
    }
   ],
   "source": [
    "minlist=[]\n",
    "for i in range(t1_ap.shape[0]):\n",
    "    minimum=[constellation,\n",
    "         target.replace(constellation, \"\"),\n",
    "         \"min\",\n",
    "         '%-8.4f'%(t1_ap[i].to_value(\"jd\")),\n",
    "         '%-8.4f'%(t1_ap[i].to_value(\"jd\")+ltt1_helio[i].to_value(\"jd\")),\n",
    "         '0.002',\n",
    "         \"na\",\n",
    "         \"na\",\n",
    "         '%-6.3f'%(lc_fourier(t1_ap[i].jd-t0,w,coeff)),\n",
    "         \"C\",\n",
    "         \"ASI1600MM\",\n",
    "         \"V\",\n",
    "         str(lc.shape[0]),\n",
    "         \"DES\",\n",
    "         \"na\"\n",
    "        ]\n",
    "    minout=\"\"\n",
    "    for entry in minimum:\n",
    "        minout=minout+entry+\"|\"\n",
    "    minlist=minlist+[minout]  \n",
    "minlist"
   ]
  },
  {
   "cell_type": "code",
   "execution_count": 86,
   "id": "842cab7e",
   "metadata": {},
   "outputs": [],
   "source": [
    "f=open(constellation+\"_\"+target.replace(constellation, \"\")+\"_\"+'%-8.4f'%(t0_ap[i].jd-2400000+ltt0_helio[i].to_value(\"jd\"))+\"_\"+\"DES\"+\"_MiniMax\"+\".txt\",\"w\")\n",
    "f.write(\"#TYPE=BAVMiniMax\")\n",
    "f.write(\"\\n\")\n",
    "f.write(\"#Delim=|\")\n",
    "f.write(\"\\n\")\n",
    "for line in maxlist:\n",
    "    f.write(line)\n",
    "    f.write(\"\\n\")\n",
    "for line in minlist:\n",
    "    f.write(line)\n",
    "    f.write(\"\\n\")\n",
    "f.close()"
   ]
  },
  {
   "cell_type": "code",
   "execution_count": 87,
   "id": "075267eb",
   "metadata": {},
   "outputs": [],
   "source": [
    "np.savetxt(constellation+\"_\"+target.replace(constellation, \"\")+\"_\"+'%-8.4f'%(t0_ap[0].jd-2400000+ltt0_helio[0].to_value(\"jd\"))+\"_\"+\"DES\"+\"_BAVReport\"+\".txt\",lc,fmt=\"%-8.4f\",header=\"BAV-Report\"+\"\\n\"+\"Rem=\")"
   ]
  },
  {
   "cell_type": "code",
   "execution_count": 88,
   "id": "aa0071da",
   "metadata": {
    "tags": []
   },
   "outputs": [],
   "source": [
    "data=np.array([(2442635.374,2448500.0334,2454388.5221,2454388.0832),(0.30864291,0.3086876,0.308626840,0.30862741)])\n",
    "data=np.transpose(data)"
   ]
  },
  {
   "cell_type": "code",
   "execution_count": 89,
   "id": "99703eef",
   "metadata": {},
   "outputs": [],
   "source": [
    "data=np.array([(2442635.374,2448500.0334,2446342.6620,2454388.0832),(0.30864291,0.3086876,0.30868420,0.30862741)])\n",
    "data=np.transpose(data)"
   ]
  },
  {
   "cell_type": "code",
   "execution_count": 90,
   "id": "f7af90b2-8d7f-48ce-aee5-e52035a018ba",
   "metadata": {
    "tags": []
   },
   "outputs": [],
   "source": [
    "elements=pd.DataFrame(data,columns=[\"epoch\",\"period\"],index=[\"AAVSO\",\"GCVS\",\"BAV\",\"DES\"])"
   ]
  },
  {
   "cell_type": "code",
   "execution_count": 91,
   "id": "ecc890b4-55d3-4638-9a90-a94304fa7718",
   "metadata": {},
   "outputs": [
    {
     "data": {
      "text/html": [
       "<div>\n",
       "<style scoped>\n",
       "    .dataframe tbody tr th:only-of-type {\n",
       "        vertical-align: middle;\n",
       "    }\n",
       "\n",
       "    .dataframe tbody tr th {\n",
       "        vertical-align: top;\n",
       "    }\n",
       "\n",
       "    .dataframe thead th {\n",
       "        text-align: right;\n",
       "    }\n",
       "</style>\n",
       "<table border=\"1\" class=\"dataframe\">\n",
       "  <thead>\n",
       "    <tr style=\"text-align: right;\">\n",
       "      <th></th>\n",
       "      <th>epoch</th>\n",
       "      <th>period</th>\n",
       "    </tr>\n",
       "  </thead>\n",
       "  <tbody>\n",
       "    <tr>\n",
       "      <th>AAVSO</th>\n",
       "      <td>2.442635e+06</td>\n",
       "      <td>0.308643</td>\n",
       "    </tr>\n",
       "    <tr>\n",
       "      <th>GCVS</th>\n",
       "      <td>2.448500e+06</td>\n",
       "      <td>0.308688</td>\n",
       "    </tr>\n",
       "    <tr>\n",
       "      <th>BAV</th>\n",
       "      <td>2.446343e+06</td>\n",
       "      <td>0.308684</td>\n",
       "    </tr>\n",
       "    <tr>\n",
       "      <th>DES</th>\n",
       "      <td>2.454388e+06</td>\n",
       "      <td>0.308627</td>\n",
       "    </tr>\n",
       "  </tbody>\n",
       "</table>\n",
       "</div>"
      ],
      "text/plain": [
       "              epoch    period\n",
       "AAVSO  2.442635e+06  0.308643\n",
       "GCVS   2.448500e+06  0.308688\n",
       "BAV    2.446343e+06  0.308684\n",
       "DES    2.454388e+06  0.308627"
      ]
     },
     "execution_count": 91,
     "metadata": {},
     "output_type": "execute_result"
    }
   ],
   "source": [
    "elements"
   ]
  },
  {
   "cell_type": "code",
   "execution_count": 92,
   "id": "6c09acbd-6776-44d5-a5da-cd6f31353bf5",
   "metadata": {},
   "outputs": [],
   "source": [
    "tmax=(t0_ap[1].to_value(\"jd\")+ltt0_helio[1].to_value(\"jd\"))"
   ]
  },
  {
   "cell_type": "code",
   "execution_count": 93,
   "id": "57d0658c",
   "metadata": {},
   "outputs": [
    {
     "data": {
      "text/html": [
       "<div>\n",
       "<style scoped>\n",
       "    .dataframe tbody tr th:only-of-type {\n",
       "        vertical-align: middle;\n",
       "    }\n",
       "\n",
       "    .dataframe tbody tr th {\n",
       "        vertical-align: top;\n",
       "    }\n",
       "\n",
       "    .dataframe thead th {\n",
       "        text-align: right;\n",
       "    }\n",
       "</style>\n",
       "<table border=\"1\" class=\"dataframe\">\n",
       "  <thead>\n",
       "    <tr style=\"text-align: right;\">\n",
       "      <th></th>\n",
       "      <th>O-C</th>\n",
       "    </tr>\n",
       "  </thead>\n",
       "  <tbody>\n",
       "    <tr>\n",
       "      <th>AAVSO</th>\n",
       "      <td>-0.107208</td>\n",
       "    </tr>\n",
       "    <tr>\n",
       "      <th>GCVS</th>\n",
       "      <td>-0.138912</td>\n",
       "    </tr>\n",
       "    <tr>\n",
       "      <th>BAV</th>\n",
       "      <td>-0.028391</td>\n",
       "    </tr>\n",
       "    <tr>\n",
       "      <th>DES</th>\n",
       "      <td>-0.000984</td>\n",
       "    </tr>\n",
       "  </tbody>\n",
       "</table>\n",
       "</div>"
      ],
      "text/plain": [
       "            O-C\n",
       "AAVSO -0.107208\n",
       "GCVS  -0.138912\n",
       "BAV   -0.028391\n",
       "DES   -0.000984"
      ]
     },
     "execution_count": 93,
     "metadata": {},
     "output_type": "execute_result"
    }
   ],
   "source": [
    "oc=pd.DataFrame(data=None,index=[\"AAVSO\",\"GCVS\",\"BAV\",\"DES\"],columns=[\"O-C\"])\n",
    "for dataset in elements.itertuples():\n",
    "    e=int((tmax-dataset.epoch)/dataset.period)\n",
    "    oc0=tmax-(dataset.epoch+e*dataset.period)\n",
    "    oc1=tmax-(dataset.epoch+(e+1)*dataset.period)\n",
    "    if abs(oc0) < abs(oc1):\n",
    "        oc.loc[dataset.Index][\"O-C\"]=oc0\n",
    "    else:\n",
    "        oc.loc[dataset.Index][\"O-C\"]=oc1\n",
    "oc"
   ]
  },
  {
   "cell_type": "code",
   "execution_count": 94,
   "id": "7c086f56-7f0d-4f6f-8c50-d537fc790488",
   "metadata": {},
   "outputs": [
    {
     "data": {
      "image/png": "[encoded data removed]",
      "text/plain": [
       "<Figure size 640x480 with 1 Axes>"
      ]
     },
     "metadata": {},
     "output_type": "display_data"
    }
   ],
   "source": [
    "ax = plt.subplot(111, frame_on=False) # no visible frame\n",
    "ax.xaxis.set_visible(False)  # hide the x axis\n",
    "ax.yaxis.set_visible(False)  # hide the y axis\n",
    "\n",
    "table(ax, oc)  # where df is your data frame\n",
    "\n",
    "plt.show()"
   ]
  },
  {
   "cell_type": "code",
   "execution_count": null,
   "id": "6483a55d-995d-4894-b0df-bae9618fc933",
   "metadata": {},
   "outputs": [
    {
     "name": "stdout",
     "output_type": "stream",
     "text": [
      "Requirement already satisfied: astropy in c:\\users\\user\\anaconda3\\lib\\site-packages (5.1)\n",
      "Requirement already satisfied: numpy>=1.18 in c:\\users\\user\\anaconda3\\lib\\site-packages (from astropy) (1.24.3)\n",
      "Requirement already satisfied: pyerfa>=2.0 in c:\\users\\user\\anaconda3\\lib\\site-packages (from astropy) (2.0.0)\n",
      "Requirement already satisfied: PyYAML>=3.13 in c:\\users\\user\\anaconda3\\lib\\site-packages (from astropy) (6.0)\n",
      "Requirement already satisfied: packaging>=19.0 in c:\\users\\user\\anaconda3\\lib\\site-packages (from astropy) (23.1)\n",
      "Note: you may need to restart the kernel to use updated packages.\n"
     ]
    }
   ],
   "source": [
    "pip install astropy"
   ]
  },
  {
   "cell_type": "code",
   "execution_count": null,
   "id": "5b788f9f-3c40-42ba-931e-59d652f3915e",
   "metadata": {},
   "outputs": [],
   "source": []
  }
 ],
 "metadata": {
  "kernelspec": {
   "display_name": "base",
   "language": "python",
   "name": "python3"
  },
  "language_info": {
   "codemirror_mode": {
    "name": "ipython",
    "version": 3
   },
   "file_extension": ".py",
   "mimetype": "text/x-python",
   "name": "python",
   "nbconvert_exporter": "python",
   "pygments_lexer": "ipython3",
   "version": "3.11.5"
  }
 },
 "nbformat": 4,
 "nbformat_minor": 5
}
