{
 "cells": [
  {
   "cell_type": "code",
   "execution_count": null,
   "id": "06bcb691",
   "metadata": {},
   "outputs": [],
   "source": [
    "import os\n",
    "import pandas as pd\n",
    "import matplotlib as mpl\n",
    "import matplotlib.pyplot as plt\n",
    "import scipy as sp\n",
    "import numpy as np\n",
    "import math\n",
    "from astropy import time, coordinates as coord, units as u\n",
    "import requests\n",
    "import matplotlib.dates as mdates\n",
    "from pandas.plotting import table"
   ]
  },
  {
   "cell_type": "markdown",
   "id": "ade16fca",
   "metadata": {},
   "source": [
    "Path to PixInsight photometry result files"
   ]
  },
  {
   "cell_type": "code",
   "execution_count": null,
   "id": "c361f36a",
   "metadata": {},
   "outputs": [],
   "source": [
    "target=\"TW Cas\"\n",
    "path=\"D:\\\\Astronomie\\\\SharpCap Captures\\\\20241104\\\\TW Cas\\\\work\\\\photometry\"\n",
    "filelist=os.listdir(path)"
   ]
  },
  {
   "cell_type": "markdown",
   "id": "ea005de9",
   "metadata": {},
   "source": [
    "Get AAVSO data from target variable"
   ]
  },
  {
   "cell_type": "code",
   "execution_count": null,
   "id": "e673b28f",
   "metadata": {},
   "outputs": [],
   "source": [
    "response = requests.get(f\"http://www.aavso.org/vsx/index.php?view=api.object&ident={target}&format=json\")   \n",
    "vsx_data=response.json()['VSXObject']\n",
    "vsx_data"
   ]
  },
  {
   "cell_type": "code",
   "execution_count": null,
   "id": "b9f0c327",
   "metadata": {},
   "outputs": [],
   "source": [
    "constellation=vsx_data['Constellation']\n",
    "star=vsx_data['Name']\n",
    "period= vsx_data['Period']\n",
    "position = coord.SkyCoord(vsx_data['RA2000'],vsx_data['Declination2000'],\n",
    "                        unit=(u.deg, u.deg), frame='icrs')\n",
    "observatory = coord.EarthLocation(lat=51.43, lon=6.82, height=40)"
   ]
  },
  {
   "cell_type": "markdown",
   "id": "7172b8df",
   "metadata": {},
   "source": [
    "Get Photometry field from AAVSO"
   ]
  },
  {
   "cell_type": "code",
   "execution_count": null,
   "id": "b785bd9f",
   "metadata": {},
   "outputs": [],
   "source": [
    "response = requests.get(f\"https://www.aavso.org/vsp/api/chart/?star={star}&fov=60&maglimit=15&format=json\")\n",
    "chart_data=response.json()\n",
    "chart_data"
   ]
  },
  {
   "cell_type": "code",
   "execution_count": null,
   "id": "b5c63ea0",
   "metadata": {},
   "outputs": [],
   "source": [
    "auid_list = []\n",
    "for photometry_data in chart_data['photometry']:\n",
    "    auid = photometry_data['auid']\n",
    "    ra=photometry_data['ra']\n",
    "    dec=photometry_data['dec']\n",
    "    for band_data in photometry_data['bands']:\n",
    "        if band_data['band'] == 'V':\n",
    "            mag = band_data['mag']\n",
    "            auid_list.append((auid, ra, dec, mag))"
   ]
  },
  {
   "cell_type": "code",
   "execution_count": null,
   "id": "280fa2d8",
   "metadata": {},
   "outputs": [],
   "source": [
    "auid_list"
   ]
  },
  {
   "cell_type": "markdown",
   "id": "a62950da",
   "metadata": {},
   "source": [
    "Match with PixInsight Photometry Table"
   ]
  },
  {
   "cell_type": "code",
   "execution_count": null,
   "id": "eaac1456",
   "metadata": {},
   "outputs": [],
   "source": [
    "file=filelist[0]\n",
    "df=pd.read_csv(path+\"\\\\\"+file,sep=\";\",skiprows=5)\n",
    "df.columns = df.columns.str.replace(' ', '')\n",
    "names= df[['NAME']].to_numpy()\n",
    "catalogue= df[['CATRA', 'CATDEC']].to_numpy()\n",
    "flags= df[['FLAG']].to_numpy() \n",
    "catalogue=coord.SkyCoord(catalogue[:,0],catalogue[:,1],unit=(u.deg, u.deg), frame='icrs')"
   ]
  },
  {
   "cell_type": "code",
   "execution_count": null,
   "id": "8c4a30b9",
   "metadata": {},
   "outputs": [],
   "source": [
    "idx,d2d,d3d=position.match_to_catalog_sky(catalogue)\n",
    "varstar=names[idx][0].replace(\" \", \"\")\n",
    "varstar"
   ]
  },
  {
   "cell_type": "code",
   "execution_count": null,
   "id": "a0d7c0a3",
   "metadata": {},
   "outputs": [],
   "source": [
    "star_data=np.array([(tup[1], tup[2]) for tup in auid_list])\n",
    "star_coord=coord.SkyCoord(star_data[:,0],star_data[:,1],unit=(u.hourangle, u.deg), frame='icrs')"
   ]
  },
  {
   "cell_type": "code",
   "execution_count": null,
   "id": "caa29257",
   "metadata": {},
   "outputs": [],
   "source": [
    "idx,d2d,d3d=star_coord.match_to_catalog_sky(catalogue)"
   ]
  },
  {
   "cell_type": "code",
   "execution_count": null,
   "id": "1444ab3c",
   "metadata": {},
   "outputs": [],
   "source": [
    "d2d"
   ]
  },
  {
   "cell_type": "code",
   "execution_count": null,
   "id": "fc949f5c",
   "metadata": {},
   "outputs": [],
   "source": [
    "df.iloc[idx]"
   ]
  },
  {
   "cell_type": "code",
   "execution_count": null,
   "id": "d1804327",
   "metadata": {},
   "outputs": [],
   "source": [
    "photometry_stars=[]\n",
    "photometry_mags=[]\n",
    "for i in range(len(auid_list)):\n",
    "    if d2d[i].arcsec < 10.0:\n",
    "        photometry_stars.append(names[idx[i]][0].replace(\" \", \"\"))\n",
    "        photometry_mags.append(auid_list[i][3])"
   ]
  },
  {
   "cell_type": "code",
   "execution_count": null,
   "id": "33194bca",
   "metadata": {},
   "outputs": [],
   "source": [
    "photometry_stars, photometry_mags"
   ]
  },
  {
   "cell_type": "code",
   "execution_count": null,
   "id": "164f8446",
   "metadata": {},
   "outputs": [],
   "source": [
    "photometry_stars.append('3UCAC312-021454')\n",
    "photometry_mags.append(9.957)"
   ]
  },
  {
   "cell_type": "code",
   "execution_count": null,
   "id": "f7e8fda4",
   "metadata": {},
   "outputs": [],
   "source": [
    "\n",
    "check=photometry_stars[2]\n",
    "compstar=photometry_stars[0:2]\n",
    "compstar_mag=photometry_mags[0:2]"
   ]
  },
  {
   "cell_type": "code",
   "execution_count": null,
   "id": "0d6f77d3",
   "metadata": {},
   "outputs": [],
   "source": [
    "compstar"
   ]
  },
  {
   "cell_type": "code",
   "execution_count": null,
   "id": "1fd925c7",
   "metadata": {},
   "outputs": [],
   "source": [
    "file=filelist[0]\n",
    "df=pd.read_csv(path+\"\\\\\"+file,sep=\";\",skiprows=5)\n",
    "df"
   ]
  },
  {
   "cell_type": "code",
   "execution_count": null,
   "id": "b7faf2cc",
   "metadata": {},
   "outputs": [],
   "source": [
    "t0=df.iloc[0,0]\n",
    "t0_iso=time.Time(t0,format=\"jd\")"
   ]
  },
  {
   "cell_type": "code",
   "execution_count": null,
   "id": "60346964",
   "metadata": {},
   "outputs": [],
   "source": [
    "l=[]\n",
    "for s in df.iloc[:,1]: l=l+[s.strip()]\n",
    "df.iloc[:,1]=l"
   ]
  },
  {
   "cell_type": "code",
   "execution_count": null,
   "id": "22190664-a23a-4034-a743-2d7029092ec0",
   "metadata": {},
   "outputs": [],
   "source": [
    "def snrlst(target,infiles):\n",
    "    target_snr=[]\n",
    "    for file in infiles:\n",
    "        df=pd.read_csv(path+\"\\\\\"+file,sep=\";\",skiprows=5)\n",
    "         #find target star\n",
    "        l=[]\n",
    "        for s in df.iloc[:,1]: l=l+[s.strip()]\n",
    "        df.iloc[:,1]=l\n",
    "        itarget=(df.iloc[:,1]==target)\n",
    "        target_snr=target_snr+[df.loc[itarget]]\n",
    "    target_snr=pd.concat(target_snr,ignore_index=True)\n",
    "    ind=[]\n",
    "    col=target_snr.columns.to_list()\n",
    "    for s in col:\n",
    "        ind = ind + [s.startswith(\"SNR\")]\n",
    "    target_snr=target_snr.loc[:,ind]\n",
    "    return target_snr.mean()"
   ]
  },
  {
   "cell_type": "code",
   "execution_count": null,
   "id": "96448943-1558-49e1-bf86-c49a43d92d1e",
   "metadata": {},
   "outputs": [],
   "source": [
    "snr=snrlst(varstar,filelist)\n",
    "snrmax=snr.idxmax()\n",
    "labelflux=snrmax.replace(\"SNR\",\"FLUX\")\n",
    "labelflux"
   ]
  },
  {
   "cell_type": "code",
   "execution_count": null,
   "id": "b01c371c",
   "metadata": {},
   "outputs": [],
   "source": [
    "def fluxcalc2(target,infiles,label_max):\n",
    "    target_flux=pd.DataFrame()\n",
    "    for file in infiles:\n",
    "        #read file\n",
    "        df=pd.read_csv(path+\"\\\\\"+file,sep=\";\",skiprows=5)\n",
    "        #find target star\n",
    "        l=[]\n",
    "        for s in df.iloc[:,1]: l=l+[s.strip()]\n",
    "        df.iloc[:,1]=l\n",
    "        itarget=(df.iloc[:,1]==target)\n",
    "        #read flux\n",
    "        flux=df.loc[itarget][['DATE_OBS     ',label_max]]\n",
    "        flux=flux.rename(columns={'DATE_OBS     ':\"DATE_OBS\",label_max:\"FLUX\"})\n",
    "        target_flux=pd.concat([target_flux,flux])\n",
    "    target_flux=target_flux.reset_index(drop=True)\n",
    "    return target_flux"
   ]
  },
  {
   "cell_type": "code",
   "execution_count": null,
   "id": "550894e4",
   "metadata": {},
   "outputs": [],
   "source": [
    "minind=0\n",
    "maxind=len(filelist)"
   ]
  },
  {
   "cell_type": "code",
   "execution_count": null,
   "id": "95aacb6b",
   "metadata": {},
   "outputs": [],
   "source": [
    "flux_var=fluxcalc2(varstar,filelist,labelflux)\n",
    "flux_check=fluxcalc2(check,filelist,labelflux)"
   ]
  },
  {
   "cell_type": "code",
   "execution_count": null,
   "id": "14793b44",
   "metadata": {},
   "outputs": [],
   "source": [
    "flux_comp=pd.DataFrame()\n",
    "flux_comp[\"DATE_OBS\"]=flux_var[\"DATE_OBS\"]\n",
    "flux_comp=flux_comp.reset_index(drop=True)\n",
    "for star in compstar:\n",
    "    flux=fluxcalc2(star,filelist,labelflux)\n",
    "    #flux = flux.reset_index(drop=True)\n",
    "    flux_comp[star]=flux['FLUX']\n",
    "print(flux_comp)   "
   ]
  },
  {
   "cell_type": "code",
   "execution_count": null,
   "id": "b0cce4a8",
   "metadata": {},
   "outputs": [],
   "source": [
    "t=flux_var.to_numpy()[minind:maxind,0]\n",
    "mag_var=flux_var.to_numpy()[minind:maxind,1]\n",
    "mag_check=flux_check.to_numpy()[minind:maxind,1]\n",
    "mag_comp=flux_comp.to_numpy()[minind:maxind,1:]"
   ]
  },
  {
   "cell_type": "code",
   "execution_count": null,
   "id": "2ce200af",
   "metadata": {},
   "outputs": [],
   "source": [
    "nstars = mag_comp.shape[1]+2\n",
    "nstars"
   ]
  },
  {
   "cell_type": "code",
   "execution_count": null,
   "id": "dc0310c3",
   "metadata": {},
   "outputs": [],
   "source": [
    "flux_var.to_csv(\"flux_var.csv\",index=False)"
   ]
  },
  {
   "cell_type": "code",
   "execution_count": null,
   "id": "f3f9c1ab-0e22-4538-a94d-0a0f13fca03f",
   "metadata": {},
   "outputs": [],
   "source": [
    "fig, ax = plt.subplots(nstars,1,figsize=(5.8,8.3), layout='constrained')\n",
    "fig.suptitle(\"raw data \" + \" \" + target + \" \" + t0_iso.iso )\n",
    "fig.supylabel(\"Flux [ADU]\")\n",
    "ax[0].plot(t,mag_var,\"bo\",ms=2)\n",
    "ax[0].set_title(varstar)\n",
    "ax[0].tick_params(axis=\"x\",labelbottom=False)\n",
    "ax[0].grid(visible=\"true\")\n",
    "ax[1].plot(t,mag_check,\"bo\",ms=2)\n",
    "ax[1].set_title(check)\n",
    "ax[1].grid(visible=\"true\")\n",
    "ax[1].tick_params(axis=\"x\",labelbottom=False)\n",
    "for i in range(2,nstars):\n",
    "    ax[i].plot(t,mag_comp[:,i-2],\"bo\",ms=2)\n",
    "    ax[i].set_title(compstar[i-2])\n",
    "    ax[i].grid(visible=\"true\")\n",
    "    ax[i].tick_params(axis=\"x\",labelbottom=False)\n",
    "ax[nstars-1].set_xlabel(\"JD\")\n",
    "ax[nstars-1].tick_params(axis=\"x\",labelbottom=True)\n",
    "\n",
    "fig.savefig(constellation+\"_\"+target.replace(constellation, \"\")+\"_\"+'%-8.4f'%(t0_iso.to_value(\"jd\")-2400000)+\"_\"+\"RAW_DATA\"+\".pdf\", format=\"pdf\")"
   ]
  },
  {
   "cell_type": "code",
   "execution_count": null,
   "id": "58443435",
   "metadata": {},
   "outputs": [],
   "source": [
    "flux_var"
   ]
  },
  {
   "cell_type": "code",
   "execution_count": null,
   "id": "67a98279",
   "metadata": {},
   "outputs": [],
   "source": [
    "flux_var[\"FLUX\"]=flux_var[\"FLUX\"].rolling(window=5,min_periods=1).mean()"
   ]
  },
  {
   "cell_type": "code",
   "execution_count": null,
   "id": "fd8b0595",
   "metadata": {},
   "outputs": [],
   "source": [
    "flux_comp[['3UCAC312-021632', '3UCAC312-021635']] = flux_comp[['3UCAC312-021632', '3UCAC312-021635']].rolling(window=5, min_periods=1).mean()\n",
    "print(flux_comp)"
   ]
  },
  {
   "cell_type": "code",
   "execution_count": null,
   "id": "56ad7f3d",
   "metadata": {},
   "outputs": [],
   "source": [
    "# Create a new DataFrame with the same column names as flux_comp\n",
    "mag_var = pd.DataFrame({'DATE_OBS': flux_comp['DATE_OBS']})\n",
    "\n",
    "# Calculate the new columns\n",
    "for star, mag0 in zip(compstar, compstar_mag):\n",
    "    mag_var[star] = -2.5 * np.log10(flux_var['FLUX'] / flux_comp[star]) + mag0\n",
    "\n",
    "print(mag_var)"
   ]
  },
  {
   "cell_type": "code",
   "execution_count": null,
   "id": "845c3d37",
   "metadata": {},
   "outputs": [],
   "source": [
    "# Identify the columns to be averaged (all columns except 'date_obs')\n",
    "columns_to_average = mag_var.columns.difference(['DATE_OBS'])\n",
    "\n",
    "# Calculate the row-wise mean for these columns\n",
    "mag_var['average'] = mag_var[columns_to_average].mean(axis=1)\n",
    "\n",
    "mag_var"
   ]
  },
  {
   "cell_type": "code",
   "execution_count": null,
   "id": "138cdb84",
   "metadata": {},
   "outputs": [],
   "source": [
    "mag_var.to_csv(constellation+\"_\"+target.replace(constellation, \"\")+\"_\"+'%-8.4f'%(t0_iso.to_value(\"jd\")-2400000)+\"_\"+\"MAG_DATA\"+\".csv\", sep=\";\", index=False)"
   ]
  },
  {
   "cell_type": "code",
   "execution_count": null,
   "id": "705c3e34",
   "metadata": {},
   "outputs": [],
   "source": [
    "#mag = mag_var['average'].to_numpy()\n",
    "mag = mag_var['3UCAC312-021635'].to_numpy()\n",
    "mag.shape"
   ]
  },
  {
   "cell_type": "code",
   "execution_count": null,
   "id": "e595cedc",
   "metadata": {},
   "outputs": [],
   "source": [
    "fig, ax = plt.subplots()  # Create a figure containing a single axes.\n",
    "ax.plot(t,mag,\"bo\",ms=2)  # Plot some data on the axes.\n",
    "#ax.set_ylim(12.7,12.8)\n",
    "ax.invert_yaxis()\n",
    "ax.grid(visible=True)"
   ]
  },
  {
   "cell_type": "code",
   "execution_count": null,
   "id": "389485b3",
   "metadata": {},
   "outputs": [],
   "source": [
    "# Create a new DataFrame with the same column names as flux_comp\n",
    "mag_check = pd.DataFrame({'DATE_OBS': flux_comp['DATE_OBS']})\n",
    "\n",
    "# Calculate the new columns\n",
    "for star, mag0 in zip(compstar, compstar_mag):\n",
    "    mag_check[star] = -2.5 * np.log10(flux_check['FLUX'] / flux_comp[star]) + mag0\n",
    "\n",
    "print(mag_check)"
   ]
  },
  {
   "cell_type": "code",
   "execution_count": null,
   "id": "39efe73a",
   "metadata": {},
   "outputs": [],
   "source": [
    "# Identify the columns to be averaged (all columns except 'date_obs')\n",
    "columns_to_average = mag_check.columns.difference(['DATE_OBS'])\n",
    "\n",
    "# Calculate the row-wise mean for these columns\n",
    "mag_check['average'] = mag_check[columns_to_average].mean(axis=1)\n",
    "\n",
    "mag_check"
   ]
  },
  {
   "cell_type": "code",
   "execution_count": null,
   "id": "75021472",
   "metadata": {},
   "outputs": [],
   "source": [
    "mag_c = mag_check['average'].to_numpy()\n",
    "mag.shape"
   ]
  },
  {
   "cell_type": "code",
   "execution_count": null,
   "id": "774049d1",
   "metadata": {},
   "outputs": [],
   "source": [
    "fig, ax = plt.subplots()  # Create a figure containing a single axes.\n",
    "ax.plot(t,mag_c,\"bo\",ms=2)  # Plot some data on the axes.\n",
    "ax.plot(t,mag,\"bo\",ms=2) \n",
    "ax.grid(visible=True)\n",
    "#ax.set_ylim(12.4,12.5)\n",
    "ax.invert_yaxis()"
   ]
  },
  {
   "cell_type": "code",
   "execution_count": null,
   "id": "ae43f117",
   "metadata": {},
   "outputs": [],
   "source": [
    "fig, ax = plt.subplots()  # Create a figure containing a single axes.\n",
    "ax.plot(t,mag_c,\"bo\",ms=2)  # Plot some data on the axes.\n",
    "#ax.plot(t,mag,\"bo\",ms=2) \n",
    "ax.grid(visible=True)\n",
    "#ax.set_ylim(12.4,12.5)\n",
    "ax.invert_yaxis()"
   ]
  },
  {
   "cell_type": "code",
   "execution_count": null,
   "id": "2689ad8d",
   "metadata": {},
   "outputs": [],
   "source": []
  },
  {
   "cell_type": "code",
   "execution_count": null,
   "id": "a8ff650d",
   "metadata": {},
   "outputs": [],
   "source": [
    "err_c=np.std(mag_c)\n",
    "err_c"
   ]
  },
  {
   "cell_type": "code",
   "execution_count": null,
   "id": "57c7b8a5",
   "metadata": {},
   "outputs": [],
   "source": [
    "lc=np.empty((mag.shape[0],3))\n",
    "lc[:,0]=t\n",
    "lc[:,1]=mag\n",
    "lc[:,2]=err_c"
   ]
  },
  {
   "cell_type": "code",
   "execution_count": null,
   "id": "8fb5df78",
   "metadata": {},
   "outputs": [],
   "source": [
    "t0=int(lc[0,0])\n",
    "t=lc[:,0]-t0\n",
    "mag=lc[:,1]\n",
    "merr=lc[:,2]"
   ]
  },
  {
   "cell_type": "code",
   "execution_count": null,
   "id": "ed9d9061",
   "metadata": {},
   "outputs": [],
   "source": [
    "t0_ap=time.Time(t0,format=\"jd\")\n",
    "t0_ap.to_value(\"iso\",subfmt=\"date\")"
   ]
  },
  {
   "cell_type": "code",
   "execution_count": null,
   "id": "e8439c49",
   "metadata": {},
   "outputs": [],
   "source": [
    "p=float(period)\n",
    "w=2*math.pi/p\n",
    "k=3\n",
    "C=np.stack([np.sin(i*w*t) for i in range(1,k+1)])\n",
    "B=np.stack([np.cos(i*w*t) for i in range(k+1)])\n",
    "A=np.concatenate((B,C)).T\n",
    "coeff = np.linalg.lstsq(A,mag,rcond=None)[0]"
   ]
  },
  {
   "cell_type": "code",
   "execution_count": null,
   "id": "e59670d0",
   "metadata": {},
   "outputs": [],
   "source": [
    "def lc_fourier(t,w,coeff):\n",
    "    n=coeff.shape[0]\n",
    "    mag=0\n",
    "    k=int((n-1)/2)\n",
    "    for i in range(0,k+1):\n",
    "        mag=mag+coeff[i]*np.cos(i*w*t)\n",
    "    for i in range(k+1,n):\n",
    "        mag=mag+coeff[i]*np.sin((i-k)*w*t)\n",
    "    return mag"
   ]
  },
  {
   "cell_type": "code",
   "execution_count": null,
   "id": "7bdbf529",
   "metadata": {},
   "outputs": [],
   "source": [
    "t_step=np.linspace(min(t),max(t),1000)"
   ]
  },
  {
   "cell_type": "code",
   "execution_count": null,
   "id": "2cd5da08",
   "metadata": {},
   "outputs": [],
   "source": [
    "x=lc_fourier(t_step,w,coeff)"
   ]
  },
  {
   "cell_type": "code",
   "execution_count": null,
   "id": "7af45be7",
   "metadata": {},
   "outputs": [],
   "source": [
    "ind=sp.signal.argrelmin(x)\n",
    "ind1=sp.signal.argrelmax(x)"
   ]
  },
  {
   "cell_type": "code",
   "execution_count": null,
   "id": "a0593287-cddd-48d8-9547-1489fca76f34",
   "metadata": {
    "tags": []
   },
   "outputs": [],
   "source": [
    "ind1"
   ]
  },
  {
   "cell_type": "code",
   "execution_count": null,
   "id": "32210116",
   "metadata": {},
   "outputs": [],
   "source": [
    "t0_ap=time.Time(t0+t_step[ind],format=\"jd\")\n",
    "t1_ap=time.Time(t0+t_step[ind1],format=\"jd\")\n",
    "t1_ap.to_value(\"iso\")"
   ]
  },
  {
   "cell_type": "code",
   "execution_count": null,
   "id": "a8d16882",
   "metadata": {},
   "outputs": [],
   "source": [
    "t"
   ]
  },
  {
   "cell_type": "code",
   "execution_count": null,
   "id": "5cbbf272",
   "metadata": {},
   "outputs": [],
   "source": [
    "#import kvw\n",
    "#result = kvw.kvw(t[50:220],10-mag[50:220], init_minflux=1,nfold=3,debug=3)\n",
    "#result"
   ]
  },
  {
   "cell_type": "code",
   "execution_count": null,
   "id": "0b006a6c",
   "metadata": {},
   "outputs": [],
   "source": [
    "#t0_ap = time.Time(t0+t_step[ind],format=\"jd\",\n",
    "#                  scale='utc', location=observatory)  \n",
    "t1_ap=time.Time(t0+t_step[ind1],format=\"jd\",\n",
    "                  scale=\"utc\",location=observatory)\n",
    "#ltt0_helio = t0_ap.light_travel_time(position,\"heliocentric\") \n",
    "ltt1_helio = t1_ap.light_travel_time(position,\"heliocentric\") \n",
    "ltt1_helio.to_value(\"jd\") "
   ]
  },
  {
   "cell_type": "code",
   "execution_count": null,
   "id": "e2efc817-f283-4494-a88c-67460b4b8dab",
   "metadata": {
    "tags": []
   },
   "outputs": [],
   "source": [
    "time.Time(t0+t_step[ind1],format=\"jd\",\n",
    "                  scale='utc', location=observatory)  "
   ]
  },
  {
   "cell_type": "code",
   "execution_count": null,
   "id": "4b0b9afb",
   "metadata": {},
   "outputs": [],
   "source": [
    "t_am=time.Time(t0+t_step,format=\"jd\",scale=\"utc\",location=observatory)\n",
    "frame=coord.AltAz(obstime=t_am,location=observatory)\n",
    "airmass=position.transform_to(frame).secz\n",
    "[airmass[0],airmass[999],np.min(airmass)]"
   ]
  },
  {
   "cell_type": "code",
   "execution_count": null,
   "id": "3f18ed0d",
   "metadata": {},
   "outputs": [],
   "source": [
    "description=[#[\"Maximum (UTC, geocentric)\",t0_ap[0].to_value(\"iso\")],\n",
    "             #[\"Maximum (HJD, time base UTC)\",'%-8.4f'%(t0_ap[0].to_value(\"jd\")+ltt0_helio[0].to_value(\"jd\"))+\"+/-0.002\"],\n",
    "             #[\"Maximum (UTC, geocentric)\",t0_ap[1].to_value(\"iso\")],\n",
    "             #[\"Maximum (HJD, time base UTC)\",'%-8.4f'%(t0_ap[1].to_value(\"jd\")+ltt0_helio[1].to_value(\"jd\"))+\"+/-0.002\"],\n",
    "             [\"Minimum (UTC, geocentric)\",t1_ap[0].to_value(\"iso\")],\n",
    "             [\"Minimim (HJD, time base UTC)\",'%-8.4f'%(t1_ap[0].to_value(\"jd\")+ltt1_helio[0].to_value(\"jd\"))+\"+/-0.002\"],\n",
    "             #[\"Minimum (UTC, geocentric)\",t1_ap[1].to_value(\"iso\")],\n",
    "             #[\"Minimim (HJD, time base UTC)\",'%-8.4f'%(t1_ap[1].to_value(\"jd\")+ltt1_helio[1].to_value(\"jd\"))+\"+/-0.002\"],\n",
    "             [\"Observer\",\"Deeskow, DES\"],\n",
    "             [\"Instrumnent\",\"CFF140 f/6.6, ASI1600mm with V Filter\"],\n",
    "             [\"Comparison Star\",compstar[0]],\n",
    "#             [\"\",compstar[1]],\n",
    "#             [\"\",compstar[2]],\n",
    "             [\"Photometry\",\"PixInsight Photometry Skript\"],\n",
    "             [\"Evaluation\",\"Fourier-Fit\"],\n",
    "             [\"Airmass\",\"1.072 ... 1.028 ... 1.174\"],\n",
    "             [\"Number of Measurements\",str(lc.shape[0])]\n",
    "            ]\n",
    "title=target + \" \" + \"             \"+t1_ap[0].to_value(\"iso\",subfmt=\"date\")"
   ]
  },
  {
   "cell_type": "code",
   "execution_count": null,
   "id": "62924ff7",
   "metadata": {},
   "outputs": [],
   "source": [
    "tiso=time.Time(t0+t,format=\"jd\")\n",
    "t_step_iso=time.Time(t0+t_step,format=\"jd\")\n",
    "jd0=t_step_iso[0].jd"
   ]
  },
  {
   "cell_type": "code",
   "execution_count": null,
   "id": "a3b1bfa5",
   "metadata": {},
   "outputs": [],
   "source": [
    "mpl0=mpl.dates.date2num(t_step_iso[0].datetime)"
   ]
  },
  {
   "cell_type": "code",
   "execution_count": null,
   "id": "4bd3ae7f",
   "metadata": {},
   "outputs": [],
   "source": [
    "def jd2mpl(tin):\n",
    "    tout=tin+mpl0-jd0-ltt1_helio[0].to_value(\"jd\")+int(jd0)\n",
    "    return tout"
   ]
  },
  {
   "cell_type": "code",
   "execution_count": null,
   "id": "e9908930",
   "metadata": {},
   "outputs": [],
   "source": [
    "def mpl2jd(tin):\n",
    "    tout=tin-mpl0+jd0+ltt1_helio[0].to_value(\"jd\")-int(jd0) \n",
    "    return tout"
   ]
  },
  {
   "cell_type": "code",
   "execution_count": null,
   "id": "528329fb",
   "metadata": {},
   "outputs": [],
   "source": [
    "fig, (ax,ax1) = plt.subplots(2,1,height_ratios=[1,1],figsize=(5.8,8.3))\n",
    "fig.suptitle(title,x=0.5,y=0.97,ha=\"center\")\n",
    "ax.clear()\n",
    "ax.errorbar(tiso.datetime,mag,yerr=merr,elinewidth=0.5,marker=\"o\",ms=2,linestyle=\"none\")\n",
    "ax.plot(t_step_iso.datetime,lc_fourier(t_step,w,coeff),\"b--\",linewidth=1)  \n",
    "#for i in ind[0]:\n",
    "#   ax.axvline(t_step_iso[i].datetime,0,1,color='dimgrey',ls=\"--\")\n",
    "for i in ind1[0]:\n",
    "    ax.axvline(t_step_iso[i].datetime,0,1,color='dimgrey',ls=\"--\")\n",
    "ax.invert_yaxis()\n",
    "ax.minorticks_on()\n",
    "ax.grid(visible=True,which=\"both\")\n",
    "ax.set_xlabel(\"UTC\")\n",
    "ax.xaxis.set_major_formatter(mdates.DateFormatter('%H:%M'))\n",
    "#ax.set_xlabel(\"JD \"+'%-8.0f'%(int(t0_ap.to_value(\"jd\"))))\n",
    "ax.set_ylabel(\"Magnitude\")\n",
    "\n",
    "secax = ax.secondary_xaxis('top', functions=(mpl2jd,jd2mpl))\n",
    "secax.set_xlabel('HJD'+\" \"+str(int(jd0))+\" +\")\n",
    "#pticks=ax.get_xticks()\n",
    "#secax.set_xticks(mpl2jd(pticks))\n",
    "secax.minorticks_on()\n",
    "\n",
    "ax1.tick_params(\n",
    "    axis=\"both\",\n",
    "    which=\"both\",\n",
    "    bottom=False,\n",
    "    top=False,\n",
    "    left=False,\n",
    "    right=False,\n",
    "    labelbottom=False,\n",
    "    labeltop=False,\n",
    "    labelleft=False,\n",
    "    labelright=False)\n",
    "ax1.set_axis_off()\n",
    "ax1.table(description,loc=\"upper center\",cellLoc=\"left\",edges=\"\")\n",
    "\n",
    "fig.savefig(constellation+\"_\"+target.replace(constellation, \"\")+\"_\"+'%-8.4f'%(t1_ap[0].jd-2400000+ltt1_helio[0].to_value(\"jd\"))+\"_\"+\"DES\"+\".pdf\", format=\"pdf\")\n",
    "    "
   ]
  },
  {
   "cell_type": "code",
   "execution_count": null,
   "id": "862bc389-7e74-442d-95da-d6e3a98777b8",
   "metadata": {},
   "outputs": [],
   "source": [
    "fig, ax = plt.subplots(1,1,height_ratios=[1],figsize=(5.8,5.8))\n",
    "fig.suptitle(title,x=0.5,y=0.97,ha=\"center\")\n",
    "ax.clear()\n",
    "ax.errorbar(tiso.datetime,mag,yerr=merr,elinewidth=0.5,marker=\"o\",ms=2,linestyle=\"none\")\n",
    "ax.plot(t_step_iso.datetime,lc_fourier(t_step,w,coeff),\"b--\",linewidth=1)  \n",
    "for i in ind[0]:\n",
    "    ax.axvline(t_step_iso[i].datetime,0,1,color='dimgrey',ls=\"--\")\n",
    "for i in ind1[0]:\n",
    "    ax.axvline(t_step_iso[i].datetime,0,1,color='dimgrey',ls=\"--\")\n",
    "ax.invert_yaxis()\n",
    "ax.minorticks_on()\n",
    "ax.grid(visible=True,which=\"both\")\n",
    "ax.set_xlabel(\"UTC\")\n",
    "ax.xaxis.set_major_formatter(mdates.DateFormatter('%H:%M'))\n",
    "#ax.set_xlabel(\"JD \"+'%-8.0f'%(int(t0_ap.to_value(\"jd\"))))\n",
    "ax.set_ylabel(\"Magnitude\")\n",
    "\n",
    "secax = ax.secondary_xaxis('top', functions=(mpl2jd,jd2mpl))\n",
    "secax.set_xlabel('HJD'+\" \"+str(int(jd0))+\" +\")\n",
    "#pticks=ax.get_xticks()\n",
    "#secax.set_xticks(mpl2jd(pticks))\n",
    "secax.minorticks_on()\n",
    "\n",
    "\n",
    "fig.savefig(constellation+\"_\"+target.replace(constellation, \"\")+\"_\"+'%-8.4f'%(t0_ap[0].jd-2400000+ltt0_helio[0].to_value(\"jd\"))+\"_\"+\"DES\"+\".png\", format=\"png\")\n",
    "    "
   ]
  },
  {
   "cell_type": "code",
   "execution_count": null,
   "id": "818a81ce",
   "metadata": {},
   "outputs": [],
   "source": [
    "maxlist=[]\n",
    "for i in range(t0_ap.shape[0]): \n",
    "    maximum=[constellation,\n",
    "         target.replace(constellation, \"\"),\n",
    "         \"max\",\n",
    "         '%-8.4f'%(t0_ap[i].to_value(\"jd\")),\n",
    "         '%-8.4f'%(t0_ap[i].to_value(\"jd\")+ltt0_helio[i].to_value(\"jd\")),\n",
    "         '0.002',\n",
    "         \"na\",\n",
    "         \"na\",\n",
    "         '%-6.3f'%(lc_fourier(t0_ap[i].jd-t0,w,coeff)),\n",
    "         \"C\",\n",
    "         \"ASI1600MM\",\n",
    "         \"V\",\n",
    "         str(lc.shape[0]),\n",
    "         \"DES\",\n",
    "         \"na\"\n",
    "        ]\n",
    "    maxout=\"\"\n",
    "    for entry in maximum:\n",
    "        maxout=maxout+entry+\"|\"\n",
    "    maxlist=maxlist+[maxout]   \n",
    "        \n",
    "maxlist"
   ]
  },
  {
   "cell_type": "code",
   "execution_count": null,
   "id": "57403a76",
   "metadata": {},
   "outputs": [],
   "source": [
    "minlist=[]\n",
    "for i in range(t1_ap.shape[0]):\n",
    "    minimum=[constellation,\n",
    "         target.replace(constellation, \"\"),\n",
    "         \"min\",\n",
    "         '%-8.4f'%(t1_ap[i].to_value(\"jd\")),\n",
    "         '%-8.4f'%(t1_ap[i].to_value(\"jd\")+ltt1_helio[i].to_value(\"jd\")),\n",
    "         '0.002',\n",
    "         \"na\",\n",
    "         \"na\",\n",
    "         '%-6.3f'%(lc_fourier(t1_ap[i].jd-t0,w,coeff)),\n",
    "         \"C\",\n",
    "         \"ASI1600MM\",\n",
    "         \"V\",\n",
    "         str(lc.shape[0]),\n",
    "         \"DES\",\n",
    "         \"na\"\n",
    "        ]\n",
    "    minout=\"\"\n",
    "    for entry in minimum:\n",
    "        minout=minout+entry+\"|\"\n",
    "    minlist=minlist+[minout]  \n",
    "minlist"
   ]
  },
  {
   "cell_type": "code",
   "execution_count": null,
   "id": "842cab7e",
   "metadata": {},
   "outputs": [],
   "source": [
    "f=open(constellation+\"_\"+target.replace(constellation, \"\")+\"_\"+'%-8.4f'%(t0_ap[i].jd-2400000+ltt0_helio[i].to_value(\"jd\"))+\"_\"+\"DES\"+\"_MiniMax\"+\".txt\",\"w\")\n",
    "f.write(\"#TYPE=BAVMiniMax\")\n",
    "f.write(\"\\n\")\n",
    "f.write(\"#Delim=|\")\n",
    "f.write(\"\\n\")\n",
    "for line in maxlist:\n",
    "    f.write(line)\n",
    "    f.write(\"\\n\")\n",
    "for line in minlist:\n",
    "    f.write(line)\n",
    "    f.write(\"\\n\")\n",
    "f.close()"
   ]
  },
  {
   "cell_type": "code",
   "execution_count": null,
   "id": "075267eb",
   "metadata": {},
   "outputs": [],
   "source": [
    "np.savetxt(constellation+\"_\"+target.replace(constellation, \"\")+\"_\"+'%-8.4f'%(t0_ap[0].jd-2400000+ltt0_helio[0].to_value(\"jd\"))+\"_\"+\"DES\"+\"_BAVReport\"+\".txt\",lc,fmt=\"%-8.4f\",header=\"BAV-Report\"+\"\\n\"+\"Rem=\")"
   ]
  },
  {
   "cell_type": "code",
   "execution_count": null,
   "id": "aa0071da",
   "metadata": {
    "tags": []
   },
   "outputs": [],
   "source": [
    "data=np.array([(2442635.374,2448500.0334,2454388.5221,2454388.0832),(0.30864291,0.3086876,0.308626840,0.30862741)])\n",
    "data=np.transpose(data)"
   ]
  },
  {
   "cell_type": "code",
   "execution_count": null,
   "id": "99703eef",
   "metadata": {},
   "outputs": [],
   "source": [
    "data=np.array([(2442635.374,2448500.0334,2446342.6620,2454388.0832),(0.30864291,0.3086876,0.30868420,0.30862741)])\n",
    "data=np.transpose(data)"
   ]
  },
  {
   "cell_type": "code",
   "execution_count": null,
   "id": "f7af90b2-8d7f-48ce-aee5-e52035a018ba",
   "metadata": {
    "tags": []
   },
   "outputs": [],
   "source": [
    "elements=pd.DataFrame(data,columns=[\"epoch\",\"period\"],index=[\"AAVSO\",\"GCVS\",\"BAV\",\"DES\"])"
   ]
  },
  {
   "cell_type": "code",
   "execution_count": null,
   "id": "ecc890b4-55d3-4638-9a90-a94304fa7718",
   "metadata": {},
   "outputs": [],
   "source": [
    "elements"
   ]
  },
  {
   "cell_type": "code",
   "execution_count": null,
   "id": "6c09acbd-6776-44d5-a5da-cd6f31353bf5",
   "metadata": {},
   "outputs": [],
   "source": [
    "tmax=(t0_ap[1].to_value(\"jd\")+ltt0_helio[1].to_value(\"jd\"))"
   ]
  },
  {
   "cell_type": "code",
   "execution_count": null,
   "id": "57d0658c",
   "metadata": {},
   "outputs": [],
   "source": [
    "oc=pd.DataFrame(data=None,index=[\"AAVSO\",\"GCVS\",\"BAV\",\"DES\"],columns=[\"O-C\"])\n",
    "for dataset in elements.itertuples():\n",
    "    e=int((tmax-dataset.epoch)/dataset.period)\n",
    "    oc0=tmax-(dataset.epoch+e*dataset.period)\n",
    "    oc1=tmax-(dataset.epoch+(e+1)*dataset.period)\n",
    "    if abs(oc0) < abs(oc1):\n",
    "        oc.loc[dataset.Index][\"O-C\"]=oc0\n",
    "    else:\n",
    "        oc.loc[dataset.Index][\"O-C\"]=oc1\n",
    "oc"
   ]
  },
  {
   "cell_type": "code",
   "execution_count": null,
   "id": "7c086f56-7f0d-4f6f-8c50-d537fc790488",
   "metadata": {},
   "outputs": [],
   "source": [
    "ax = plt.subplot(111, frame_on=False) # no visible frame\n",
    "ax.xaxis.set_visible(False)  # hide the x axis\n",
    "ax.yaxis.set_visible(False)  # hide the y axis\n",
    "\n",
    "table(ax, oc)  # where df is your data frame\n",
    "\n",
    "plt.show()"
   ]
  },
  {
   "cell_type": "code",
   "execution_count": null,
   "id": "6483a55d-995d-4894-b0df-bae9618fc933",
   "metadata": {},
   "outputs": [],
   "source": [
    "pip install astropy"
   ]
  },
  {
   "cell_type": "code",
   "execution_count": null,
   "id": "5b788f9f-3c40-42ba-931e-59d652f3915e",
   "metadata": {},
   "outputs": [],
   "source": []
  }
 ],
 "metadata": {
  "kernelspec": {
   "display_name": "base",
   "language": "python",
   "name": "python3"
  },
  "language_info": {
   "codemirror_mode": {
    "name": "ipython",
    "version": 3
   },
   "file_extension": ".py",
   "mimetype": "text/x-python",
   "name": "python",
   "nbconvert_exporter": "python",
   "pygments_lexer": "ipython3",
   "version": "3.11.5"
  }
 },
 "nbformat": 4,
 "nbformat_minor": 5
}
